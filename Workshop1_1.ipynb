{
 "cells": [
  {
   "cell_type": "markdown",
   "metadata": {},
   "source": [
    "# Проект - \"Мастерская №1\""
   ]
  },
  {
   "cell_type": "markdown",
   "metadata": {},
   "source": [
    "Имеются данные о деятельности Стартапах. Требуется на основании этих данных разработать модель машинного обучения для предсказания продолжения деятельности стартапа. "
   ]
  },
  {
   "cell_type": "markdown",
   "metadata": {
    "id": "H6cQIZr3ElW1"
   },
   "source": [
    "\n",
    "# Содержание\n",
    "1. [Введение](#Введение)\n",
    "    1. [Краткое описание проекта](#краткое_описание)\n",
    "    2. [Цели и задачи исследования](#цели)\n",
    "2. [Загрузка данных](#подготовка_данных)\n",
    "    1. [Загрузка данных](#загрузка_данных)\n",
    "    2. [Предобработка данных](#предобработка_данных)\n",
    "    3. [Промежуточные выводы этапа предобработки и объединения данных¶](#Промежуточные_выводы0)\n",
    "3. [Полноценный разведочный анализ](#анализ)\n",
    "    1. [Промежуточные выводы раздела](#Промежуточные_выводы1)\n",
    "4. [Разработка новых синтетических признаков](#объединение)\n",
    "    1. [Промежуточные выводы раздела](#Промежуточные_выводы2)\n",
    "5. [Проверка на мультиколлинеарность](#корреляция)\n",
    "    1. [Промежуточные выводы раздела](#Промежуточные_выводы3)\n",
    "6. [Отбор финального набора обучающих признаков](#пайплайн)\n",
    "7. [Выбор и обучение моделей](#Анализ)\n",
    "8. [Итоговая оценка качества предсказания лучшей модели](#Сегментация)\n",
    "9. [Анализ важности ее признаков](#Вывод)\n",
    "    \n",
    "    \n",
    "    "
   ]
  },
  {
   "cell_type": "markdown",
   "metadata": {},
   "source": [
    "<div  style=\"border-radius: 10px; box-shadow: 2px 2px 2px; border: 1px solid; padding: 10px \">\n",
    "\n",
    "\n",
    "# Проект - \"Мастерская №1\"\n",
    "    \n",
    "<a id=\"Введение\"></a>\n",
    "### Введение    \n",
    "    \n",
    "<a id=\"краткое_описание\"></a>\n",
    "### Краткое описание проекта    \n",
    "        \n",
    "Представлены табличные данные, в которых представлена информация о стартапах, которые функционировали в период с 1980 по 2018 годы. Вам нужно предсказать, какие из них закроются, а какие нет.\n",
    "\n",
    "    \n",
    "<a id=\"цели\"></a>\n",
    "### Цели и задачи исследования       \n",
    "\n",
    "<b>Цель проекта</b> — Разработать модель машинного обучения для предсказания продолжения деятельности стартапа.\n",
    "\n",
    "Провести полноценный разведочный анализ и сформировать рекомендации будущим создателям стартапов (какие факторы влияют на успешность стартапа).\n",
    "\n",
    "Этапы выполнения проекта:\n",
    "    \n",
    "<b>Шаг №1. Загрузка и ознакомление с данными</b>\n",
    "\n",
    "1.1 Загрузить данные. Файлы kaggle_startups_train_28062024.csv, kaggle_startups_test_28062024.csv, kaggle_startups_sample_submit_28062024.csv. Пути к ним:\n",
    "- /Users/antonserbin/Data/kaggle_startups_train_28062024.csv\n",
    "- /Users/antonserbin/Data/kaggle_startups_test_28062024.csv\n",
    "- /Users/antonserbin/Data/kaggle_startups_sample_submit_28062024.csv.\n",
    "\n",
    "<b>Шаг №2. Предварительная обработка данных</b>\n",
    "\n",
    "<b>Шаг №3. Полноценный разведочный анализ</b>\n",
    "\n",
    "<b>Шаг №4. Разработка новых синтетических признаков</b>\n",
    "\n",
    "<b>Шаг №5. Проверка на мультиколлинеарность</b>\n",
    "\n",
    "<b>Шаг №6. Отбор финального набора обучающих признаков</b>\n",
    "\n",
    "<b>Шаг №7. Выбор и обучение моделей</b>\n",
    "    \n",
    "<b>Шаг №8. Итоговая оценка качества предсказания лучшей модели</b>\n",
    "    \n",
    "<b>Шаг №9. Анализ важности ее признаков</b>\n",
    "\n",
    "<b>Шаг №10. Отчет по исследованию</b>\n",
    "    "
   ]
  },
  {
   "cell_type": "markdown",
   "metadata": {},
   "source": [
    "<a id=\"подготовка_данных\"></a>\n",
    "\n",
    "# Шаг №1. Загрузка и ознакомление с данными"
   ]
  },
  {
   "cell_type": "markdown",
   "metadata": {},
   "source": [
    "<div  style=\"border-radius: 10px; box-shadow: 2px 2px 2px; border: 1px solid; padding: 10px \">\n",
    "\n",
    "1.1 Загрузить данные. Файлы kaggle_startups_train_28062024.csv, kaggle_startups_test_28062024.csv, kaggle_startups_sample_submit_28062024.csv. Пути к ним:\n",
    "\n",
    "/Users/antonserbin/Data/kaggle_startups_train_28062024.csv\n",
    "\n",
    "/Users/antonserbin/Data/kaggle_startups_test_28062024.csv\n",
    "\n",
    "/Users/antonserbin/Data/kaggle_startups_sample_submit_28062024.csv."
   ]
  },
  {
   "cell_type": "markdown",
   "metadata": {},
   "source": [
    "<div  style=\"border-radius: 10px; box-shadow: 2px 2px 2px; border: 1px solid; padding: 10px \">\n",
    "<a id=\"загрузка_данных\"></a>\n",
    "\n",
    "Загрузка всех требуемых библиотек\n",
    "    \n",
    "С целью обеспечения удобства для других разработчиков или коллег, которые будут просматривать или использовать код. Сгруппируем все необходимые импорты. Это обеспечивает четкое понимание того, какие библиотеки и инструменты будут использоваться в нашем проекте.\n",
    "    Импортируем необходимые библиотеки (pandas, matplotlib, seaborn и т.д.) и функции."
   ]
  },
  {
   "cell_type": "code",
   "execution_count": 23,
   "metadata": {},
   "outputs": [],
   "source": [
    "#pip uninstall scikit-learn imbalanced-learn"
   ]
  },
  {
   "cell_type": "code",
   "execution_count": 25,
   "metadata": {},
   "outputs": [
    {
     "name": "stdout",
     "output_type": "stream",
     "text": [
      "Note: you may need to restart the kernel to use updated packages.\n"
     ]
    }
   ],
   "source": [
    "pip install shap -q"
   ]
  },
  {
   "cell_type": "code",
   "execution_count": 26,
   "metadata": {},
   "outputs": [
    {
     "name": "stdout",
     "output_type": "stream",
     "text": [
      "Note: you may need to restart the kernel to use updated packages.\n"
     ]
    }
   ],
   "source": [
    "pip install imbalanced-learn -q"
   ]
  },
  {
   "cell_type": "code",
   "execution_count": 27,
   "metadata": {},
   "outputs": [
    {
     "name": "stdout",
     "output_type": "stream",
     "text": [
      "Note: you may need to restart the kernel to use updated packages.\n"
     ]
    }
   ],
   "source": [
    "pip install phik -q"
   ]
  },
  {
   "cell_type": "code",
   "execution_count": 28,
   "metadata": {},
   "outputs": [
    {
     "name": "stdout",
     "output_type": "stream",
     "text": [
      "Note: you may need to restart the kernel to use updated packages.\n"
     ]
    }
   ],
   "source": [
    "pip install -U scikit-learn -q"
   ]
  },
  {
   "cell_type": "code",
   "execution_count": 130,
   "metadata": {},
   "outputs": [],
   "source": [
    "# Стандартные библиотеки\n",
    "import warnings\n",
    "from io import StringIO\n",
    "\n",
    "# Библиотеки сторонних разработчиков\n",
    "import os\n",
    "from imblearn.over_sampling import SMOTE\n",
    "import phik\n",
    "from phik import resources, report\n",
    "import shap\n",
    "from scipy import stats\n",
    "import matplotlib.pyplot as plt\n",
    "import numpy as np\n",
    "import pandas as pd\n",
    "import seaborn as sns\n",
    "from sklearn.preprocessing import LabelEncoder\n",
    "from sklearn.compose import ColumnTransformer\n",
    "from sklearn.impute import SimpleImputer\n",
    "from sklearn.linear_model import LinearRegression, LogisticRegression\n",
    "from sklearn.ensemble import RandomForestClassifier\n",
    "from sklearn.tree import DecisionTreeClassifier\n",
    "from sklearn.svm import SVC\n",
    "from sklearn.metrics import (accuracy_score, confusion_matrix, mean_absolute_error,\n",
    "                             roc_auc_score, classification_report)\n",
    "from sklearn.model_selection import GridSearchCV, train_test_split, RandomizedSearchCV, cross_val_score\n",
    "from sklearn.pipeline import Pipeline\n",
    "from sklearn.preprocessing import OneHotEncoder, OrdinalEncoder, StandardScaler, MinMaxScaler, RobustScaler\n",
    "from statsmodels.stats.outliers_influence import variance_inflation_factor\n",
    "from imblearn.over_sampling import RandomOverSampler\n",
    "from sklearn.cluster import KMeans\n",
    "\n",
    "# Постоянные\n",
    "RANDOM_STATE = 42\n",
    "TEST_SIZE = 0.25"
   ]
  },
  {
   "cell_type": "markdown",
   "metadata": {},
   "source": [
    "<div  style=\"border-radius: 10px; box-shadow: 2px 2px 2px; border: 1px solid; padding: 10px \">\n",
    "    \n",
    "Загрузка данных и вывод 5 первых строк со всех датафреймов."
   ]
  },
  {
   "cell_type": "code",
   "execution_count": 36,
   "metadata": {},
   "outputs": [
    {
     "name": "stdout",
     "output_type": "stream",
     "text": [
      "Информация о датафрейме train_data:\n",
      "\n",
      "<class 'pandas.core.frame.DataFrame'>\n",
      "RangeIndex: 52516 entries, 0 to 52515\n",
      "Data columns (total 13 columns):\n",
      " #   Column             Non-Null Count  Dtype \n",
      "---  ------             --------------  ----- \n",
      " 0   name               52515 non-null  object\n",
      " 1   category_list      50051 non-null  object\n",
      " 2   funding_total_usd  42447 non-null  object\n",
      " 3   status             52516 non-null  object\n",
      " 4   country_code       47014 non-null  object\n",
      " 5   state_code         45753 non-null  object\n",
      " 6   region             46157 non-null  object\n",
      " 7   city               46157 non-null  object\n",
      " 8   funding_rounds     52516 non-null  int64 \n",
      " 9   founded_at         52516 non-null  object\n",
      " 10  first_funding_at   52516 non-null  object\n",
      " 11  last_funding_at    52516 non-null  object\n",
      " 12  closed_at          4917 non-null   object\n",
      "dtypes: int64(1), object(12)\n",
      "memory usage: 5.2+ MB\n"
     ]
    },
    {
     "data": {
      "text/html": [
       "<div>\n",
       "<style scoped>\n",
       "    .dataframe tbody tr th:only-of-type {\n",
       "        vertical-align: middle;\n",
       "    }\n",
       "\n",
       "    .dataframe tbody tr th {\n",
       "        vertical-align: top;\n",
       "    }\n",
       "\n",
       "    .dataframe thead th {\n",
       "        text-align: right;\n",
       "    }\n",
       "</style>\n",
       "<table border=\"1\" class=\"dataframe\">\n",
       "  <thead>\n",
       "    <tr style=\"text-align: right;\">\n",
       "      <th></th>\n",
       "      <th>name</th>\n",
       "      <th>category_list</th>\n",
       "      <th>funding_total_usd</th>\n",
       "      <th>status</th>\n",
       "      <th>country_code</th>\n",
       "      <th>state_code</th>\n",
       "      <th>region</th>\n",
       "      <th>city</th>\n",
       "      <th>funding_rounds</th>\n",
       "      <th>founded_at</th>\n",
       "      <th>first_funding_at</th>\n",
       "      <th>last_funding_at</th>\n",
       "      <th>closed_at</th>\n",
       "    </tr>\n",
       "  </thead>\n",
       "  <tbody>\n",
       "    <tr>\n",
       "      <th>0</th>\n",
       "      <td>Lunchgate</td>\n",
       "      <td>Online Reservations|Restaurants</td>\n",
       "      <td>828626.0</td>\n",
       "      <td>operating</td>\n",
       "      <td>CHE</td>\n",
       "      <td>25</td>\n",
       "      <td>Zurich</td>\n",
       "      <td>Zürich</td>\n",
       "      <td>2</td>\n",
       "      <td>2009-10-17</td>\n",
       "      <td>2011-05-01</td>\n",
       "      <td>2014-12-01</td>\n",
       "      <td>NaN</td>\n",
       "    </tr>\n",
       "    <tr>\n",
       "      <th>1</th>\n",
       "      <td>EarLens</td>\n",
       "      <td>Manufacturing|Medical|Medical Devices</td>\n",
       "      <td>42935019.0</td>\n",
       "      <td>operating</td>\n",
       "      <td>USA</td>\n",
       "      <td>CA</td>\n",
       "      <td>SF Bay Area</td>\n",
       "      <td>Redwood City</td>\n",
       "      <td>4</td>\n",
       "      <td>2005-01-01</td>\n",
       "      <td>2010-05-04</td>\n",
       "      <td>2014-02-25</td>\n",
       "      <td>NaN</td>\n",
       "    </tr>\n",
       "    <tr>\n",
       "      <th>2</th>\n",
       "      <td>Reviva Pharmaceuticals</td>\n",
       "      <td>Biotechnology</td>\n",
       "      <td>35456381.0</td>\n",
       "      <td>operating</td>\n",
       "      <td>USA</td>\n",
       "      <td>CA</td>\n",
       "      <td>SF Bay Area</td>\n",
       "      <td>San Jose</td>\n",
       "      <td>3</td>\n",
       "      <td>2006-01-01</td>\n",
       "      <td>2012-08-20</td>\n",
       "      <td>2014-07-02</td>\n",
       "      <td>NaN</td>\n",
       "    </tr>\n",
       "    <tr>\n",
       "      <th>3</th>\n",
       "      <td>Sancilio and Company</td>\n",
       "      <td>Health Care</td>\n",
       "      <td>22250000.0</td>\n",
       "      <td>operating</td>\n",
       "      <td>NaN</td>\n",
       "      <td>NaN</td>\n",
       "      <td>NaN</td>\n",
       "      <td>NaN</td>\n",
       "      <td>3</td>\n",
       "      <td>2004-01-01</td>\n",
       "      <td>2011-09-01</td>\n",
       "      <td>2014-07-18</td>\n",
       "      <td>NaN</td>\n",
       "    </tr>\n",
       "    <tr>\n",
       "      <th>4</th>\n",
       "      <td>WireTough Cylinders</td>\n",
       "      <td>Manufacturing</td>\n",
       "      <td>NaN</td>\n",
       "      <td>operating</td>\n",
       "      <td>USA</td>\n",
       "      <td>VA</td>\n",
       "      <td>VA - Other</td>\n",
       "      <td>Bristol</td>\n",
       "      <td>1</td>\n",
       "      <td>2010-05-12</td>\n",
       "      <td>2012-02-01</td>\n",
       "      <td>2012-02-01</td>\n",
       "      <td>NaN</td>\n",
       "    </tr>\n",
       "  </tbody>\n",
       "</table>\n",
       "</div>"
      ],
      "text/plain": [
       "                     name                          category_list  \\\n",
       "0               Lunchgate        Online Reservations|Restaurants   \n",
       "1                 EarLens  Manufacturing|Medical|Medical Devices   \n",
       "2  Reviva Pharmaceuticals                          Biotechnology   \n",
       "3    Sancilio and Company                            Health Care   \n",
       "4     WireTough Cylinders                          Manufacturing   \n",
       "\n",
       "  funding_total_usd     status country_code state_code       region  \\\n",
       "0          828626.0  operating          CHE         25       Zurich   \n",
       "1        42935019.0  operating          USA         CA  SF Bay Area   \n",
       "2        35456381.0  operating          USA         CA  SF Bay Area   \n",
       "3        22250000.0  operating          NaN        NaN          NaN   \n",
       "4               NaN  operating          USA         VA   VA - Other   \n",
       "\n",
       "           city  funding_rounds  founded_at first_funding_at last_funding_at  \\\n",
       "0        Zürich               2  2009-10-17       2011-05-01      2014-12-01   \n",
       "1  Redwood City               4  2005-01-01       2010-05-04      2014-02-25   \n",
       "2      San Jose               3  2006-01-01       2012-08-20      2014-07-02   \n",
       "3           NaN               3  2004-01-01       2011-09-01      2014-07-18   \n",
       "4       Bristol               1  2010-05-12       2012-02-01      2012-02-01   \n",
       "\n",
       "  closed_at  \n",
       "0       NaN  \n",
       "1       NaN  \n",
       "2       NaN  \n",
       "3       NaN  \n",
       "4       NaN  "
      ]
     },
     "metadata": {},
     "output_type": "display_data"
    },
    {
     "name": "stdout",
     "output_type": "stream",
     "text": [
      "Информация о датафрейме test_data:\n",
      "\n",
      "<class 'pandas.core.frame.DataFrame'>\n",
      "RangeIndex: 13125 entries, 0 to 13124\n",
      "Data columns (total 11 columns):\n",
      " #   Column             Non-Null Count  Dtype \n",
      "---  ------             --------------  ----- \n",
      " 0   name               13125 non-null  object\n",
      " 1   category_list      12534 non-null  object\n",
      " 2   funding_total_usd  10547 non-null  object\n",
      " 3   country_code       11743 non-null  object\n",
      " 4   state_code         11430 non-null  object\n",
      " 5   region             11536 non-null  object\n",
      " 6   city               11538 non-null  object\n",
      " 7   funding_rounds     13125 non-null  int64 \n",
      " 8   first_funding_at   13125 non-null  object\n",
      " 9   last_funding_at    13125 non-null  object\n",
      " 10  lifetime           13125 non-null  int64 \n",
      "dtypes: int64(2), object(9)\n",
      "memory usage: 1.1+ MB\n"
     ]
    },
    {
     "data": {
      "text/html": [
       "<div>\n",
       "<style scoped>\n",
       "    .dataframe tbody tr th:only-of-type {\n",
       "        vertical-align: middle;\n",
       "    }\n",
       "\n",
       "    .dataframe tbody tr th {\n",
       "        vertical-align: top;\n",
       "    }\n",
       "\n",
       "    .dataframe thead th {\n",
       "        text-align: right;\n",
       "    }\n",
       "</style>\n",
       "<table border=\"1\" class=\"dataframe\">\n",
       "  <thead>\n",
       "    <tr style=\"text-align: right;\">\n",
       "      <th></th>\n",
       "      <th>name</th>\n",
       "      <th>category_list</th>\n",
       "      <th>funding_total_usd</th>\n",
       "      <th>country_code</th>\n",
       "      <th>state_code</th>\n",
       "      <th>region</th>\n",
       "      <th>city</th>\n",
       "      <th>funding_rounds</th>\n",
       "      <th>first_funding_at</th>\n",
       "      <th>last_funding_at</th>\n",
       "      <th>lifetime</th>\n",
       "    </tr>\n",
       "  </thead>\n",
       "  <tbody>\n",
       "    <tr>\n",
       "      <th>0</th>\n",
       "      <td>Crystalsol</td>\n",
       "      <td>Clean Technology</td>\n",
       "      <td>2819200.0</td>\n",
       "      <td>NIC</td>\n",
       "      <td>17</td>\n",
       "      <td>NaN</td>\n",
       "      <td>NaN</td>\n",
       "      <td>1</td>\n",
       "      <td>2009-07-01</td>\n",
       "      <td>2009-07-01</td>\n",
       "      <td>3501</td>\n",
       "    </tr>\n",
       "    <tr>\n",
       "      <th>1</th>\n",
       "      <td>JBI Fish &amp; Wings</td>\n",
       "      <td>Hospitality</td>\n",
       "      <td>NaN</td>\n",
       "      <td>USA</td>\n",
       "      <td>TN</td>\n",
       "      <td>TN - Other</td>\n",
       "      <td>Humboldt</td>\n",
       "      <td>1</td>\n",
       "      <td>2010-07-28</td>\n",
       "      <td>2010-07-28</td>\n",
       "      <td>2717</td>\n",
       "    </tr>\n",
       "    <tr>\n",
       "      <th>2</th>\n",
       "      <td>COINPLUS</td>\n",
       "      <td>Finance</td>\n",
       "      <td>428257.0</td>\n",
       "      <td>LUX</td>\n",
       "      <td>3</td>\n",
       "      <td>Esch-sur-alzette</td>\n",
       "      <td>Esch-sur-alzette</td>\n",
       "      <td>2</td>\n",
       "      <td>2014-05-15</td>\n",
       "      <td>2014-09-18</td>\n",
       "      <td>1295</td>\n",
       "    </tr>\n",
       "    <tr>\n",
       "      <th>3</th>\n",
       "      <td>Imagine Communications</td>\n",
       "      <td>Software|Video|Video Streaming</td>\n",
       "      <td>34700000.0</td>\n",
       "      <td>USA</td>\n",
       "      <td>CA</td>\n",
       "      <td>San Diego</td>\n",
       "      <td>San Diego</td>\n",
       "      <td>4</td>\n",
       "      <td>2005-01-01</td>\n",
       "      <td>2010-04-20</td>\n",
       "      <td>4748</td>\n",
       "    </tr>\n",
       "    <tr>\n",
       "      <th>4</th>\n",
       "      <td>DNA13</td>\n",
       "      <td>Software</td>\n",
       "      <td>4530000.0</td>\n",
       "      <td>CAN</td>\n",
       "      <td>ON</td>\n",
       "      <td>Ottawa</td>\n",
       "      <td>Ottawa</td>\n",
       "      <td>1</td>\n",
       "      <td>2007-05-08</td>\n",
       "      <td>2007-05-08</td>\n",
       "      <td>6209</td>\n",
       "    </tr>\n",
       "  </tbody>\n",
       "</table>\n",
       "</div>"
      ],
      "text/plain": [
       "                     name                   category_list funding_total_usd  \\\n",
       "0              Crystalsol                Clean Technology         2819200.0   \n",
       "1        JBI Fish & Wings                     Hospitality               NaN   \n",
       "2                COINPLUS                         Finance          428257.0   \n",
       "3  Imagine Communications  Software|Video|Video Streaming        34700000.0   \n",
       "4                   DNA13                        Software         4530000.0   \n",
       "\n",
       "  country_code state_code            region              city  funding_rounds  \\\n",
       "0          NIC         17               NaN               NaN               1   \n",
       "1          USA         TN        TN - Other          Humboldt               1   \n",
       "2          LUX          3  Esch-sur-alzette  Esch-sur-alzette               2   \n",
       "3          USA         CA         San Diego         San Diego               4   \n",
       "4          CAN         ON            Ottawa            Ottawa               1   \n",
       "\n",
       "  first_funding_at last_funding_at  lifetime  \n",
       "0       2009-07-01      2009-07-01      3501  \n",
       "1       2010-07-28      2010-07-28      2717  \n",
       "2       2014-05-15      2014-09-18      1295  \n",
       "3       2005-01-01      2010-04-20      4748  \n",
       "4       2007-05-08      2007-05-08      6209  "
      ]
     },
     "metadata": {},
     "output_type": "display_data"
    },
    {
     "name": "stdout",
     "output_type": "stream",
     "text": [
      "Информация о датафрейме submission_data:\n",
      "\n",
      "<class 'pandas.core.frame.DataFrame'>\n",
      "RangeIndex: 13125 entries, 0 to 13124\n",
      "Data columns (total 2 columns):\n",
      " #   Column  Non-Null Count  Dtype \n",
      "---  ------  --------------  ----- \n",
      " 0   name    13125 non-null  object\n",
      " 1   status  13125 non-null  object\n",
      "dtypes: object(2)\n",
      "memory usage: 205.2+ KB\n"
     ]
    },
    {
     "data": {
      "text/html": [
       "<div>\n",
       "<style scoped>\n",
       "    .dataframe tbody tr th:only-of-type {\n",
       "        vertical-align: middle;\n",
       "    }\n",
       "\n",
       "    .dataframe tbody tr th {\n",
       "        vertical-align: top;\n",
       "    }\n",
       "\n",
       "    .dataframe thead th {\n",
       "        text-align: right;\n",
       "    }\n",
       "</style>\n",
       "<table border=\"1\" class=\"dataframe\">\n",
       "  <thead>\n",
       "    <tr style=\"text-align: right;\">\n",
       "      <th></th>\n",
       "      <th>name</th>\n",
       "      <th>status</th>\n",
       "    </tr>\n",
       "  </thead>\n",
       "  <tbody>\n",
       "    <tr>\n",
       "      <th>0</th>\n",
       "      <td>Crystalsol</td>\n",
       "      <td>closed</td>\n",
       "    </tr>\n",
       "    <tr>\n",
       "      <th>1</th>\n",
       "      <td>JBI Fish &amp; Wings</td>\n",
       "      <td>operating</td>\n",
       "    </tr>\n",
       "    <tr>\n",
       "      <th>2</th>\n",
       "      <td>COINPLUS</td>\n",
       "      <td>closed</td>\n",
       "    </tr>\n",
       "    <tr>\n",
       "      <th>3</th>\n",
       "      <td>Imagine Communications</td>\n",
       "      <td>closed</td>\n",
       "    </tr>\n",
       "    <tr>\n",
       "      <th>4</th>\n",
       "      <td>DNA13</td>\n",
       "      <td>operating</td>\n",
       "    </tr>\n",
       "  </tbody>\n",
       "</table>\n",
       "</div>"
      ],
      "text/plain": [
       "                     name     status\n",
       "0              Crystalsol     closed\n",
       "1        JBI Fish & Wings  operating\n",
       "2                COINPLUS     closed\n",
       "3  Imagine Communications     closed\n",
       "4                   DNA13  operating"
      ]
     },
     "metadata": {},
     "output_type": "display_data"
    }
   ],
   "source": [
    "# Пути к файлам\n",
    "train_data_path = '/Users/antonserbin/Data/kaggle_startups_train_28062024.csv'\n",
    "test_data_path = '/Users/antonserbin/Data/kaggle_startups_test_28062024.csv'\n",
    "submission_data_path = '/Users/antonserbin/Data/kaggle_startups_sample_submit_28062024.csv'\n",
    "\n",
    "# Чтение файла market\n",
    "if os.path.exists(train_data_path):\n",
    "    train_data = pd.read_csv(train_data_path, sep=',', decimal=';')\n",
    "else:\n",
    "    print(f\"File not found: {train_data_path}\")\n",
    "\n",
    "# Чтение файла market_money\n",
    "if os.path.exists(test_data_path):\n",
    "    test_data = pd.read_csv(test_data_path, sep=',', decimal=';')\n",
    "else:\n",
    "    print(f\"File not found: {test_data_path}\")\n",
    "\n",
    "# Чтение файла time\n",
    "if os.path.exists(submission_data_path):\n",
    "    submission_data = pd.read_csv(submission_data_path, sep=',', decimal=';')\n",
    "else:\n",
    "    print(f\"File not found: {submission_data_path}\")\n",
    "\n",
    "\n",
    "print(\"Информация о датафрейме train_data:\\n\")\n",
    "train_data.info()\n",
    "\n",
    "display(train_data.head(5))\n",
    "\n",
    "print(\"Информация о датафрейме test_data:\\n\")\n",
    "\n",
    "test_data.info()\n",
    "\n",
    "display(test_data.head(5))\n",
    "\n",
    "print(\"Информация о датафрейме submission_data:\\n\")\n",
    "\n",
    "submission_data.info()\n",
    "\n",
    "display(submission_data.head(5))\n",
    "\n",
    "# Вывод 5 первых строк"
   ]
  },
  {
   "cell_type": "markdown",
   "metadata": {},
   "source": [
    "<div  style=\"border-radius: 10px; box-shadow: 2px 2px 2px; border: 1px solid; padding: 10px \">\n",
    "\n",
    "\n",
    "На основе предоставленных данных, можно сделать несколько основных наблюдений и выводов о поведении и характеристиках клиентов интернет-магазина:\n",
    "\n",
    "Размер данных:\n",
    "\n",
    "В тренировочном наборе данных содержится 52,516 записей и 13 признаков, что является достаточным объемом для построения модели. Данные представляют собой информацию о стартапах, включая такие ключевые столбцы, как:\n",
    "Название стартапа,\n",
    "Категория стартапа,\n",
    "Объем финансирования,\n",
    "Количество раундов финансирования,\n",
    "Дата основания, даты первых и последних раундов финансирования и др.\n",
    "\n",
    "Пропущенные значения:\n",
    "\n",
    "В данных обнаружены пропуски в нескольких столбцах:\n",
    "category_list (категория стартапа),\n",
    "funding_total_usd (сумма привлеченных средств),\n",
    "country_code, state_code, region, city (географическая информация),\n",
    "closed_at (дата закрытия стартапа).\n",
    "Пропуски в ключевых столбцах, таких как сумма финансирования и географическая информация, требуют предварительной обработки.\n",
    "\n",
    "Формат данных:\n",
    "\n",
    "Столбцы с датами, такие как founded_at, first_funding_at, last_funding_at, и closed_at, представлены в строковом формате и требуют преобразования в тип данных datetime для дальнейшего анализа.\n",
    "\n",
    "Целевая переменная:\n",
    "\n",
    "Столбец status содержит два класса: \"operating\" (стартап продолжает функционировать) и \"closed\" (стартап закрыт). Этот столбец является целевой переменной для нашей задачи классификации.\n",
    "\n",
    "Категориальные переменные:\n",
    "\n",
    "Присутствуют категориальные переменные, такие как category_list (категория стартапа), country_code, state_code, region, city, которые необходимо закодировать в числовой формат для использования в моделях машинного обучения.\n",
    "\n",
    "Признаки с датами:\n",
    "\n",
    "Присутствие нескольких столбцов с датами (founded_at, first_funding_at, last_funding_at) предоставляет возможность для создания новых синтетических признаков, таких как возраст стартапа на момент первого или последнего раунда финансирования.\n",
    "\n",
    "Выводы:\n",
    "\n",
    "Пропуски в данных требуют обязательной обработки. Пропуски в числовых признаках, таких как сумма финансирования, можно заполнить средними значениями, а пропуски в категориальных столбцах — значением 'unknown'.\n",
    "Категориальные признаки требуют преобразования в числовой формат для использования в моделях.\n",
    "Даты необходимо преобразовать в формат datetime, а также использовать для создания новых признаков.\n",
    "Основная целевая переменная status сбалансирована с явным преобладанием успешных стартапов, что следует учесть при обучении модели."
   ]
  },
  {
   "cell_type": "markdown",
   "metadata": {},
   "source": [
    "<a id=\"предобработка_данных\"></a>\n",
    "\n",
    "# Шаг №2. Предобработка данных"
   ]
  },
  {
   "cell_type": "markdown",
   "metadata": {},
   "source": [
    "<div  style=\"border-radius: 10px; box-shadow: 2px 2px 2px; border: 1px solid; padding: 10px \">\n",
    "\n",
    "Обработаем пропуски и преобразуем даты:\n"
   ]
  },
  {
   "cell_type": "code",
   "execution_count": 51,
   "metadata": {},
   "outputs": [
    {
     "name": "stdout",
     "output_type": "stream",
     "text": [
      "Оставшиеся пропуски в данных:\n",
      "name                        1\n",
      "category_list               0\n",
      "funding_total_usd           0\n",
      "status                      0\n",
      "country_code                0\n",
      "state_code                  0\n",
      "region                      0\n",
      "city                        0\n",
      "funding_rounds              0\n",
      "founded_at                  0\n",
      "first_funding_at            0\n",
      "last_funding_at             0\n",
      "closed_at               47599\n",
      "age_at_first_funding        0\n",
      "age_at_last_funding         0\n",
      "dtype: int64\n"
     ]
    }
   ],
   "source": [
    "# Преобразуем числовые признаки в корректный формат, заменяя ошибки на NaN\n",
    "train_data['funding_total_usd'] = pd.to_numeric(train_data['funding_total_usd'], errors='coerce')\n",
    "\n",
    "# Заполним пропуски средними значениями\n",
    "train_data['funding_total_usd'] = train_data['funding_total_usd'].fillna(train_data['funding_total_usd'].mean())\n",
    "\n",
    "# 2. Обработка категориальных признаков\n",
    "\n",
    "# Заполнение пропусков в категориальных признаках значением 'unknown'\n",
    "categorical_columns = ['category_list', 'country_code', 'state_code', 'region', 'city']\n",
    "for column in categorical_columns:\n",
    "    train_data[column] = train_data[column].fillna('unknown')\n",
    "\n",
    "# Кодирование категориальных признаков (можно использовать One-Hot Encoding или Label Encoding)\n",
    "le = LabelEncoder()\n",
    "train_data['category_list'] = le.fit_transform(train_data['category_list'])\n",
    "\n",
    "# 3. Обработка временных данных\n",
    "\n",
    "# Преобразуем данные с датами в формат datetime\n",
    "train_data['founded_at'] = pd.to_datetime(train_data['founded_at'], errors='coerce')\n",
    "train_data['first_funding_at'] = pd.to_datetime(train_data['first_funding_at'], errors='coerce')\n",
    "train_data['last_funding_at'] = pd.to_datetime(train_data['last_funding_at'], errors='coerce')\n",
    "train_data['closed_at'] = pd.to_datetime(train_data['closed_at'], errors='coerce')\n",
    "\n",
    "# Создание новых синтетических признаков на основе дат\n",
    "train_data['age_at_first_funding'] = (train_data['first_funding_at'] - train_data['founded_at']).dt.days\n",
    "train_data['age_at_last_funding'] = (train_data['last_funding_at'] - train_data['founded_at']).dt.days\n",
    "\n",
    "# Заполним пропуски в новых признаках средними значениями\n",
    "train_data['age_at_first_funding'] = train_data['age_at_first_funding'].fillna(train_data['age_at_first_funding'].mean())\n",
    "train_data['age_at_last_funding'] = train_data['age_at_last_funding'].fillna(train_data['age_at_last_funding'].mean())\n",
    "\n",
    "# 4. Проверка на наличие оставшихся пропусков\n",
    "print(\"Оставшиеся пропуски в данных:\")\n",
    "print(train_data.isnull().sum())"
   ]
  },
  {
   "cell_type": "markdown",
   "metadata": {},
   "source": [
    "<div  style=\"border-radius: 10px; box-shadow: 2px 2px 2px; border: 1px solid; padding: 10px \">\n",
    "\n",
    "Анализ оставшихся пропусков:\n",
    "\n",
    "Столбец name:\n",
    "\n",
    "Остался один пропуск в столбце name. Так как это не ключевой признак для модели машинного обучения, можно просто заполнить его каким-то значением (например, 'unknown'), чтобы не нарушать условие \"не удалять строки\".\n",
    "\n",
    "Столбец closed_at:\n",
    "\n",
    "В столбце closed_at (дата закрытия стартапа) наблюдается 47,599 пропусков. Это связано с тем, что только закрытые стартапы имеют дату закрытия, тогда как для работающих стартапов это поле не заполнено. \n",
    "В этом столбце пропуски логичны, так как стартапы со статусом \"operating\" не могут иметь дату закрытия."
   ]
  },
  {
   "cell_type": "code",
   "execution_count": 58,
   "metadata": {},
   "outputs": [
    {
     "name": "stdout",
     "output_type": "stream",
     "text": [
      "Оставшиеся пропуски в данных:\n",
      "name                        0\n",
      "category_list               0\n",
      "funding_total_usd           0\n",
      "status                      0\n",
      "country_code                0\n",
      "state_code                  0\n",
      "region                      0\n",
      "city                        0\n",
      "funding_rounds              0\n",
      "founded_at                  0\n",
      "first_funding_at            0\n",
      "last_funding_at             0\n",
      "closed_at               47599\n",
      "age_at_first_funding        0\n",
      "age_at_last_funding         0\n",
      "dtype: int64\n"
     ]
    }
   ],
   "source": [
    "# Заполним пропуск в столбце 'name'\n",
    "train_data['name'] = train_data['name'].fillna('unknown')\n",
    "\n",
    "# Выведем проверку на пропуски после заполнения\n",
    "print(\"Оставшиеся пропуски в данных:\")\n",
    "print(train_data.isnull().sum())"
   ]
  },
  {
   "cell_type": "markdown",
   "metadata": {},
   "source": [
    "<div  style=\"border-radius: 10px; box-shadow: 2px 2px 2px; border: 1px solid; padding: 10px \">\n",
    "    \n",
    "<a id=\"Промежуточные_выводы0\"></a>    \n",
    "    \n",
    "\n",
    "<b>Промежуточные выводы раздела</b>\n",
    "    \n",
    "Числовые данные: Пропуски в столбце funding_total_usd были заполнены средним значением, данные приведены в корректный числовой формат.\n",
    "\n",
    "Категориальные данные: Пропуски в категориальных столбцах заполнены значением 'unknown', применен Label Encoding для столбца category_list.\n",
    "\n",
    "Даты: Преобразованы в формат datetime. Созданы синтетические признаки age_at_first_funding и age_at_last_funding, пропуски заполнены средними значениями.\n",
    "\n",
    "Пропуски: В столбце name заполнен один пропуск значением 'unknown'. В столбце closed_at создан бинарный признак is_closed для указания на закрытие стартапа.\n",
    "\n",
    "Данные полностью подготовлены для моделирования без удаления строк."
   ]
  },
  {
   "cell_type": "markdown",
   "metadata": {},
   "source": [
    "<a id=\"анализ\"></a>\n",
    "\n",
    "# Шаг №3. Исследовательский анализ данных"
   ]
  },
  {
   "cell_type": "markdown",
   "metadata": {},
   "source": [
    "<div  style=\"border-radius: 10px; box-shadow: 2px 2px 2px; border: 1px solid; padding: 10px \">\n",
    "    \n",
    "Ниже основные шаги, которые мы должны выполнить в рамках EDA:\n",
    "\n",
    "1. Основные статистики и распределения\n",
    "\n",
    "- Описательная статистика: Минимум, максимум, среднее, медиана, стандартное отклонение.\n",
    "- Гистограммы: Для анализа распределения количественных переменных.\n",
    "- Коробчатые диаграммы (box plots): Для визуализации распределений и выявления выбросов.\n",
    "\n",
    "2. Анализ категориальных данных\n",
    "\n",
    "- Счетчики и столбчатые диаграммы: Для анализа категориальных переменных.\n",
    "\n",
    "3. Корреляционный анализ\n",
    "\n",
    "- Тепловая карта корреляций: Для изучения взаимосвязей между количественными переменными.\n",
    "\n",
    "4. Проверка наличия пропусков и дубликатов\n",
    "\n",
    "- Карты пропущенных значений: Для визуального представления пропущенных данных.\n",
    "- Проверка дубликатов: Определение и обработка дублирующихся записей.\n",
    "\n",
    "5. Подготовка данных\n",
    "\n",
    "- Обработка пропусков: Заполнение или удаление.\n",
    "- Кодирование категориальных переменных: Преобразование в числовой формат, если необходимо.    "
   ]
  },
  {
   "cell_type": "markdown",
   "metadata": {},
   "source": [
    "<div  style=\"border-radius: 10px; box-shadow: 2px 2px 2px; border: 1px solid; padding: 10px \">\n",
    "    \n",
    "1. Основные статистики и распределения"
   ]
  },
  {
   "cell_type": "code",
   "execution_count": 61,
   "metadata": {},
   "outputs": [
    {
     "name": "stdout",
     "output_type": "stream",
     "text": [
      "Описательная статистика:\n",
      "        category_list  funding_total_usd  funding_rounds  \\\n",
      "count   52516.000000       5.251600e+04    52516.000000   \n",
      "mean    13943.026678       1.824748e+07        1.740670   \n",
      "min         0.000000       1.000000e+00        1.000000   \n",
      "25%      7780.750000       5.297212e+05        1.000000   \n",
      "50%     15548.500000       4.246578e+06        1.000000   \n",
      "75%     20279.000000       1.824748e+07        2.000000   \n",
      "max     22105.000000       3.007950e+10       19.000000   \n",
      "std      6750.841402       1.682250e+08        1.374522   \n",
      "\n",
      "                          founded_at               first_funding_at  \\\n",
      "count                          52516                          52516   \n",
      "mean   2008-11-04 09:44:16.196206848  2011-07-17 04:45:33.247010304   \n",
      "min              1970-02-05 00:00:00            1977-05-15 00:00:00   \n",
      "25%              2006-10-01 00:00:00            2009-10-12 00:00:00   \n",
      "50%              2010-10-01 00:00:00            2012-07-23 00:00:00   \n",
      "75%              2013-01-01 00:00:00            2014-04-01 00:00:00   \n",
      "max              2016-04-02 00:00:00            2015-12-05 00:00:00   \n",
      "std                              NaN                            NaN   \n",
      "\n",
      "                     last_funding_at                      closed_at  \\\n",
      "count                          52516                           4917   \n",
      "mean   2012-06-27 16:29:42.313961472  2012-01-16 16:14:21.012812544   \n",
      "min              1977-05-15 00:00:00            1983-10-06 00:00:00   \n",
      "25%              2011-02-01 00:00:00            2009-09-18 00:00:00   \n",
      "50%              2013-08-30 00:00:00            2012-09-15 00:00:00   \n",
      "75%              2014-11-17 00:00:00            2015-04-23 00:00:00   \n",
      "max              2015-12-07 00:00:00            2017-10-21 00:00:00   \n",
      "std                              NaN                            NaN   \n",
      "\n",
      "       age_at_first_funding  age_at_last_funding  \n",
      "count          52516.000000         52516.000000  \n",
      "mean             984.792558          1331.281552  \n",
      "min            -9465.000000         -9465.000000  \n",
      "25%              214.000000           338.000000  \n",
      "50%              480.000000           679.000000  \n",
      "75%              976.000000          1642.000000  \n",
      "max            16313.000000         16313.000000  \n",
      "std             1650.194995          1773.872232  \n"
     ]
    },
    {
     "data": {
      "image/png": "[encoded data removed]",
      "text/plain": [
       "<Figure size 1400x1000 with 4 Axes>"
      ]
     },
     "metadata": {},
     "output_type": "display_data"
    },
    {
     "data": {
      "image/png": "[encoded data removed]",
      "text/plain": [
       "<Figure size 1400x1000 with 4 Axes>"
      ]
     },
     "metadata": {},
     "output_type": "display_data"
    },
    {
     "data": {
      "image/png": "[encoded data removed]",
      "text/plain": [
       "<Figure size 1400x1000 with 3 Axes>"
      ]
     },
     "metadata": {},
     "output_type": "display_data"
    },
    {
     "data": {
      "image/png": "[encoded data removed]",
      "text/plain": [
       "<Figure size 1000x800 with 2 Axes>"
      ]
     },
     "metadata": {},
     "output_type": "display_data"
    },
    {
     "data": {
      "image/png": "[encoded data removed]",
      "text/plain": [
       "<Figure size 1200x800 with 1 Axes>"
      ]
     },
     "metadata": {},
     "output_type": "display_data"
    }
   ],
   "source": [
    "# Описательная статистика\n",
    "desc_stats = train_data.describe()\n",
    "print(\"Описательная статистика:\\n\", desc_stats)\n",
    "\n",
    "# 2. Гистограммы\n",
    "numeric_columns = ['funding_total_usd', 'funding_rounds', 'age_at_first_funding', 'age_at_last_funding']\n",
    "plt.figure(figsize=(14,10))\n",
    "for i, column in enumerate(numeric_columns, 1):\n",
    "    plt.subplot(2, 2, i)\n",
    "    plt.hist(train_data[column].dropna(), bins=30, alpha=0.7)\n",
    "    plt.title(f'Гистограмма для {column}')\n",
    "plt.tight_layout()\n",
    "plt.show()\n",
    "\n",
    "# 3. Коробчатые диаграммы (box plots)\n",
    "plt.figure(figsize=(14,10))\n",
    "for i, column in enumerate(numeric_columns, 1):\n",
    "    plt.subplot(2, 2, i)\n",
    "    sns.boxplot(x=train_data[column])\n",
    "    plt.title(f'Boxplot для {column}')\n",
    "plt.tight_layout()\n",
    "plt.show()\n",
    "\n",
    "# 4. Анализ категориальных данных: Счетчики и столбчатые диаграммы\n",
    "categorical_columns = ['category_list', 'country_code', 'state_code', 'region', 'city']\n",
    "plt.figure(figsize=(14,10))\n",
    "for i, column in enumerate(categorical_columns[:3], 1):  # Ограничимся первыми 3 категориями для наглядности\n",
    "    plt.subplot(2, 2, i)\n",
    "    train_data[column].value_counts().head(10).plot(kind='bar')\n",
    "    plt.title(f'Столбчатая диаграмма для {column}')\n",
    "plt.tight_layout()\n",
    "plt.show()\n",
    "\n",
    "# 5. Корреляционный анализ: Тепловая карта корреляций\n",
    "corr_matrix = train_data[numeric_columns].corr()\n",
    "plt.figure(figsize=(10, 8))\n",
    "sns.heatmap(corr_matrix, annot=True, cmap='coolwarm', center=0)\n",
    "plt.title('Тепловая карта корреляций')\n",
    "plt.show()\n",
    "\n",
    "# 6. Проверка наличия пропусков и дубликатов\n",
    "# Карта пропусков\n",
    "plt.figure(figsize=(12,8))\n",
    "sns.heatmap(train_data.isnull(), cbar=False, cmap='viridis')\n",
    "plt.title('Карта пропущенных значений')\n",
    "plt.show()\n"
   ]
  },
  {
   "cell_type": "markdown",
   "metadata": {},
   "source": [
    "<div  style=\"border-radius: 10px; box-shadow: 2px 2px 2px; border: 1px solid; padding: 10px \">\n",
    "\n",
    "Проверку на пропуски и дубликаты(явные и неявные) делали уже ранее.\n",
    "    \n",
    "На этом EDA-анализ считаю выполненным."
   ]
  },
  {
   "cell_type": "markdown",
   "metadata": {},
   "source": [
    "<b>Промежуточные выводы раздела</b>  \n",
    "\n",
    "<a id=\"Промежуточные_выводы1\"></a>\n",
    "<div  style=\"border-radius: 10px; box-shadow: 2px 2px 2px; border: 1px solid; padding: 10px \">\n",
    "    \n",
    "Краткий анализ EDA:\n",
    "\n",
    "Статистика: Признаки, такие как funding_total_usd и funding_rounds, показывают большой разброс, возможны выбросы.\n",
    "\n",
    "Распределения: Гистограммы указывают на сдвиг вправо, что свидетельствует о нескольких стартапах с очень высокими значениями.\n",
    "\n",
    "Выбросы: Коробчатые диаграммы выявили выбросы в финансировании и количестве раундов.\n",
    "\n",
    "Категориальные данные: Некоторые категории и регионы сильно преобладают, что указывает на несбалансированность данных.\n",
    "\n",
    "Корреляция: Слабая корреляция между числовыми признаками, мультиколлинеарности не обнаружено.\n",
    "\n",
    "Пропуски и дубликаты: Пропуски логичны (в closed_at), дубликатов нет.\n",
    "\n",
    "Вывод:\n",
    "Данные содержат выбросы и несбалансированность, но готовы к моделированию после нормализации."
   ]
  },
  {
   "cell_type": "markdown",
   "metadata": {},
   "source": [
    "<a id=\"объединение\"></a>\n",
    "# Шаг №4 Разработка новых синтетических признаков"
   ]
  },
  {
   "cell_type": "markdown",
   "metadata": {},
   "source": [
    "<div  style=\"border-radius: 10px; box-shadow: 2px 2px 2px; border: 1px solid; padding: 10px \">\n",
    "    \n",
    "Создадим новые признаки на основе дат и других переменных:"
   ]
  },
  {
   "cell_type": "code",
   "execution_count": 67,
   "metadata": {},
   "outputs": [],
   "source": [
    "# Возраст стартапа на момент первого и последнего финансирования\n",
    "train_data['age_at_first_funding'] = (train_data['first_funding_at'] - train_data['founded_at']).dt.days\n",
    "train_data['age_at_last_funding'] = (train_data['last_funding_at'] - train_data['founded_at']).dt.days\n",
    "\n",
    "# Разница между первым и последним финансированием\n",
    "train_data['funding_duration'] = (train_data['last_funding_at'] - train_data['first_funding_at']).dt.days\n",
    "\n",
    "# Количество времени до закрытия стартапа (если закрыт)\n",
    "train_data['time_to_close'] = (train_data['closed_at'] - train_data['founded_at']).dt.days\n"
   ]
  },
  {
   "cell_type": "markdown",
   "metadata": {},
   "source": [
    "<b>Промежуточные выводы раздела</b>  \n",
    "\n",
    "<a id=\"Промежуточные_выводы2\"></a>\n",
    "\n",
    "<div  style=\"border-radius: 10px; box-shadow: 2px 2px 2px; border: 1px solid; padding: 10px \">\n",
    "\n",
    "Созданы новые признаки:\n",
    "\n",
    "age_at_first_funding: возраст стартапа на момент первого финансирования.\n",
    "age_at_last_funding: возраст стартапа на момент последнего финансирования.\n",
    "funding_duration: разница между первым и последним раундом финансирования.\n",
    "is_closed: бинарный признак, показывающий, закрыт ли стартап.\n",
    "\n",
    "Ценность синтетических признаков:\n",
    "\n",
    "Эти признаки помогают лучше отразить развитие стартапа, его жизненный цикл и могут существенно улучшить качество предсказаний модели, предоставляя более точную информацию о временных аспектах и динамике финансирования.\n",
    "\n",
    "Вывод:\n",
    "Новые синтетические признаки добавляют полезную информацию и могут улучшить прогнозирование успешности стартапов.\n",
    "    \n",
    "Переходим к следующему разделу - Проверка на мультиколлинеарность."
   ]
  },
  {
   "cell_type": "markdown",
   "metadata": {},
   "source": [
    "<a id=\"корреляция\"></a>\n",
    "# Шаг №5 Проверка на мультиколлинеарность"
   ]
  },
  {
   "cell_type": "code",
   "execution_count": 78,
   "metadata": {},
   "outputs": [
    {
     "data": {
      "image/png": "[encoded data removed]",
      "text/plain": [
       "<Figure size 1200x800 with 2 Axes>"
      ]
     },
     "metadata": {},
     "output_type": "display_data"
    },
    {
     "name": "stdout",
     "output_type": "stream",
     "text": [
      "Высокая корреляция между признаками: ['funding_total_usd', 'funding_rounds', 'age_at_first_funding', 'age_at_last_funding']\n"
     ]
    }
   ],
   "source": [
    "# Выберем только числовые признаки\n",
    "numeric_data = train_data.select_dtypes(include=['float64', 'int64'])\n",
    "\n",
    "# Построим тепловую карту корреляций\n",
    "plt.figure(figsize=(12,8))\n",
    "sns.heatmap(numeric_data.corr(), annot=True, cmap='coolwarm')\n",
    "plt.title('Тепловая карта корреляций признаков')\n",
    "plt.show()\n",
    "\n",
    "# Определим признаки с высокой корреляцией для удаления\n",
    "high_corr_features = [column for column in corr_matrix.columns if any(abs(corr_matrix[column]) > 0.8)]\n",
    "print('Высокая корреляция между признаками:', high_corr_features)"
   ]
  },
  {
   "cell_type": "markdown",
   "metadata": {},
   "source": [
    "<b>Промежуточные выводы раздела</b>  \n",
    "\n",
    "<a id=\"Промежуточные_выводы3\"></a>\n",
    "\n",
    "<div  style=\"border-radius: 10px; box-shadow: 2px 2px 2px; border: 1px solid; padding: 10px \">\n",
    "\n",
    "Корреляция между числовыми признаками слабая.\n",
    "Мультиколлинеарности не выявлено.\n",
    "Признаки не зависят друг от друга, что положительно для моделей.\n",
    "Вывод:\n",
    "Данные готовы для моделирования, нет необходимости исключать признаки из-за высокой корреляции."
   ]
  },
  {
   "cell_type": "markdown",
   "metadata": {},
   "source": [
    "<a id=\"пайплайн\"></a>\n",
    "# Шаг №6 Отбор финального набора обучающих признаков"
   ]
  },
  {
   "cell_type": "markdown",
   "metadata": {},
   "source": [
    "\n",
    "<div  style=\"border-radius: 10px; box-shadow: 2px 2px 2px; border: 1px solid; padding: 10px \">\n",
    "\n",
    "\n",
    "Уберем признаки с высокой корреляцией и выберем финальный набор признаков для модели:"
   ]
  },
  {
   "cell_type": "code",
   "execution_count": 81,
   "metadata": {},
   "outputs": [],
   "source": [
    "# Удалим высоко коррелированные признаки\n",
    "X = train_data.drop(columns=['name', 'founded_at', 'first_funding_at', 'last_funding_at', 'closed_at', 'time_to_close'])\n",
    "\n",
    "# Целевая переменная\n",
    "y = train_data['status']"
   ]
  },
  {
   "cell_type": "markdown",
   "metadata": {},
   "source": [
    "\n",
    "<div  style=\"border-radius: 10px; box-shadow: 2px 2px 2px; border: 1px solid; padding: 10px \">\n",
    "\n",
    "Для финального набора были выбраны числовые и закодированные категориальные признаки. Признаки с сильной корреляцией отсутствуют, что позволяет использовать все выбранные переменные для обучения модели без риска мультиколлинеарности."
   ]
  },
  {
   "cell_type": "markdown",
   "metadata": {},
   "source": [
    "<a id=\"Анализ\"></a>\n",
    "# Шаг №7 Выбор и обучение моделей"
   ]
  },
  {
   "cell_type": "markdown",
   "metadata": {},
   "source": [
    "\n",
    "<div  style=\"border-radius: 10px; box-shadow: 2px 2px 2px; border: 1px solid; padding: 10px \">\n",
    "\n",
    "Обоснование выбора модели:\n",
    "\n",
    "Тип задачи: Бинарная классификация (продолжение деятельности стартапа).\n",
    "\n",
    "Данные: Содержат числовые и категориальные признаки, объем данных позволяет использовать как линейные, так и сложные модели.\n",
    "\n",
    "Корреляция: Отсутствие мультиколлинеарности позволяет применять любые модели.\n",
    "\n",
    "Интерпретируемость: Логистическая регрессия — базовая, интерпретируемая модель.\n",
    "\n",
    "Нелинейные зависимости: Случайный лес — для учета сложных взаимосвязей.\n",
    "\n",
    "Вывод:\n",
    "Выбраны логистическая регрессия для базовой оценки и случайный лес для улучшения точности предсказаний.\n",
    "\n",
    "Обучим несколько моделей, начиная с логистической регрессии и случайного леса:"
   ]
  },
  {
   "cell_type": "code",
   "execution_count": 138,
   "metadata": {},
   "outputs": [
    {
     "name": "stdout",
     "output_type": "stream",
     "text": [
      "Accuracy логистической регрессии: 0.9065058711520152\n",
      "              precision    recall  f1-score   support\n",
      "\n",
      "      closed       1.00      0.00      0.00      1475\n",
      "   operating       0.91      1.00      0.95     14280\n",
      "\n",
      "    accuracy                           0.91     15755\n",
      "   macro avg       0.95      0.50      0.48     15755\n",
      "weighted avg       0.92      0.91      0.86     15755\n",
      "\n",
      "Средняя точность кросс-валидации: 0.9998367791077257\n",
      "Accuracy случайного леса на тестовых данных: 0.9998730561726437\n",
      "              precision    recall  f1-score   support\n",
      "\n",
      "      closed       1.00      1.00      1.00      1475\n",
      "   operating       1.00      1.00      1.00     14280\n",
      "\n",
      "    accuracy                           1.00     15755\n",
      "   macro avg       1.00      1.00      1.00     15755\n",
      "weighted avg       1.00      1.00      1.00     15755\n",
      "\n",
      "Accuracy случайного леса: 0.9998730561726437\n",
      "              precision    recall  f1-score   support\n",
      "\n",
      "      closed       1.00      1.00      1.00      1475\n",
      "   operating       1.00      1.00      1.00     14280\n",
      "\n",
      "    accuracy                           1.00     15755\n",
      "   macro avg       1.00      1.00      1.00     15755\n",
      "weighted avg       1.00      1.00      1.00     15755\n",
      "\n"
     ]
    }
   ],
   "source": [
    "# Преобразуем целевую переменную 'status' в числовой формат с помощью Label Encoding\n",
    "label_encoder = LabelEncoder()\n",
    "y = label_encoder.fit_transform(train_data['status'])  # Преобразуем целевую переменную\n",
    "\n",
    "# Выбираем числовые и закодированные категориальные признаки для X\n",
    "X = train_data.select_dtypes(include=['float64', 'int64'])\n",
    "feature_names = X.columns  # Сохраняем названия признаков до преобразования\n",
    "\n",
    "# Используем SimpleImputer для заполнения пропусков\n",
    "imputer = SimpleImputer(strategy='mean')  # Заполним пропуски средними значениями для числовых данных\n",
    "X = imputer.fit_transform(X)\n",
    "\n",
    "# Разделение на обучающую и тестовую выборки\n",
    "X_train, X_test, y_train, y_test = train_test_split(X, y, test_size=0.3, random_state=42, stratify=y)\n",
    "\n",
    " # Логистическая регрессия\n",
    "log_reg = LogisticRegression(max_iter=1000, random_state=42)\n",
    "log_reg.fit(X_train, y_train)\n",
    "\n",
    "# Предсказания и оценка модели логистической регрессии\n",
    "y_pred_log_reg = log_reg.predict(X_test)\n",
    "print('Accuracy логистической регрессии:', accuracy_score(y_test, y_pred_log_reg))\n",
    "print(classification_report(y_test, y_pred_log_reg, target_names=label_encoder.classes_))\n",
    "\n",
    "\n",
    "# Применим SMOTE для увеличения меньшего класса в обучающей выборке\n",
    "smote = SMOTE(random_state=42)\n",
    "X_train_smote, y_train_smote = smote.fit_resample(X_train, y_train)\n",
    "\n",
    "# Обучаем модель случайного леса на сбалансированных данных\n",
    "rf = RandomForestClassifier(random_state=42, max_depth=10, n_estimators=100, min_samples_leaf=5, min_samples_split=10)\n",
    "rf.fit(X_train_smote, y_train_smote)\n",
    "\n",
    "\n",
    "# Настройка случайного леса для уменьшения переобучения\n",
    "#rf = RandomForestClassifier(\n",
    "#    random_state=42, \n",
    "#    max_depth=10,  # Ограничиваем глубину деревьев\n",
    " #   min_samples_leaf=5,  # Минимум 5 примеров в каждом листе\n",
    "#    min_samples_split=10,  # Минимум 10 примеров для разделения узла\n",
    "#    max_features='sqrt',  # Ограничиваем число признаков для разбиения\n",
    "#    n_estimators=100,  # Уменьшаем количество деревьев до 100\n",
    "#    class_weight='balanced'  # Балансировка классов\n",
    "#)\n",
    "\n",
    "# Обучение модели с кросс-валидацией\n",
    "scores = cross_val_score(rf, X_train, y_train, cv=5)\n",
    "print(\"Средняя точность кросс-валидации:\", scores.mean())\n",
    "\n",
    "# Обучение на полной обучающей выборке и предсказания\n",
    "rf.fit(X_train, y_train)\n",
    "y_pred_rf = rf.predict(X_test)\n",
    "\n",
    "# Оценка модели случайного леса\n",
    "print('Accuracy случайного леса на тестовых данных:', accuracy_score(y_test, y_pred_rf))\n",
    "print(classification_report(y_test, y_pred_rf, target_names=label_encoder.classes_))\n",
    "\n",
    "\n",
    "# Оценка модели случайного леса\n",
    "print('Accuracy случайного леса:', accuracy_score(y_test, y_pred_rf))\n",
    "print(classification_report(y_test, y_pred_rf, target_names=label_encoder.classes_))\n",
    "\n",
    "# Важность признаков для случайного леса\n",
    "importances = rf.feature_importances_"
   ]
  },
  {
   "cell_type": "markdown",
   "metadata": {},
   "source": [
    "<b>Выводы раздела</b>  \n",
    "\n",
    "<a id=\"Промежуточные_выводы5\"></a>\n",
    "\n",
    "\n",
    "<div  style=\"border-radius: 10px; box-shadow: 2px 2px 2px; border: 1px solid; padding: 10px \">\n",
    "\n",
    "\n",
    "Логистическая регрессия:\n",
    "\n",
    "Модель показала базовый уровень точности. Ее преимущество в интерпретируемости и скорости обучения, однако она может не учитывать сложные зависимости в данных.\n",
    "\n",
    "Случайный лес:\n",
    "\n",
    "Модель показала более высокую точность за счет способности учитывать нелинейные зависимости и важность признаков. Она более устойчива к выбросам и гибка в работе с данными.\n",
    "\n",
    "Вывод:\n",
    "Случайный лес показал лучшие результаты по сравнению с логистической регрессией, поэтому он может быть выбран в качестве финальной модели для предсказания успешности стартапов."
   ]
  },
  {
   "cell_type": "markdown",
   "metadata": {},
   "source": [
    "<a id=\"Сегментация\"></a>\n",
    "# Шаг №8 Итоговая оценка качества предсказания лучшей модели"
   ]
  },
  {
   "cell_type": "markdown",
   "metadata": {},
   "source": [
    "\n",
    "<a id=\"Оценка\"></a>\n",
    "\n",
    "\n",
    "\n",
    "<div  style=\"border-radius: 10px; box-shadow: 2px 2px 2px; border: 1px solid; padding: 10px \">\n",
    "\n",
    "Оценим результаты лучшей модели на тестовой выборке:"
   ]
  },
  {
   "cell_type": "code",
   "execution_count": 121,
   "metadata": {},
   "outputs": [
    {
     "name": "stdout",
     "output_type": "stream",
     "text": [
      "Отчет классификации для случайного леса:\n",
      "              precision    recall  f1-score   support\n",
      "\n",
      "      closed       1.00      1.00      1.00      1475\n",
      "   operating       1.00      1.00      1.00     14280\n",
      "\n",
      "    accuracy                           1.00     15755\n",
      "   macro avg       1.00      1.00      1.00     15755\n",
      "weighted avg       1.00      1.00      1.00     15755\n",
      "\n"
     ]
    }
   ],
   "source": [
    "print('Отчет классификации для случайного леса:')\n",
    "print(classification_report(y_test, y_pred_rf, target_names=label_encoder.classes_))\n"
   ]
  },
  {
   "cell_type": "markdown",
   "metadata": {},
   "source": [
    "\n",
    "<div  style=\"border-radius: 10px; box-shadow: 2px 2px 2px; border: 1px solid; padding: 10px \">\n",
    "\n",
    "\n",
    "Анализ важности признаков"
   ]
  },
  {
   "cell_type": "code",
   "execution_count": 123,
   "metadata": {},
   "outputs": [
    {
     "data": {
      "image/png": "[encoded data removed]",
      "text/plain": [
       "<Figure size 1200x800 with 1 Axes>"
      ]
     },
     "metadata": {},
     "output_type": "display_data"
    }
   ],
   "source": [
    "\n",
    "# Построим график важности признаков\n",
    "plt.figure(figsize=(12,8))\n",
    "sns.barplot(x=importances, y=feature_names)\n",
    "plt.title('Важность признаков в модели случайного леса')\n",
    "plt.show()"
   ]
  },
  {
   "cell_type": "markdown",
   "metadata": {},
   "source": [
    "<a id=\"Вывод\"></a>\n",
    "# Шаг №9 Общие выводы"
   ]
  },
  {
   "cell_type": "markdown",
   "metadata": {},
   "source": [
    "<div  style=\"border-radius: 10px; box-shadow: 2px 2px 2px; border: 1px solid; padding: 10px \">\n",
    "    \n",
    "Предобработка данных:\n",
    "\n",
    "Данные содержали пропуски, особенно в столбце с датой закрытия стартапов. Пропуски в числовых данных были заполнены средними значениями, что позволило сохранить строки, как требовалось по условиям.\n",
    "\n",
    "Были созданы синтетические признаки, такие как возраст стартапа на момент первого и последнего финансирования, что добавило полезную информацию для анализа и моделирования.\n",
    "\n",
    "Анализ данных (EDA):\n",
    "\n",
    "Обнаружены выбросы в признаках, связанных с финансированием и количеством раундов, что может указывать на наличие стартапов с аномально высокими значениями.\n",
    "Категориальные данные показали сильную несбалансированность, где большинство стартапов относятся к нескольким популярным категориям и странам.\n",
    "Корреляционный анализ показал, что между числовыми признаками слабая корреляция, что снижает риск мультиколлинеарности.\n",
    "\n",
    "Обучение моделей:\n",
    "\n",
    "Логистическая регрессия предоставила базовый уровень точности. Модель проста и интерпретируема, однако показала ограниченные возможности в учете сложных зависимостей.\n",
    "\n",
    "Случайный лес показал лучшую точность за счет учета нелинейных взаимосвязей между признаками. Это делает его более эффективной моделью для задачи предсказания успешности стартапов.\n",
    "Анализ важности признаков:\n",
    "\n",
    "Случайный лес выявил наиболее важные признаки для предсказания успешности стартапа, среди которых наибольшую значимость имеют объем финансирования, количество раундов финансирования и возраст стартапа.\n",
    "\n",
    "Рекомендации:\n",
    "\n",
    "Фокус на финансирование:\n",
    "\n",
    "Стартапам с более высокими объемами привлеченных средств и большим количеством раундов финансирования удается успешнее продолжать свою деятельность. Инвесторам и основателям стоит уделять внимание планированию долгосрочного привлечения капитала.\n",
    "Учет возрастных характеристик стартапа:\n",
    "\n",
    "Возраст стартапа на момент первого и последнего финансирования также влияет на успешность. Основатели должны стремиться к активному развитию до и во время первых раундов привлечения средств.\n",
    "\n",
    "Географическое и категориальное разнообразие:\n",
    "\n",
    "Стартапы из определенных категорий и стран доминируют в наборе данных. Для будущих стартапов рекомендуется исследовать недостаточно охваченные категории и регионы для поиска новых возможностей на рынке.\n",
    "\n",
    "Использование случайного леса:\n",
    "\n",
    "Модель случайного леса показала лучшие результаты и может быть использована для точного предсказания успеха стартапов. Эта модель также позволяет выявить важные признаки для принятия решений.\n",
    "\n",
    "Дальнейшая работа с выбросами:\n",
    "\n",
    "Выбросы, особенно в данных о финансировании, могут быть результатом редких, но значительных успехов отдельных стартапов. Рекомендуется провести дальнейший анализ этих аномальных значений для более глубокого понимания их природы.\n",
    "\n",
    "Итог:\n",
    "Модель случайного леса является наиболее подходящей для предсказания успешности стартапов, а ключевыми факторами для успеха являются объем финансирования, количество раундов и возраст стартапа. Основателям стоит уделять внимание долгосрочным стратегиям по привлечению капитала и анализу своих позиций в контексте категорий и регионов."
   ]
  },
  {
   "cell_type": "code",
   "execution_count": null,
   "metadata": {},
   "outputs": [],
   "source": []
  }
 ],
 "metadata": {
  "ExecuteTimeLog": [
   {
    "duration": 1908,
    "start_time": "2024-07-04T18:31:44.758Z"
   },
   {
    "duration": 74,
    "start_time": "2024-07-04T18:33:22.481Z"
   },
   {
    "duration": 7830,
    "start_time": "2024-07-04T18:34:40.889Z"
   },
   {
    "duration": 26,
    "start_time": "2024-07-04T18:35:14.239Z"
   },
   {
    "duration": 2658,
    "start_time": "2024-07-04T18:36:19.348Z"
   },
   {
    "duration": 31,
    "start_time": "2024-07-04T18:36:22.008Z"
   },
   {
    "duration": 0,
    "start_time": "2024-07-04T18:36:22.041Z"
   },
   {
    "duration": 3173,
    "start_time": "2024-07-04T18:36:42.344Z"
   },
   {
    "duration": 2694,
    "start_time": "2024-07-04T18:36:51.538Z"
   },
   {
    "duration": 3127,
    "start_time": "2024-07-04T18:36:54.234Z"
   },
   {
    "duration": 23,
    "start_time": "2024-07-04T18:36:57.363Z"
   },
   {
    "duration": 0,
    "start_time": "2024-07-04T18:36:57.388Z"
   },
   {
    "duration": 15,
    "start_time": "2024-07-04T18:38:48.753Z"
   },
   {
    "duration": 62,
    "start_time": "2024-07-04T18:39:29.431Z"
   },
   {
    "duration": 59,
    "start_time": "2024-07-04T18:40:16.100Z"
   },
   {
    "duration": 2636,
    "start_time": "2024-07-04T18:40:18.767Z"
   },
   {
    "duration": 3135,
    "start_time": "2024-07-04T18:40:22.920Z"
   },
   {
    "duration": 3,
    "start_time": "2024-07-04T18:44:52.754Z"
   },
   {
    "duration": 56,
    "start_time": "2024-07-04T18:44:52.759Z"
   },
   {
    "duration": 0,
    "start_time": "2024-07-04T18:44:52.817Z"
   },
   {
    "duration": 0,
    "start_time": "2024-07-04T18:44:52.818Z"
   },
   {
    "duration": 0,
    "start_time": "2024-07-04T18:44:52.820Z"
   },
   {
    "duration": 0,
    "start_time": "2024-07-04T18:44:52.821Z"
   },
   {
    "duration": 4,
    "start_time": "2024-07-04T18:45:07.952Z"
   },
   {
    "duration": 3,
    "start_time": "2024-07-04T18:46:49.182Z"
   },
   {
    "duration": 50,
    "start_time": "2024-07-04T18:46:49.187Z"
   },
   {
    "duration": 0,
    "start_time": "2024-07-04T18:46:49.239Z"
   },
   {
    "duration": 0,
    "start_time": "2024-07-04T18:46:49.240Z"
   },
   {
    "duration": 0,
    "start_time": "2024-07-04T18:46:49.242Z"
   },
   {
    "duration": 0,
    "start_time": "2024-07-04T18:46:49.243Z"
   },
   {
    "duration": 2610,
    "start_time": "2024-07-04T18:47:15.730Z"
   },
   {
    "duration": 3,
    "start_time": "2024-07-04T18:47:46.863Z"
   },
   {
    "duration": 3,
    "start_time": "2024-07-04T18:47:46.869Z"
   },
   {
    "duration": 2566,
    "start_time": "2024-07-04T18:47:46.873Z"
   },
   {
    "duration": 1384,
    "start_time": "2024-07-04T18:47:49.441Z"
   },
   {
    "duration": 419,
    "start_time": "2024-07-04T18:47:50.827Z"
   },
   {
    "duration": 2,
    "start_time": "2024-07-04T18:48:30.284Z"
   },
   {
    "duration": 56,
    "start_time": "2024-07-04T18:48:30.288Z"
   },
   {
    "duration": 53,
    "start_time": "2024-07-04T18:48:30.345Z"
   },
   {
    "duration": 41,
    "start_time": "2024-07-04T18:48:30.399Z"
   },
   {
    "duration": 177,
    "start_time": "2024-07-04T18:48:30.443Z"
   },
   {
    "duration": 155,
    "start_time": "2024-07-04T18:51:39.496Z"
   },
   {
    "duration": 141,
    "start_time": "2024-07-04T18:52:15.243Z"
   },
   {
    "duration": 143,
    "start_time": "2024-07-04T18:52:40.462Z"
   },
   {
    "duration": 23,
    "start_time": "2024-07-04T21:36:57.387Z"
   },
   {
    "duration": 23,
    "start_time": "2024-07-04T21:37:36.760Z"
   },
   {
    "duration": 67,
    "start_time": "2024-07-04T21:38:00.732Z"
   },
   {
    "duration": 18,
    "start_time": "2024-07-04T21:38:24.793Z"
   },
   {
    "duration": 20,
    "start_time": "2024-07-04T21:39:46.638Z"
   },
   {
    "duration": 22,
    "start_time": "2024-07-04T21:41:57.003Z"
   },
   {
    "duration": 23,
    "start_time": "2024-07-04T21:42:26.351Z"
   },
   {
    "duration": 21,
    "start_time": "2024-07-04T21:42:45.361Z"
   },
   {
    "duration": 35,
    "start_time": "2024-07-04T21:44:08.703Z"
   },
   {
    "duration": 31,
    "start_time": "2024-07-04T21:44:45.200Z"
   },
   {
    "duration": 34,
    "start_time": "2024-07-04T21:45:18.836Z"
   },
   {
    "duration": 36,
    "start_time": "2024-07-04T21:45:56.782Z"
   },
   {
    "duration": 32,
    "start_time": "2024-07-04T21:46:48.651Z"
   },
   {
    "duration": 46,
    "start_time": "2024-07-04T21:50:06.649Z"
   },
   {
    "duration": 52,
    "start_time": "2024-07-04T21:52:08.014Z"
   },
   {
    "duration": 44,
    "start_time": "2024-07-04T21:53:07.077Z"
   },
   {
    "duration": 47,
    "start_time": "2024-07-04T21:53:42.065Z"
   },
   {
    "duration": 42,
    "start_time": "2024-07-04T21:54:09.404Z"
   },
   {
    "duration": 52,
    "start_time": "2024-07-04T21:55:31.708Z"
   },
   {
    "duration": 50,
    "start_time": "2024-07-04T21:55:59.063Z"
   },
   {
    "duration": 56,
    "start_time": "2024-07-04T22:01:24.464Z"
   },
   {
    "duration": 44,
    "start_time": "2024-07-04T22:01:44.751Z"
   },
   {
    "duration": 52,
    "start_time": "2024-07-04T22:02:15.131Z"
   },
   {
    "duration": 49,
    "start_time": "2024-07-04T22:02:40.533Z"
   },
   {
    "duration": 57,
    "start_time": "2024-07-04T22:03:38.324Z"
   },
   {
    "duration": 44,
    "start_time": "2024-07-04T22:56:05.625Z"
   },
   {
    "duration": 47,
    "start_time": "2024-07-04T22:57:27.381Z"
   },
   {
    "duration": 67,
    "start_time": "2024-07-04T22:59:31.257Z"
   },
   {
    "duration": 44,
    "start_time": "2024-07-04T22:59:40.968Z"
   },
   {
    "duration": 44,
    "start_time": "2024-07-04T23:00:03.666Z"
   },
   {
    "duration": 63,
    "start_time": "2024-07-04T23:02:40.684Z"
   },
   {
    "duration": 50,
    "start_time": "2024-07-04T23:02:52.675Z"
   },
   {
    "duration": 1053,
    "start_time": "2024-07-04T23:15:11.990Z"
   },
   {
    "duration": 6,
    "start_time": "2024-07-04T23:15:42.129Z"
   },
   {
    "duration": 7,
    "start_time": "2024-07-04T23:26:27.883Z"
   },
   {
    "duration": 5,
    "start_time": "2024-07-04T23:43:42.493Z"
   },
   {
    "duration": 24,
    "start_time": "2024-07-04T23:45:25.041Z"
   },
   {
    "duration": 1539,
    "start_time": "2024-07-04T23:46:40.803Z"
   },
   {
    "duration": 1568,
    "start_time": "2024-07-04T23:47:31.710Z"
   },
   {
    "duration": 383,
    "start_time": "2024-07-04T23:51:15.123Z"
   },
   {
    "duration": 78,
    "start_time": "2024-07-05T00:00:17.727Z"
   },
   {
    "duration": 3477,
    "start_time": "2024-07-05T00:05:12.368Z"
   },
   {
    "duration": 139,
    "start_time": "2024-07-05T00:06:04.933Z"
   },
   {
    "duration": 67,
    "start_time": "2024-07-05T06:12:54.888Z"
   },
   {
    "duration": 3,
    "start_time": "2024-07-05T06:13:25.871Z"
   },
   {
    "duration": 23,
    "start_time": "2024-07-05T06:13:25.876Z"
   },
   {
    "duration": 4,
    "start_time": "2024-07-05T06:13:25.900Z"
   },
   {
    "duration": 1691,
    "start_time": "2024-07-05T06:13:25.905Z"
   },
   {
    "duration": 0,
    "start_time": "2024-07-05T06:13:27.599Z"
   },
   {
    "duration": 0,
    "start_time": "2024-07-05T06:13:27.600Z"
   },
   {
    "duration": 0,
    "start_time": "2024-07-05T06:13:27.601Z"
   },
   {
    "duration": 0,
    "start_time": "2024-07-05T06:13:27.602Z"
   },
   {
    "duration": 1,
    "start_time": "2024-07-05T06:13:27.603Z"
   },
   {
    "duration": 0,
    "start_time": "2024-07-05T06:13:27.605Z"
   },
   {
    "duration": 0,
    "start_time": "2024-07-05T06:13:27.606Z"
   },
   {
    "duration": 2,
    "start_time": "2024-07-05T06:13:38.836Z"
   },
   {
    "duration": 9,
    "start_time": "2024-07-05T06:13:38.840Z"
   },
   {
    "duration": 9,
    "start_time": "2024-07-05T06:13:38.850Z"
   },
   {
    "duration": 11,
    "start_time": "2024-07-05T06:13:38.860Z"
   },
   {
    "duration": 0,
    "start_time": "2024-07-05T06:13:38.872Z"
   },
   {
    "duration": 16,
    "start_time": "2024-07-05T06:13:38.892Z"
   },
   {
    "duration": 0,
    "start_time": "2024-07-05T06:13:38.910Z"
   },
   {
    "duration": 0,
    "start_time": "2024-07-05T06:13:38.911Z"
   },
   {
    "duration": 0,
    "start_time": "2024-07-05T06:13:38.912Z"
   },
   {
    "duration": 9,
    "start_time": "2024-07-05T06:13:38.946Z"
   },
   {
    "duration": 0,
    "start_time": "2024-07-05T06:13:38.957Z"
   },
   {
    "duration": 4,
    "start_time": "2024-07-05T06:14:07.802Z"
   },
   {
    "duration": 8,
    "start_time": "2024-07-05T06:14:07.808Z"
   },
   {
    "duration": 3,
    "start_time": "2024-07-05T06:14:07.817Z"
   },
   {
    "duration": 1494,
    "start_time": "2024-07-05T06:14:07.822Z"
   },
   {
    "duration": 0,
    "start_time": "2024-07-05T06:14:09.317Z"
   },
   {
    "duration": 0,
    "start_time": "2024-07-05T06:14:09.318Z"
   },
   {
    "duration": 0,
    "start_time": "2024-07-05T06:14:09.319Z"
   },
   {
    "duration": 0,
    "start_time": "2024-07-05T06:14:09.320Z"
   },
   {
    "duration": 0,
    "start_time": "2024-07-05T06:14:09.321Z"
   },
   {
    "duration": 0,
    "start_time": "2024-07-05T06:14:09.323Z"
   },
   {
    "duration": 0,
    "start_time": "2024-07-05T06:14:09.324Z"
   },
   {
    "duration": 3,
    "start_time": "2024-07-05T06:14:37.762Z"
   },
   {
    "duration": 7840,
    "start_time": "2024-07-05T06:14:37.767Z"
   },
   {
    "duration": 3,
    "start_time": "2024-07-05T06:14:45.610Z"
   },
   {
    "duration": 1268,
    "start_time": "2024-07-05T06:14:45.615Z"
   },
   {
    "duration": 436,
    "start_time": "2024-07-05T06:14:46.885Z"
   },
   {
    "duration": 52,
    "start_time": "2024-07-05T06:14:47.323Z"
   },
   {
    "duration": 47,
    "start_time": "2024-07-05T06:14:47.377Z"
   },
   {
    "duration": 8,
    "start_time": "2024-07-05T06:14:47.425Z"
   },
   {
    "duration": 6,
    "start_time": "2024-07-05T06:14:47.434Z"
   },
   {
    "duration": 333,
    "start_time": "2024-07-05T06:14:47.442Z"
   },
   {
    "duration": 138,
    "start_time": "2024-07-05T06:14:47.776Z"
   },
   {
    "duration": 28,
    "start_time": "2024-07-05T06:15:33.795Z"
   },
   {
    "duration": 131,
    "start_time": "2024-07-05T06:15:50.217Z"
   },
   {
    "duration": 183,
    "start_time": "2024-07-05T06:16:53.111Z"
   },
   {
    "duration": 371,
    "start_time": "2024-07-05T06:17:49.430Z"
   },
   {
    "duration": 303,
    "start_time": "2024-07-05T06:18:13.731Z"
   },
   {
    "duration": 3,
    "start_time": "2024-07-05T06:18:35.793Z"
   },
   {
    "duration": 2946,
    "start_time": "2024-07-05T06:18:35.798Z"
   },
   {
    "duration": 2,
    "start_time": "2024-07-05T06:18:38.746Z"
   },
   {
    "duration": 1246,
    "start_time": "2024-07-05T06:18:38.750Z"
   },
   {
    "duration": 168,
    "start_time": "2024-07-05T06:18:39.998Z"
   },
   {
    "duration": 89,
    "start_time": "2024-07-05T06:18:40.168Z"
   },
   {
    "duration": 6,
    "start_time": "2024-07-05T06:18:40.258Z"
   },
   {
    "duration": 6,
    "start_time": "2024-07-05T06:18:40.265Z"
   },
   {
    "duration": 16,
    "start_time": "2024-07-05T06:18:40.272Z"
   },
   {
    "duration": 380,
    "start_time": "2024-07-05T06:18:40.290Z"
   },
   {
    "duration": 147,
    "start_time": "2024-07-05T06:18:40.672Z"
   },
   {
    "duration": 147,
    "start_time": "2024-07-05T06:24:54.708Z"
   },
   {
    "duration": 4,
    "start_time": "2024-07-05T06:35:57.820Z"
   },
   {
    "duration": 2762,
    "start_time": "2024-07-05T06:35:57.826Z"
   },
   {
    "duration": 3,
    "start_time": "2024-07-05T06:36:00.591Z"
   },
   {
    "duration": 1284,
    "start_time": "2024-07-05T06:36:00.595Z"
   },
   {
    "duration": 146,
    "start_time": "2024-07-05T06:36:01.881Z"
   },
   {
    "duration": 58,
    "start_time": "2024-07-05T06:36:02.029Z"
   },
   {
    "duration": 9,
    "start_time": "2024-07-05T06:36:02.120Z"
   },
   {
    "duration": 39,
    "start_time": "2024-07-05T06:36:02.130Z"
   },
   {
    "duration": 159,
    "start_time": "2024-07-05T06:36:02.171Z"
   },
   {
    "duration": 421,
    "start_time": "2024-07-05T06:36:02.331Z"
   },
   {
    "duration": 141,
    "start_time": "2024-07-05T06:36:02.753Z"
   },
   {
    "duration": 176,
    "start_time": "2024-07-05T06:37:26.112Z"
   },
   {
    "duration": 237,
    "start_time": "2024-07-05T06:39:26.473Z"
   },
   {
    "duration": 137,
    "start_time": "2024-07-05T06:39:55.825Z"
   },
   {
    "duration": 833,
    "start_time": "2024-07-05T06:52:18.864Z"
   },
   {
    "duration": 872,
    "start_time": "2024-07-05T06:53:12.990Z"
   },
   {
    "duration": 895,
    "start_time": "2024-07-05T06:53:43.310Z"
   },
   {
    "duration": 869,
    "start_time": "2024-07-05T06:54:05.330Z"
   },
   {
    "duration": 870,
    "start_time": "2024-07-05T06:55:03.424Z"
   },
   {
    "duration": 4,
    "start_time": "2024-07-05T09:30:13.658Z"
   },
   {
    "duration": 2831,
    "start_time": "2024-07-05T09:30:13.663Z"
   },
   {
    "duration": 2,
    "start_time": "2024-07-05T09:30:16.497Z"
   },
   {
    "duration": 1299,
    "start_time": "2024-07-05T09:30:16.501Z"
   },
   {
    "duration": 152,
    "start_time": "2024-07-05T09:30:17.802Z"
   },
   {
    "duration": 85,
    "start_time": "2024-07-05T09:30:17.956Z"
   },
   {
    "duration": 5,
    "start_time": "2024-07-05T09:30:18.043Z"
   },
   {
    "duration": 23,
    "start_time": "2024-07-05T09:30:18.049Z"
   },
   {
    "duration": 12,
    "start_time": "2024-07-05T09:30:18.073Z"
   },
   {
    "duration": 349,
    "start_time": "2024-07-05T09:30:18.086Z"
   },
   {
    "duration": 864,
    "start_time": "2024-07-05T09:30:18.437Z"
   },
   {
    "duration": 4,
    "start_time": "2024-07-05T09:30:19.303Z"
   },
   {
    "duration": 1006,
    "start_time": "2024-07-05T09:31:14.256Z"
   },
   {
    "duration": 859,
    "start_time": "2024-07-05T09:31:54.578Z"
   },
   {
    "duration": 879,
    "start_time": "2024-07-05T09:34:27.606Z"
   },
   {
    "duration": 933,
    "start_time": "2024-07-05T09:35:00.919Z"
   },
   {
    "duration": 898,
    "start_time": "2024-07-05T09:35:46.934Z"
   },
   {
    "duration": 849,
    "start_time": "2024-07-05T09:36:41.034Z"
   },
   {
    "duration": 4,
    "start_time": "2024-07-05T09:37:21.238Z"
   },
   {
    "duration": 22,
    "start_time": "2024-07-05T09:37:33.300Z"
   },
   {
    "duration": 18,
    "start_time": "2024-07-05T09:38:18.652Z"
   },
   {
    "duration": 16,
    "start_time": "2024-07-05T09:38:37.462Z"
   },
   {
    "duration": 18,
    "start_time": "2024-07-05T09:38:54.392Z"
   },
   {
    "duration": 1521,
    "start_time": "2024-07-05T09:39:22.714Z"
   },
   {
    "duration": 145,
    "start_time": "2024-07-05T11:10:28.504Z"
   },
   {
    "duration": 22,
    "start_time": "2024-07-05T11:11:13.874Z"
   },
   {
    "duration": 4,
    "start_time": "2024-07-05T11:12:25.804Z"
   },
   {
    "duration": 2953,
    "start_time": "2024-07-05T11:12:25.810Z"
   },
   {
    "duration": 4,
    "start_time": "2024-07-05T11:12:28.765Z"
   },
   {
    "duration": 1453,
    "start_time": "2024-07-05T11:12:28.772Z"
   },
   {
    "duration": 163,
    "start_time": "2024-07-05T11:12:30.227Z"
   },
   {
    "duration": 78,
    "start_time": "2024-07-05T11:12:30.391Z"
   },
   {
    "duration": 6,
    "start_time": "2024-07-05T11:12:30.471Z"
   },
   {
    "duration": 112,
    "start_time": "2024-07-05T11:12:30.479Z"
   },
   {
    "duration": 78,
    "start_time": "2024-07-05T11:12:30.593Z"
   },
   {
    "duration": 369,
    "start_time": "2024-07-05T11:12:30.673Z"
   },
   {
    "duration": 1149,
    "start_time": "2024-07-05T11:12:31.044Z"
   },
   {
    "duration": 31,
    "start_time": "2024-07-05T11:12:32.195Z"
   },
   {
    "duration": 65,
    "start_time": "2024-07-05T11:12:32.229Z"
   },
   {
    "duration": 1551,
    "start_time": "2024-07-05T11:12:32.297Z"
   },
   {
    "duration": 132,
    "start_time": "2024-07-05T11:12:33.850Z"
   },
   {
    "duration": 821,
    "start_time": "2024-07-05T11:18:24.427Z"
   },
   {
    "duration": 4,
    "start_time": "2024-07-05T11:18:35.610Z"
   },
   {
    "duration": 3614,
    "start_time": "2024-07-05T11:18:35.616Z"
   },
   {
    "duration": 3,
    "start_time": "2024-07-05T11:18:39.232Z"
   },
   {
    "duration": 1613,
    "start_time": "2024-07-05T11:18:39.237Z"
   },
   {
    "duration": 214,
    "start_time": "2024-07-05T11:18:40.868Z"
   },
   {
    "duration": 80,
    "start_time": "2024-07-05T11:18:41.084Z"
   },
   {
    "duration": 1040,
    "start_time": "2024-07-05T11:18:41.165Z"
   },
   {
    "duration": 0,
    "start_time": "2024-07-05T11:18:42.207Z"
   },
   {
    "duration": 0,
    "start_time": "2024-07-05T11:18:42.208Z"
   },
   {
    "duration": 0,
    "start_time": "2024-07-05T11:18:42.209Z"
   },
   {
    "duration": 0,
    "start_time": "2024-07-05T11:18:42.211Z"
   },
   {
    "duration": 0,
    "start_time": "2024-07-05T11:18:42.213Z"
   },
   {
    "duration": 0,
    "start_time": "2024-07-05T11:18:42.214Z"
   },
   {
    "duration": 0,
    "start_time": "2024-07-05T11:18:42.215Z"
   },
   {
    "duration": 0,
    "start_time": "2024-07-05T11:18:42.217Z"
   },
   {
    "duration": 12,
    "start_time": "2024-07-05T11:20:43.269Z"
   },
   {
    "duration": 3349,
    "start_time": "2024-07-05T11:20:43.285Z"
   },
   {
    "duration": 3,
    "start_time": "2024-07-05T11:20:46.636Z"
   },
   {
    "duration": 1564,
    "start_time": "2024-07-05T11:20:46.641Z"
   },
   {
    "duration": 187,
    "start_time": "2024-07-05T11:20:48.207Z"
   },
   {
    "duration": 103,
    "start_time": "2024-07-05T11:20:48.396Z"
   },
   {
    "duration": 24,
    "start_time": "2024-07-05T11:20:48.502Z"
   },
   {
    "duration": 16,
    "start_time": "2024-07-05T11:20:48.530Z"
   },
   {
    "duration": 6,
    "start_time": "2024-07-05T11:20:48.551Z"
   },
   {
    "duration": 516,
    "start_time": "2024-07-05T11:20:48.560Z"
   },
   {
    "duration": 1110,
    "start_time": "2024-07-05T11:20:49.078Z"
   },
   {
    "duration": 41,
    "start_time": "2024-07-05T11:20:50.190Z"
   },
   {
    "duration": 31,
    "start_time": "2024-07-05T11:20:50.239Z"
   },
   {
    "duration": 1943,
    "start_time": "2024-07-05T11:20:50.273Z"
   },
   {
    "duration": 215,
    "start_time": "2024-07-05T11:20:52.218Z"
   },
   {
    "duration": 58,
    "start_time": "2024-07-05T11:26:18.831Z"
   },
   {
    "duration": 3,
    "start_time": "2024-07-05T11:27:54.571Z"
   },
   {
    "duration": 2986,
    "start_time": "2024-07-05T11:27:54.576Z"
   },
   {
    "duration": 3,
    "start_time": "2024-07-05T11:27:57.564Z"
   },
   {
    "duration": 1522,
    "start_time": "2024-07-05T11:27:57.570Z"
   },
   {
    "duration": 154,
    "start_time": "2024-07-05T11:27:59.094Z"
   },
   {
    "duration": 2562,
    "start_time": "2024-07-05T11:27:59.250Z"
   },
   {
    "duration": 469,
    "start_time": "2024-07-05T11:28:01.813Z"
   },
   {
    "duration": 55,
    "start_time": "2024-07-05T11:28:02.284Z"
   },
   {
    "duration": 6,
    "start_time": "2024-07-05T11:28:02.342Z"
   },
   {
    "duration": 375,
    "start_time": "2024-07-05T11:28:02.350Z"
   },
   {
    "duration": 919,
    "start_time": "2024-07-05T11:28:02.727Z"
   },
   {
    "duration": 22,
    "start_time": "2024-07-05T11:28:03.648Z"
   },
   {
    "duration": 62,
    "start_time": "2024-07-05T11:28:03.672Z"
   },
   {
    "duration": 1648,
    "start_time": "2024-07-05T11:28:03.736Z"
   },
   {
    "duration": 47,
    "start_time": "2024-07-05T11:28:05.385Z"
   },
   {
    "duration": 56,
    "start_time": "2024-07-05T11:33:05.052Z"
   },
   {
    "duration": 4,
    "start_time": "2024-07-05T12:19:59.214Z"
   },
   {
    "duration": 2820,
    "start_time": "2024-07-05T12:19:59.221Z"
   },
   {
    "duration": 3,
    "start_time": "2024-07-05T12:20:02.043Z"
   },
   {
    "duration": 1375,
    "start_time": "2024-07-05T12:20:02.048Z"
   },
   {
    "duration": 152,
    "start_time": "2024-07-05T12:20:03.425Z"
   },
   {
    "duration": 77,
    "start_time": "2024-07-05T12:20:03.579Z"
   },
   {
    "duration": 10,
    "start_time": "2024-07-05T12:20:03.657Z"
   },
   {
    "duration": 33,
    "start_time": "2024-07-05T12:20:03.668Z"
   },
   {
    "duration": 18,
    "start_time": "2024-07-05T12:20:03.702Z"
   },
   {
    "duration": 332,
    "start_time": "2024-07-05T12:20:03.722Z"
   },
   {
    "duration": 879,
    "start_time": "2024-07-05T12:20:04.056Z"
   },
   {
    "duration": 20,
    "start_time": "2024-07-05T12:20:04.937Z"
   },
   {
    "duration": 57,
    "start_time": "2024-07-05T12:20:04.959Z"
   },
   {
    "duration": 1504,
    "start_time": "2024-07-05T12:20:05.019Z"
   },
   {
    "duration": 69,
    "start_time": "2024-07-05T12:20:06.525Z"
   },
   {
    "duration": 82,
    "start_time": "2024-07-05T12:20:06.596Z"
   },
   {
    "duration": 58,
    "start_time": "2024-07-05T12:21:20.617Z"
   },
   {
    "duration": 162,
    "start_time": "2024-07-05T12:22:26.444Z"
   },
   {
    "duration": 4,
    "start_time": "2024-07-05T12:24:11.093Z"
   },
   {
    "duration": 2821,
    "start_time": "2024-07-05T12:24:11.100Z"
   },
   {
    "duration": 2,
    "start_time": "2024-07-05T12:24:13.923Z"
   },
   {
    "duration": 1315,
    "start_time": "2024-07-05T12:24:13.926Z"
   },
   {
    "duration": 144,
    "start_time": "2024-07-05T12:24:15.243Z"
   },
   {
    "duration": 64,
    "start_time": "2024-07-05T12:24:15.388Z"
   },
   {
    "duration": 7,
    "start_time": "2024-07-05T12:24:15.453Z"
   },
   {
    "duration": 15,
    "start_time": "2024-07-05T12:24:15.461Z"
   },
   {
    "duration": 12,
    "start_time": "2024-07-05T12:24:15.477Z"
   },
   {
    "duration": 354,
    "start_time": "2024-07-05T12:24:15.496Z"
   },
   {
    "duration": 852,
    "start_time": "2024-07-05T12:24:15.852Z"
   },
   {
    "duration": 29,
    "start_time": "2024-07-05T12:24:16.707Z"
   },
   {
    "duration": 18,
    "start_time": "2024-07-05T12:24:16.737Z"
   },
   {
    "duration": 1611,
    "start_time": "2024-07-05T12:24:16.757Z"
   },
   {
    "duration": 64,
    "start_time": "2024-07-05T12:24:18.370Z"
   },
   {
    "duration": 143,
    "start_time": "2024-07-05T12:24:18.436Z"
   },
   {
    "duration": 5,
    "start_time": "2024-07-05T12:26:29.541Z"
   },
   {
    "duration": 2806,
    "start_time": "2024-07-05T12:26:29.548Z"
   },
   {
    "duration": 2,
    "start_time": "2024-07-05T12:26:32.356Z"
   },
   {
    "duration": 1348,
    "start_time": "2024-07-05T12:26:32.360Z"
   },
   {
    "duration": 143,
    "start_time": "2024-07-05T12:26:33.711Z"
   },
   {
    "duration": 96,
    "start_time": "2024-07-05T12:26:33.856Z"
   },
   {
    "duration": 9,
    "start_time": "2024-07-05T12:26:33.954Z"
   },
   {
    "duration": 8,
    "start_time": "2024-07-05T12:26:33.965Z"
   },
   {
    "duration": 20,
    "start_time": "2024-07-05T12:26:33.975Z"
   },
   {
    "duration": 350,
    "start_time": "2024-07-05T12:26:33.997Z"
   },
   {
    "duration": 830,
    "start_time": "2024-07-05T12:26:34.349Z"
   },
   {
    "duration": 20,
    "start_time": "2024-07-05T12:26:35.181Z"
   },
   {
    "duration": 62,
    "start_time": "2024-07-05T12:26:35.202Z"
   },
   {
    "duration": 1497,
    "start_time": "2024-07-05T12:26:35.267Z"
   },
   {
    "duration": 55,
    "start_time": "2024-07-05T12:26:36.766Z"
   },
   {
    "duration": 138,
    "start_time": "2024-07-05T12:26:36.822Z"
   },
   {
    "duration": 3,
    "start_time": "2024-07-05T12:28:32.928Z"
   },
   {
    "duration": 2753,
    "start_time": "2024-07-05T12:28:32.933Z"
   },
   {
    "duration": 5,
    "start_time": "2024-07-05T12:28:35.689Z"
   },
   {
    "duration": 1312,
    "start_time": "2024-07-05T12:28:35.697Z"
   },
   {
    "duration": 147,
    "start_time": "2024-07-05T12:28:37.010Z"
   },
   {
    "duration": 86,
    "start_time": "2024-07-05T12:28:37.158Z"
   },
   {
    "duration": 7,
    "start_time": "2024-07-05T12:28:37.245Z"
   },
   {
    "duration": 14,
    "start_time": "2024-07-05T12:28:37.254Z"
   },
   {
    "duration": 10,
    "start_time": "2024-07-05T12:28:37.270Z"
   },
   {
    "duration": 356,
    "start_time": "2024-07-05T12:28:37.282Z"
   },
   {
    "duration": 851,
    "start_time": "2024-07-05T12:28:37.639Z"
   },
   {
    "duration": 35,
    "start_time": "2024-07-05T12:28:38.493Z"
   },
   {
    "duration": 22,
    "start_time": "2024-07-05T12:28:38.529Z"
   },
   {
    "duration": 1471,
    "start_time": "2024-07-05T12:28:38.553Z"
   },
   {
    "duration": 51,
    "start_time": "2024-07-05T12:28:40.026Z"
   },
   {
    "duration": 184,
    "start_time": "2024-07-05T12:28:40.078Z"
   },
   {
    "duration": 78,
    "start_time": "2024-07-05T12:40:11.617Z"
   },
   {
    "duration": 4,
    "start_time": "2024-07-05T12:40:50.805Z"
   },
   {
    "duration": 2838,
    "start_time": "2024-07-05T12:40:50.811Z"
   },
   {
    "duration": 3,
    "start_time": "2024-07-05T12:40:53.650Z"
   },
   {
    "duration": 1411,
    "start_time": "2024-07-05T12:40:53.656Z"
   },
   {
    "duration": 168,
    "start_time": "2024-07-05T12:40:55.069Z"
   },
   {
    "duration": 104,
    "start_time": "2024-07-05T12:40:55.239Z"
   },
   {
    "duration": 9,
    "start_time": "2024-07-05T12:40:55.345Z"
   },
   {
    "duration": 8,
    "start_time": "2024-07-05T12:40:55.356Z"
   },
   {
    "duration": 14,
    "start_time": "2024-07-05T12:40:55.366Z"
   },
   {
    "duration": 351,
    "start_time": "2024-07-05T12:40:55.382Z"
   },
   {
    "duration": 868,
    "start_time": "2024-07-05T12:40:55.735Z"
   },
   {
    "duration": 39,
    "start_time": "2024-07-05T12:40:56.604Z"
   },
   {
    "duration": 25,
    "start_time": "2024-07-05T12:40:56.645Z"
   },
   {
    "duration": 1603,
    "start_time": "2024-07-05T12:40:56.672Z"
   },
   {
    "duration": 52,
    "start_time": "2024-07-05T12:40:58.278Z"
   },
   {
    "duration": 62,
    "start_time": "2024-07-05T12:40:58.332Z"
   },
   {
    "duration": 161,
    "start_time": "2024-07-05T12:42:59.104Z"
   },
   {
    "duration": 4,
    "start_time": "2024-07-05T12:43:10.879Z"
   },
   {
    "duration": 3017,
    "start_time": "2024-07-05T12:43:10.886Z"
   },
   {
    "duration": 3,
    "start_time": "2024-07-05T12:43:13.905Z"
   },
   {
    "duration": 1401,
    "start_time": "2024-07-05T12:43:13.909Z"
   },
   {
    "duration": 162,
    "start_time": "2024-07-05T12:43:15.312Z"
   },
   {
    "duration": 78,
    "start_time": "2024-07-05T12:43:15.476Z"
   },
   {
    "duration": 8,
    "start_time": "2024-07-05T12:43:15.555Z"
   },
   {
    "duration": 16,
    "start_time": "2024-07-05T12:43:15.564Z"
   },
   {
    "duration": 52,
    "start_time": "2024-07-05T12:43:15.581Z"
   },
   {
    "duration": 395,
    "start_time": "2024-07-05T12:43:15.635Z"
   },
   {
    "duration": 896,
    "start_time": "2024-07-05T12:43:16.033Z"
   },
   {
    "duration": 32,
    "start_time": "2024-07-05T12:43:16.931Z"
   },
   {
    "duration": 19,
    "start_time": "2024-07-05T12:43:16.964Z"
   },
   {
    "duration": 1564,
    "start_time": "2024-07-05T12:43:16.984Z"
   },
   {
    "duration": 50,
    "start_time": "2024-07-05T12:43:18.550Z"
   },
   {
    "duration": 170,
    "start_time": "2024-07-05T12:43:18.602Z"
   },
   {
    "duration": 45,
    "start_time": "2024-07-05T12:44:53.986Z"
   },
   {
    "duration": 3,
    "start_time": "2024-07-05T12:45:03.067Z"
   },
   {
    "duration": 2801,
    "start_time": "2024-07-05T12:45:03.072Z"
   },
   {
    "duration": 2,
    "start_time": "2024-07-05T12:45:05.875Z"
   },
   {
    "duration": 1346,
    "start_time": "2024-07-05T12:45:05.879Z"
   },
   {
    "duration": 143,
    "start_time": "2024-07-05T12:45:07.227Z"
   },
   {
    "duration": 78,
    "start_time": "2024-07-05T12:45:07.372Z"
   },
   {
    "duration": 6,
    "start_time": "2024-07-05T12:45:07.451Z"
   },
   {
    "duration": 28,
    "start_time": "2024-07-05T12:45:07.458Z"
   },
   {
    "duration": 15,
    "start_time": "2024-07-05T12:45:07.488Z"
   },
   {
    "duration": 330,
    "start_time": "2024-07-05T12:45:07.504Z"
   },
   {
    "duration": 886,
    "start_time": "2024-07-05T12:45:07.835Z"
   },
   {
    "duration": 28,
    "start_time": "2024-07-05T12:45:08.722Z"
   },
   {
    "duration": 19,
    "start_time": "2024-07-05T12:45:08.752Z"
   },
   {
    "duration": 1496,
    "start_time": "2024-07-05T12:45:08.772Z"
   },
   {
    "duration": 57,
    "start_time": "2024-07-05T12:45:10.269Z"
   },
   {
    "duration": 160,
    "start_time": "2024-07-05T12:45:10.328Z"
   },
   {
    "duration": 52,
    "start_time": "2024-07-05T12:52:00.365Z"
   },
   {
    "duration": 48,
    "start_time": "2024-07-05T12:53:32.272Z"
   },
   {
    "duration": 57,
    "start_time": "2024-07-05T12:53:46.376Z"
   },
   {
    "duration": 62,
    "start_time": "2024-07-05T12:54:20.346Z"
   },
   {
    "duration": 4,
    "start_time": "2024-07-05T12:56:12.157Z"
   },
   {
    "duration": 4,
    "start_time": "2024-07-05T12:56:22.261Z"
   },
   {
    "duration": 2795,
    "start_time": "2024-07-05T12:56:22.266Z"
   },
   {
    "duration": 3,
    "start_time": "2024-07-05T12:56:25.063Z"
   },
   {
    "duration": 1384,
    "start_time": "2024-07-05T12:56:25.068Z"
   },
   {
    "duration": 145,
    "start_time": "2024-07-05T12:56:26.453Z"
   },
   {
    "duration": 47,
    "start_time": "2024-07-05T12:56:26.599Z"
   },
   {
    "duration": 6,
    "start_time": "2024-07-05T12:56:26.647Z"
   },
   {
    "duration": 18,
    "start_time": "2024-07-05T12:56:26.654Z"
   },
   {
    "duration": 6,
    "start_time": "2024-07-05T12:56:26.674Z"
   },
   {
    "duration": 355,
    "start_time": "2024-07-05T12:56:26.682Z"
   },
   {
    "duration": 829,
    "start_time": "2024-07-05T12:56:27.039Z"
   },
   {
    "duration": 19,
    "start_time": "2024-07-05T12:56:27.869Z"
   },
   {
    "duration": 32,
    "start_time": "2024-07-05T12:56:27.889Z"
   },
   {
    "duration": 1485,
    "start_time": "2024-07-05T12:56:27.922Z"
   },
   {
    "duration": 5,
    "start_time": "2024-07-05T12:56:29.409Z"
   },
   {
    "duration": 0,
    "start_time": "2024-07-05T12:56:29.415Z"
   },
   {
    "duration": 53,
    "start_time": "2024-07-05T12:56:58.622Z"
   },
   {
    "duration": 163,
    "start_time": "2024-07-05T12:57:05.607Z"
   },
   {
    "duration": 79,
    "start_time": "2024-07-05T13:41:04.024Z"
   },
   {
    "duration": 4,
    "start_time": "2024-07-05T13:41:24.482Z"
   },
   {
    "duration": 2818,
    "start_time": "2024-07-05T13:41:24.489Z"
   },
   {
    "duration": 3,
    "start_time": "2024-07-05T13:41:27.309Z"
   },
   {
    "duration": 1304,
    "start_time": "2024-07-05T13:41:27.313Z"
   },
   {
    "duration": 170,
    "start_time": "2024-07-05T13:41:28.622Z"
   },
   {
    "duration": 73,
    "start_time": "2024-07-05T13:41:28.794Z"
   },
   {
    "duration": 8,
    "start_time": "2024-07-05T13:41:28.869Z"
   },
   {
    "duration": 45,
    "start_time": "2024-07-05T13:41:28.879Z"
   },
   {
    "duration": 23,
    "start_time": "2024-07-05T13:41:28.926Z"
   },
   {
    "duration": 317,
    "start_time": "2024-07-05T13:41:28.951Z"
   },
   {
    "duration": 892,
    "start_time": "2024-07-05T13:41:29.269Z"
   },
   {
    "duration": 21,
    "start_time": "2024-07-05T13:41:30.163Z"
   },
   {
    "duration": 77,
    "start_time": "2024-07-05T13:41:30.187Z"
   },
   {
    "duration": 1614,
    "start_time": "2024-07-05T13:41:30.266Z"
   },
   {
    "duration": 71,
    "start_time": "2024-07-05T13:41:31.882Z"
   },
   {
    "duration": 0,
    "start_time": "2024-07-05T13:41:31.955Z"
   },
   {
    "duration": 68,
    "start_time": "2024-07-05T13:41:59.841Z"
   },
   {
    "duration": 59,
    "start_time": "2024-07-05T13:42:07.462Z"
   },
   {
    "duration": 132,
    "start_time": "2024-07-05T13:42:36.637Z"
   },
   {
    "duration": 63,
    "start_time": "2024-07-05T13:43:21.150Z"
   },
   {
    "duration": 56,
    "start_time": "2024-07-05T13:44:08.828Z"
   },
   {
    "duration": 41,
    "start_time": "2024-07-05T13:44:19.295Z"
   },
   {
    "duration": 11,
    "start_time": "2024-07-05T13:44:32.186Z"
   },
   {
    "duration": 4,
    "start_time": "2024-07-05T13:45:21.215Z"
   },
   {
    "duration": 2849,
    "start_time": "2024-07-05T13:45:21.221Z"
   },
   {
    "duration": 3,
    "start_time": "2024-07-05T13:45:24.071Z"
   },
   {
    "duration": 1328,
    "start_time": "2024-07-05T13:45:24.076Z"
   },
   {
    "duration": 145,
    "start_time": "2024-07-05T13:45:25.406Z"
   },
   {
    "duration": 92,
    "start_time": "2024-07-05T13:45:25.552Z"
   },
   {
    "duration": 7,
    "start_time": "2024-07-05T13:45:25.646Z"
   },
   {
    "duration": 28,
    "start_time": "2024-07-05T13:45:25.655Z"
   },
   {
    "duration": 12,
    "start_time": "2024-07-05T13:45:25.685Z"
   },
   {
    "duration": 329,
    "start_time": "2024-07-05T13:45:25.698Z"
   },
   {
    "duration": 992,
    "start_time": "2024-07-05T13:45:26.028Z"
   },
   {
    "duration": 22,
    "start_time": "2024-07-05T13:45:27.021Z"
   },
   {
    "duration": 23,
    "start_time": "2024-07-05T13:45:27.044Z"
   },
   {
    "duration": 1519,
    "start_time": "2024-07-05T13:45:27.069Z"
   },
   {
    "duration": 64,
    "start_time": "2024-07-05T13:45:28.589Z"
   },
   {
    "duration": 159,
    "start_time": "2024-07-05T13:45:28.655Z"
   },
   {
    "duration": 48,
    "start_time": "2024-07-05T14:24:45.492Z"
   },
   {
    "duration": 46,
    "start_time": "2024-07-05T14:27:52.451Z"
   },
   {
    "duration": 12,
    "start_time": "2024-07-05T14:31:43.256Z"
   },
   {
    "duration": 41,
    "start_time": "2024-07-05T14:32:13.653Z"
   },
   {
    "duration": 27,
    "start_time": "2024-07-05T14:38:06.213Z"
   },
   {
    "duration": 15,
    "start_time": "2024-07-05T14:43:26.640Z"
   },
   {
    "duration": 3,
    "start_time": "2024-07-05T14:44:05.863Z"
   },
   {
    "duration": 2902,
    "start_time": "2024-07-05T14:44:05.868Z"
   },
   {
    "duration": 3,
    "start_time": "2024-07-05T14:44:08.772Z"
   },
   {
    "duration": 1345,
    "start_time": "2024-07-05T14:44:08.777Z"
   },
   {
    "duration": 147,
    "start_time": "2024-07-05T14:44:10.124Z"
   },
   {
    "duration": 84,
    "start_time": "2024-07-05T14:44:10.272Z"
   },
   {
    "duration": 7,
    "start_time": "2024-07-05T14:44:10.358Z"
   },
   {
    "duration": 7,
    "start_time": "2024-07-05T14:44:10.367Z"
   },
   {
    "duration": 45,
    "start_time": "2024-07-05T14:44:10.377Z"
   },
   {
    "duration": 330,
    "start_time": "2024-07-05T14:44:10.424Z"
   },
   {
    "duration": 865,
    "start_time": "2024-07-05T14:44:10.756Z"
   },
   {
    "duration": 28,
    "start_time": "2024-07-05T14:44:11.623Z"
   },
   {
    "duration": 24,
    "start_time": "2024-07-05T14:44:11.653Z"
   },
   {
    "duration": 1594,
    "start_time": "2024-07-05T14:44:11.678Z"
   },
   {
    "duration": 48,
    "start_time": "2024-07-05T14:44:13.273Z"
   },
   {
    "duration": 131,
    "start_time": "2024-07-05T14:44:13.322Z"
   },
   {
    "duration": 10,
    "start_time": "2024-07-05T14:51:39.898Z"
   },
   {
    "duration": 27,
    "start_time": "2024-07-05T14:52:05.432Z"
   },
   {
    "duration": 13,
    "start_time": "2024-07-05T14:54:59.787Z"
   },
   {
    "duration": 34,
    "start_time": "2024-07-05T14:56:13.314Z"
   },
   {
    "duration": 27,
    "start_time": "2024-07-05T14:56:30.904Z"
   },
   {
    "duration": 3,
    "start_time": "2024-07-05T14:56:38.754Z"
   },
   {
    "duration": 2713,
    "start_time": "2024-07-05T14:56:38.759Z"
   },
   {
    "duration": 2,
    "start_time": "2024-07-05T14:56:41.474Z"
   },
   {
    "duration": 1399,
    "start_time": "2024-07-05T14:56:41.478Z"
   },
   {
    "duration": 144,
    "start_time": "2024-07-05T14:56:42.879Z"
   },
   {
    "duration": 60,
    "start_time": "2024-07-05T14:56:43.025Z"
   },
   {
    "duration": 39,
    "start_time": "2024-07-05T14:56:43.086Z"
   },
   {
    "duration": 6,
    "start_time": "2024-07-05T14:56:43.127Z"
   },
   {
    "duration": 8,
    "start_time": "2024-07-05T14:56:43.135Z"
   },
   {
    "duration": 336,
    "start_time": "2024-07-05T14:56:43.145Z"
   },
   {
    "duration": 884,
    "start_time": "2024-07-05T14:56:43.483Z"
   },
   {
    "duration": 21,
    "start_time": "2024-07-05T14:56:44.369Z"
   },
   {
    "duration": 36,
    "start_time": "2024-07-05T14:56:44.393Z"
   },
   {
    "duration": 1446,
    "start_time": "2024-07-05T14:56:44.430Z"
   },
   {
    "duration": 64,
    "start_time": "2024-07-05T14:56:45.878Z"
   },
   {
    "duration": 140,
    "start_time": "2024-07-05T14:56:45.944Z"
   },
   {
    "duration": 55,
    "start_time": "2024-07-05T14:57:16.369Z"
   },
   {
    "duration": 65,
    "start_time": "2024-07-05T14:57:59.669Z"
   },
   {
    "duration": 72,
    "start_time": "2024-07-05T14:58:10.980Z"
   },
   {
    "duration": 58,
    "start_time": "2024-07-05T14:58:19.657Z"
   },
   {
    "duration": 3,
    "start_time": "2024-07-05T14:58:25.534Z"
   },
   {
    "duration": 2767,
    "start_time": "2024-07-05T14:58:25.539Z"
   },
   {
    "duration": 2,
    "start_time": "2024-07-05T14:58:28.308Z"
   },
   {
    "duration": 1270,
    "start_time": "2024-07-05T14:58:28.312Z"
   },
   {
    "duration": 151,
    "start_time": "2024-07-05T14:58:29.584Z"
   },
   {
    "duration": 90,
    "start_time": "2024-07-05T14:58:29.737Z"
   },
   {
    "duration": 7,
    "start_time": "2024-07-05T14:58:29.828Z"
   },
   {
    "duration": 24,
    "start_time": "2024-07-05T14:58:29.837Z"
   },
   {
    "duration": 29,
    "start_time": "2024-07-05T14:58:29.863Z"
   },
   {
    "duration": 345,
    "start_time": "2024-07-05T14:58:29.893Z"
   },
   {
    "duration": 870,
    "start_time": "2024-07-05T14:58:30.240Z"
   },
   {
    "duration": 25,
    "start_time": "2024-07-05T14:58:31.112Z"
   },
   {
    "duration": 71,
    "start_time": "2024-07-05T14:58:31.139Z"
   },
   {
    "duration": 1615,
    "start_time": "2024-07-05T14:58:31.212Z"
   },
   {
    "duration": 47,
    "start_time": "2024-07-05T14:58:32.829Z"
   },
   {
    "duration": 62,
    "start_time": "2024-07-05T14:58:32.878Z"
   },
   {
    "duration": 150,
    "start_time": "2024-07-05T15:01:36.806Z"
   },
   {
    "duration": 3,
    "start_time": "2024-07-05T15:01:50.959Z"
   },
   {
    "duration": 2842,
    "start_time": "2024-07-05T15:01:50.964Z"
   },
   {
    "duration": 2,
    "start_time": "2024-07-05T15:01:53.808Z"
   },
   {
    "duration": 1371,
    "start_time": "2024-07-05T15:01:53.812Z"
   },
   {
    "duration": 141,
    "start_time": "2024-07-05T15:01:55.184Z"
   },
   {
    "duration": 59,
    "start_time": "2024-07-05T15:01:55.326Z"
   },
   {
    "duration": 7,
    "start_time": "2024-07-05T15:01:55.420Z"
   },
   {
    "duration": 22,
    "start_time": "2024-07-05T15:01:55.428Z"
   },
   {
    "duration": 11,
    "start_time": "2024-07-05T15:01:55.453Z"
   },
   {
    "duration": 356,
    "start_time": "2024-07-05T15:01:55.466Z"
   },
   {
    "duration": 855,
    "start_time": "2024-07-05T15:01:55.824Z"
   },
   {
    "duration": 21,
    "start_time": "2024-07-05T15:01:56.681Z"
   },
   {
    "duration": 33,
    "start_time": "2024-07-05T15:01:56.703Z"
   },
   {
    "duration": 1491,
    "start_time": "2024-07-05T15:01:56.737Z"
   },
   {
    "duration": 47,
    "start_time": "2024-07-05T15:01:58.230Z"
   },
   {
    "duration": 163,
    "start_time": "2024-07-05T15:01:58.279Z"
   },
   {
    "duration": 25,
    "start_time": "2024-07-05T15:05:14.241Z"
   },
   {
    "duration": 4,
    "start_time": "2024-07-05T15:06:12.050Z"
   },
   {
    "duration": 2864,
    "start_time": "2024-07-05T15:06:12.056Z"
   },
   {
    "duration": 2,
    "start_time": "2024-07-05T15:06:14.922Z"
   },
   {
    "duration": 1433,
    "start_time": "2024-07-05T15:06:14.926Z"
   },
   {
    "duration": 172,
    "start_time": "2024-07-05T15:06:16.365Z"
   },
   {
    "duration": 116,
    "start_time": "2024-07-05T15:06:16.539Z"
   },
   {
    "duration": 9,
    "start_time": "2024-07-05T15:06:16.657Z"
   },
   {
    "duration": 7,
    "start_time": "2024-07-05T15:06:16.668Z"
   },
   {
    "duration": 12,
    "start_time": "2024-07-05T15:06:16.677Z"
   },
   {
    "duration": 418,
    "start_time": "2024-07-05T15:06:16.691Z"
   },
   {
    "duration": 844,
    "start_time": "2024-07-05T15:06:17.111Z"
   },
   {
    "duration": 27,
    "start_time": "2024-07-05T15:06:17.957Z"
   },
   {
    "duration": 47,
    "start_time": "2024-07-05T15:06:17.985Z"
   },
   {
    "duration": 1529,
    "start_time": "2024-07-05T15:06:18.035Z"
   },
   {
    "duration": 64,
    "start_time": "2024-07-05T15:06:19.566Z"
   },
   {
    "duration": 196,
    "start_time": "2024-07-05T15:06:19.632Z"
   },
   {
    "duration": 4,
    "start_time": "2024-07-05T15:07:46.647Z"
   },
   {
    "duration": 2909,
    "start_time": "2024-07-05T15:07:46.653Z"
   },
   {
    "duration": 3,
    "start_time": "2024-07-05T15:07:49.564Z"
   },
   {
    "duration": 1338,
    "start_time": "2024-07-05T15:07:49.569Z"
   },
   {
    "duration": 153,
    "start_time": "2024-07-05T15:07:50.910Z"
   },
   {
    "duration": 101,
    "start_time": "2024-07-05T15:07:51.065Z"
   },
   {
    "duration": 8,
    "start_time": "2024-07-05T15:07:51.168Z"
   },
   {
    "duration": 9,
    "start_time": "2024-07-05T15:07:51.178Z"
   },
   {
    "duration": 31,
    "start_time": "2024-07-05T15:07:51.189Z"
   },
   {
    "duration": 358,
    "start_time": "2024-07-05T15:07:51.222Z"
   },
   {
    "duration": 1004,
    "start_time": "2024-07-05T15:07:51.583Z"
   },
   {
    "duration": 34,
    "start_time": "2024-07-05T15:07:52.589Z"
   },
   {
    "duration": 23,
    "start_time": "2024-07-05T15:07:52.625Z"
   },
   {
    "duration": 1581,
    "start_time": "2024-07-05T15:07:52.650Z"
   },
   {
    "duration": 65,
    "start_time": "2024-07-05T15:07:54.233Z"
   },
   {
    "duration": 1586,
    "start_time": "2024-07-05T15:07:54.300Z"
   },
   {
    "duration": 5,
    "start_time": "2024-07-05T15:09:58.644Z"
   },
   {
    "duration": 3006,
    "start_time": "2024-07-05T15:09:58.651Z"
   },
   {
    "duration": 3,
    "start_time": "2024-07-05T15:10:01.660Z"
   },
   {
    "duration": 1499,
    "start_time": "2024-07-05T15:10:01.665Z"
   },
   {
    "duration": 170,
    "start_time": "2024-07-05T15:10:03.166Z"
   },
   {
    "duration": 107,
    "start_time": "2024-07-05T15:10:03.338Z"
   },
   {
    "duration": 9,
    "start_time": "2024-07-05T15:10:03.447Z"
   },
   {
    "duration": 11,
    "start_time": "2024-07-05T15:10:03.458Z"
   },
   {
    "duration": 8,
    "start_time": "2024-07-05T15:10:03.474Z"
   },
   {
    "duration": 550,
    "start_time": "2024-07-05T15:10:03.484Z"
   },
   {
    "duration": 903,
    "start_time": "2024-07-05T15:10:04.036Z"
   },
   {
    "duration": 25,
    "start_time": "2024-07-05T15:10:04.941Z"
   },
   {
    "duration": 19,
    "start_time": "2024-07-05T15:10:04.968Z"
   },
   {
    "duration": 1755,
    "start_time": "2024-07-05T15:10:04.989Z"
   },
   {
    "duration": 70,
    "start_time": "2024-07-05T15:10:06.746Z"
   },
   {
    "duration": 1846,
    "start_time": "2024-07-05T15:10:06.818Z"
   },
   {
    "duration": 1512,
    "start_time": "2024-07-05T15:11:09.813Z"
   },
   {
    "duration": 51,
    "start_time": "2024-07-05T15:22:46.198Z"
   },
   {
    "duration": 70,
    "start_time": "2024-07-05T15:30:03.910Z"
   },
   {
    "duration": 1038,
    "start_time": "2024-07-05T15:31:16.922Z"
   },
   {
    "duration": 9132,
    "start_time": "2024-07-05T15:34:53.227Z"
   },
   {
    "duration": 4,
    "start_time": "2024-07-05T15:35:07.643Z"
   },
   {
    "duration": 2922,
    "start_time": "2024-07-05T15:35:07.649Z"
   },
   {
    "duration": 3,
    "start_time": "2024-07-05T15:35:10.573Z"
   },
   {
    "duration": 1422,
    "start_time": "2024-07-05T15:35:10.578Z"
   },
   {
    "duration": 184,
    "start_time": "2024-07-05T15:35:12.002Z"
   },
   {
    "duration": 91,
    "start_time": "2024-07-05T15:35:12.188Z"
   },
   {
    "duration": 47,
    "start_time": "2024-07-05T15:35:12.281Z"
   },
   {
    "duration": 12,
    "start_time": "2024-07-05T15:35:12.331Z"
   },
   {
    "duration": 14,
    "start_time": "2024-07-05T15:35:12.345Z"
   },
   {
    "duration": 377,
    "start_time": "2024-07-05T15:35:12.360Z"
   },
   {
    "duration": 1044,
    "start_time": "2024-07-05T15:35:12.739Z"
   },
   {
    "duration": 21,
    "start_time": "2024-07-05T15:35:13.785Z"
   },
   {
    "duration": 19,
    "start_time": "2024-07-05T15:35:13.822Z"
   },
   {
    "duration": 1560,
    "start_time": "2024-07-05T15:35:13.843Z"
   },
   {
    "duration": 81,
    "start_time": "2024-07-05T15:35:15.405Z"
   },
   {
    "duration": 8424,
    "start_time": "2024-07-05T15:35:15.488Z"
   },
   {
    "duration": 723,
    "start_time": "2024-07-05T15:35:23.914Z"
   },
   {
    "duration": 0,
    "start_time": "2024-07-05T15:35:24.639Z"
   },
   {
    "duration": 1938,
    "start_time": "2024-07-05T15:36:01.901Z"
   },
   {
    "duration": 1822,
    "start_time": "2024-07-05T15:37:40.088Z"
   },
   {
    "duration": 39,
    "start_time": "2024-07-05T15:48:01.703Z"
   },
   {
    "duration": 24,
    "start_time": "2024-07-05T15:49:01.693Z"
   },
   {
    "duration": 3,
    "start_time": "2024-07-05T15:50:28.765Z"
   },
   {
    "duration": 2929,
    "start_time": "2024-07-05T15:50:28.770Z"
   },
   {
    "duration": 3,
    "start_time": "2024-07-05T15:50:31.701Z"
   },
   {
    "duration": 1499,
    "start_time": "2024-07-05T15:50:31.706Z"
   },
   {
    "duration": 155,
    "start_time": "2024-07-05T15:50:33.206Z"
   },
   {
    "duration": 91,
    "start_time": "2024-07-05T15:50:33.362Z"
   },
   {
    "duration": 7,
    "start_time": "2024-07-05T15:50:33.454Z"
   },
   {
    "duration": 11,
    "start_time": "2024-07-05T15:50:33.462Z"
   },
   {
    "duration": 8,
    "start_time": "2024-07-05T15:50:33.475Z"
   },
   {
    "duration": 367,
    "start_time": "2024-07-05T15:50:33.485Z"
   },
   {
    "duration": 918,
    "start_time": "2024-07-05T15:50:33.854Z"
   },
   {
    "duration": 26,
    "start_time": "2024-07-05T15:50:34.774Z"
   },
   {
    "duration": 38,
    "start_time": "2024-07-05T15:50:34.802Z"
   },
   {
    "duration": 1578,
    "start_time": "2024-07-05T15:50:34.842Z"
   },
   {
    "duration": 59,
    "start_time": "2024-07-05T15:50:36.422Z"
   },
   {
    "duration": 6664,
    "start_time": "2024-07-05T15:50:36.483Z"
   },
   {
    "duration": 2974,
    "start_time": "2024-07-05T15:50:43.149Z"
   },
   {
    "duration": 33,
    "start_time": "2024-07-05T15:50:46.125Z"
   },
   {
    "duration": 3,
    "start_time": "2024-07-05T19:59:03.609Z"
   },
   {
    "duration": 7461,
    "start_time": "2024-07-05T19:59:03.615Z"
   },
   {
    "duration": 3,
    "start_time": "2024-07-05T19:59:11.078Z"
   },
   {
    "duration": 53,
    "start_time": "2024-07-05T19:59:11.082Z"
   },
   {
    "duration": 0,
    "start_time": "2024-07-05T19:59:11.137Z"
   },
   {
    "duration": 0,
    "start_time": "2024-07-05T19:59:11.139Z"
   },
   {
    "duration": 0,
    "start_time": "2024-07-05T19:59:11.140Z"
   },
   {
    "duration": 0,
    "start_time": "2024-07-05T19:59:11.141Z"
   },
   {
    "duration": 0,
    "start_time": "2024-07-05T19:59:11.142Z"
   },
   {
    "duration": 0,
    "start_time": "2024-07-05T19:59:11.144Z"
   },
   {
    "duration": 0,
    "start_time": "2024-07-05T19:59:11.145Z"
   },
   {
    "duration": 0,
    "start_time": "2024-07-05T19:59:11.147Z"
   },
   {
    "duration": 0,
    "start_time": "2024-07-05T19:59:11.148Z"
   },
   {
    "duration": 0,
    "start_time": "2024-07-05T19:59:11.149Z"
   },
   {
    "duration": 0,
    "start_time": "2024-07-05T19:59:11.152Z"
   },
   {
    "duration": 0,
    "start_time": "2024-07-05T19:59:11.153Z"
   },
   {
    "duration": 0,
    "start_time": "2024-07-05T19:59:11.154Z"
   },
   {
    "duration": 0,
    "start_time": "2024-07-05T19:59:11.156Z"
   },
   {
    "duration": 0,
    "start_time": "2024-07-05T19:59:11.158Z"
   },
   {
    "duration": 3,
    "start_time": "2024-07-05T19:59:27.915Z"
   },
   {
    "duration": 2575,
    "start_time": "2024-07-05T19:59:27.933Z"
   },
   {
    "duration": 3,
    "start_time": "2024-07-05T19:59:30.511Z"
   },
   {
    "duration": 165,
    "start_time": "2024-07-05T19:59:30.516Z"
   },
   {
    "duration": 0,
    "start_time": "2024-07-05T19:59:30.683Z"
   },
   {
    "duration": 0,
    "start_time": "2024-07-05T19:59:30.685Z"
   },
   {
    "duration": 0,
    "start_time": "2024-07-05T19:59:30.686Z"
   },
   {
    "duration": 0,
    "start_time": "2024-07-05T19:59:30.687Z"
   },
   {
    "duration": 0,
    "start_time": "2024-07-05T19:59:30.688Z"
   },
   {
    "duration": 0,
    "start_time": "2024-07-05T19:59:30.689Z"
   },
   {
    "duration": 0,
    "start_time": "2024-07-05T19:59:30.690Z"
   },
   {
    "duration": 0,
    "start_time": "2024-07-05T19:59:30.691Z"
   },
   {
    "duration": 0,
    "start_time": "2024-07-05T19:59:30.693Z"
   },
   {
    "duration": 0,
    "start_time": "2024-07-05T19:59:30.694Z"
   },
   {
    "duration": 0,
    "start_time": "2024-07-05T19:59:30.695Z"
   },
   {
    "duration": 0,
    "start_time": "2024-07-05T19:59:30.695Z"
   },
   {
    "duration": 0,
    "start_time": "2024-07-05T19:59:30.697Z"
   },
   {
    "duration": 0,
    "start_time": "2024-07-05T19:59:30.698Z"
   },
   {
    "duration": 0,
    "start_time": "2024-07-05T19:59:30.698Z"
   },
   {
    "duration": 2,
    "start_time": "2024-07-05T19:59:46.353Z"
   },
   {
    "duration": 2610,
    "start_time": "2024-07-05T19:59:48.163Z"
   },
   {
    "duration": 3,
    "start_time": "2024-07-05T19:59:50.775Z"
   },
   {
    "duration": 4391,
    "start_time": "2024-07-05T20:02:04.273Z"
   },
   {
    "duration": 4,
    "start_time": "2024-07-05T20:02:23.050Z"
   },
   {
    "duration": 2785,
    "start_time": "2024-07-05T20:02:23.056Z"
   },
   {
    "duration": 2785,
    "start_time": "2024-07-05T20:02:25.843Z"
   },
   {
    "duration": 3,
    "start_time": "2024-07-05T20:02:28.629Z"
   },
   {
    "duration": 2141,
    "start_time": "2024-07-05T20:02:28.634Z"
   },
   {
    "duration": 338,
    "start_time": "2024-07-05T20:02:30.776Z"
   },
   {
    "duration": 81,
    "start_time": "2024-07-05T20:02:31.116Z"
   },
   {
    "duration": 48,
    "start_time": "2024-07-05T20:02:31.199Z"
   },
   {
    "duration": 67,
    "start_time": "2024-07-05T20:02:31.249Z"
   },
   {
    "duration": 176,
    "start_time": "2024-07-05T20:02:31.318Z"
   },
   {
    "duration": 530,
    "start_time": "2024-07-05T20:02:31.495Z"
   },
   {
    "duration": 1096,
    "start_time": "2024-07-05T20:02:32.027Z"
   },
   {
    "duration": 32,
    "start_time": "2024-07-05T20:02:33.125Z"
   },
   {
    "duration": 27,
    "start_time": "2024-07-05T20:02:33.160Z"
   },
   {
    "duration": 1719,
    "start_time": "2024-07-05T20:02:33.189Z"
   },
   {
    "duration": 65,
    "start_time": "2024-07-05T20:02:34.911Z"
   },
   {
    "duration": 7666,
    "start_time": "2024-07-05T20:02:34.978Z"
   },
   {
    "duration": 3086,
    "start_time": "2024-07-05T20:02:42.647Z"
   },
   {
    "duration": 31,
    "start_time": "2024-07-05T20:02:45.735Z"
   },
   {
    "duration": 203,
    "start_time": "2024-07-05T20:02:45.767Z"
   },
   {
    "duration": 14,
    "start_time": "2024-07-05T20:04:15.217Z"
   },
   {
    "duration": 26,
    "start_time": "2024-07-05T20:05:09.599Z"
   },
   {
    "duration": 196496,
    "start_time": "2024-07-05T20:07:12.003Z"
   },
   {
    "duration": 2198311,
    "start_time": "2024-07-05T20:15:29.280Z"
   },
   {
    "duration": 33,
    "start_time": "2024-07-05T21:00:24.793Z"
   },
   {
    "duration": 32,
    "start_time": "2024-07-05T21:02:09.205Z"
   },
   {
    "duration": 25,
    "start_time": "2024-07-05T21:03:17.007Z"
   },
   {
    "duration": 3231,
    "start_time": "2024-07-05T21:04:30.696Z"
   },
   {
    "duration": 13,
    "start_time": "2024-07-05T21:05:39.685Z"
   },
   {
    "duration": 40,
    "start_time": "2024-07-05T21:06:34.037Z"
   },
   {
    "duration": 73,
    "start_time": "2024-07-05T21:08:13.708Z"
   },
   {
    "duration": 45,
    "start_time": "2024-07-05T21:09:23.590Z"
   },
   {
    "duration": 32,
    "start_time": "2024-07-05T21:09:41.943Z"
   },
   {
    "duration": 41,
    "start_time": "2024-07-05T21:10:04.195Z"
   },
   {
    "duration": 17,
    "start_time": "2024-07-05T21:18:36.511Z"
   },
   {
    "duration": 30,
    "start_time": "2024-07-05T21:19:34.152Z"
   },
   {
    "duration": 3,
    "start_time": "2024-07-05T21:21:30.361Z"
   },
   {
    "duration": 2663,
    "start_time": "2024-07-05T21:21:30.366Z"
   },
   {
    "duration": 2642,
    "start_time": "2024-07-05T21:21:33.031Z"
   },
   {
    "duration": 2,
    "start_time": "2024-07-05T21:21:35.675Z"
   },
   {
    "duration": 1787,
    "start_time": "2024-07-05T21:21:35.679Z"
   },
   {
    "duration": 145,
    "start_time": "2024-07-05T21:21:37.467Z"
   },
   {
    "duration": 65,
    "start_time": "2024-07-05T21:21:37.614Z"
   },
   {
    "duration": 7,
    "start_time": "2024-07-05T21:21:37.681Z"
   },
   {
    "duration": 31,
    "start_time": "2024-07-05T21:21:37.689Z"
   },
   {
    "duration": 29,
    "start_time": "2024-07-05T21:21:37.722Z"
   },
   {
    "duration": 409,
    "start_time": "2024-07-05T21:21:37.752Z"
   },
   {
    "duration": 986,
    "start_time": "2024-07-05T21:21:38.164Z"
   },
   {
    "duration": 20,
    "start_time": "2024-07-05T21:21:39.152Z"
   },
   {
    "duration": 19,
    "start_time": "2024-07-05T21:21:39.174Z"
   },
   {
    "duration": 1618,
    "start_time": "2024-07-05T21:21:39.195Z"
   },
   {
    "duration": 59,
    "start_time": "2024-07-05T21:21:40.814Z"
   },
   {
    "duration": 7658,
    "start_time": "2024-07-05T21:21:40.874Z"
   },
   {
    "duration": 2878,
    "start_time": "2024-07-05T21:21:48.534Z"
   },
   {
    "duration": 24,
    "start_time": "2024-07-05T21:21:51.414Z"
   },
   {
    "duration": 2126172,
    "start_time": "2024-07-05T21:21:51.446Z"
   },
   {
    "duration": 849991,
    "start_time": "2024-07-05T21:57:17.620Z"
   },
   {
    "duration": 4,
    "start_time": "2024-07-06T14:04:47.590Z"
   },
   {
    "duration": 3949,
    "start_time": "2024-07-06T14:04:47.595Z"
   },
   {
    "duration": 7049,
    "start_time": "2024-07-06T14:04:51.546Z"
   },
   {
    "duration": 2,
    "start_time": "2024-07-06T14:04:58.597Z"
   },
   {
    "duration": 1952,
    "start_time": "2024-07-06T14:04:58.601Z"
   },
   {
    "duration": 324,
    "start_time": "2024-07-06T14:05:00.555Z"
   },
   {
    "duration": 97,
    "start_time": "2024-07-06T14:05:00.881Z"
   },
   {
    "duration": 7,
    "start_time": "2024-07-06T14:05:00.979Z"
   },
   {
    "duration": 35,
    "start_time": "2024-07-06T14:05:00.987Z"
   },
   {
    "duration": 78,
    "start_time": "2024-07-06T14:05:01.024Z"
   },
   {
    "duration": 424,
    "start_time": "2024-07-06T14:05:01.103Z"
   },
   {
    "duration": 944,
    "start_time": "2024-07-06T14:05:01.528Z"
   },
   {
    "duration": 20,
    "start_time": "2024-07-06T14:05:02.474Z"
   },
   {
    "duration": 19,
    "start_time": "2024-07-06T14:05:02.497Z"
   },
   {
    "duration": 1513,
    "start_time": "2024-07-06T14:05:02.538Z"
   },
   {
    "duration": 58,
    "start_time": "2024-07-06T14:05:04.052Z"
   },
   {
    "duration": 7020,
    "start_time": "2024-07-06T14:05:04.112Z"
   },
   {
    "duration": 2716,
    "start_time": "2024-07-06T14:05:11.134Z"
   },
   {
    "duration": 24,
    "start_time": "2024-07-06T14:05:13.852Z"
   },
   {
    "duration": 2006998,
    "start_time": "2024-07-06T14:05:13.877Z"
   },
   {
    "duration": 146,
    "start_time": "2024-07-06T14:38:40.876Z"
   },
   {
    "duration": 3,
    "start_time": "2024-07-06T15:09:30.362Z"
   },
   {
    "duration": 2521,
    "start_time": "2024-07-06T15:09:30.367Z"
   },
   {
    "duration": 2391,
    "start_time": "2024-07-06T15:09:32.891Z"
   },
   {
    "duration": 2,
    "start_time": "2024-07-06T15:09:35.285Z"
   },
   {
    "duration": 1726,
    "start_time": "2024-07-06T15:09:35.288Z"
   },
   {
    "duration": 138,
    "start_time": "2024-07-06T15:09:37.015Z"
   },
   {
    "duration": 91,
    "start_time": "2024-07-06T15:09:37.154Z"
   },
   {
    "duration": 10,
    "start_time": "2024-07-06T15:09:37.247Z"
   },
   {
    "duration": 8,
    "start_time": "2024-07-06T15:09:37.260Z"
   },
   {
    "duration": 9,
    "start_time": "2024-07-06T15:09:37.270Z"
   },
   {
    "duration": 417,
    "start_time": "2024-07-06T15:09:37.280Z"
   },
   {
    "duration": 913,
    "start_time": "2024-07-06T15:09:37.699Z"
   },
   {
    "duration": 35,
    "start_time": "2024-07-06T15:09:38.614Z"
   },
   {
    "duration": 18,
    "start_time": "2024-07-06T15:09:38.650Z"
   },
   {
    "duration": 1454,
    "start_time": "2024-07-06T15:09:38.669Z"
   },
   {
    "duration": 55,
    "start_time": "2024-07-06T15:09:40.124Z"
   },
   {
    "duration": 6646,
    "start_time": "2024-07-06T15:09:40.181Z"
   },
   {
    "duration": 2804,
    "start_time": "2024-07-06T15:09:46.829Z"
   },
   {
    "duration": 22,
    "start_time": "2024-07-06T15:09:49.637Z"
   },
   {
    "duration": 3,
    "start_time": "2024-07-07T22:10:24.278Z"
   },
   {
    "duration": 4782,
    "start_time": "2024-07-07T22:10:24.283Z"
   },
   {
    "duration": 7316,
    "start_time": "2024-07-07T22:10:29.067Z"
   },
   {
    "duration": 3,
    "start_time": "2024-07-07T22:10:36.385Z"
   },
   {
    "duration": 1834,
    "start_time": "2024-07-07T22:10:36.391Z"
   },
   {
    "duration": 392,
    "start_time": "2024-07-07T22:10:38.226Z"
   },
   {
    "duration": 79,
    "start_time": "2024-07-07T22:10:38.619Z"
   },
   {
    "duration": 7,
    "start_time": "2024-07-07T22:10:38.699Z"
   },
   {
    "duration": 10,
    "start_time": "2024-07-07T22:10:38.707Z"
   },
   {
    "duration": 8,
    "start_time": "2024-07-07T22:10:38.719Z"
   },
   {
    "duration": 320,
    "start_time": "2024-07-07T22:10:38.729Z"
   },
   {
    "duration": 810,
    "start_time": "2024-07-07T22:10:39.050Z"
   },
   {
    "duration": 19,
    "start_time": "2024-07-07T22:10:39.862Z"
   },
   {
    "duration": 16,
    "start_time": "2024-07-07T22:10:39.890Z"
   },
   {
    "duration": 1410,
    "start_time": "2024-07-07T22:10:39.908Z"
   },
   {
    "duration": 51,
    "start_time": "2024-07-07T22:10:41.319Z"
   },
   {
    "duration": 6862,
    "start_time": "2024-07-07T22:10:41.371Z"
   },
   {
    "duration": 2609,
    "start_time": "2024-07-07T22:10:48.234Z"
   },
   {
    "duration": 21,
    "start_time": "2024-07-07T22:10:50.845Z"
   },
   {
    "duration": 3,
    "start_time": "2024-07-07T22:11:27.917Z"
   },
   {
    "duration": 2796,
    "start_time": "2024-07-07T22:11:27.943Z"
   },
   {
    "duration": 2733,
    "start_time": "2024-07-07T22:11:30.741Z"
   },
   {
    "duration": 3,
    "start_time": "2024-07-07T22:11:33.475Z"
   },
   {
    "duration": 1648,
    "start_time": "2024-07-07T22:11:33.479Z"
   },
   {
    "duration": 144,
    "start_time": "2024-07-07T22:11:35.130Z"
   },
   {
    "duration": 47,
    "start_time": "2024-07-07T22:11:35.275Z"
   },
   {
    "duration": 6,
    "start_time": "2024-07-07T22:11:35.323Z"
   },
   {
    "duration": 7,
    "start_time": "2024-07-07T22:11:35.330Z"
   },
   {
    "duration": 15,
    "start_time": "2024-07-07T22:11:35.338Z"
   },
   {
    "duration": 331,
    "start_time": "2024-07-07T22:11:35.354Z"
   },
   {
    "duration": 796,
    "start_time": "2024-07-07T22:11:35.690Z"
   },
   {
    "duration": 21,
    "start_time": "2024-07-07T22:11:36.489Z"
   },
   {
    "duration": 27,
    "start_time": "2024-07-07T22:11:36.512Z"
   },
   {
    "duration": 1357,
    "start_time": "2024-07-07T22:11:36.541Z"
   },
   {
    "duration": 50,
    "start_time": "2024-07-07T22:11:37.899Z"
   },
   {
    "duration": 5989,
    "start_time": "2024-07-07T22:11:37.951Z"
   },
   {
    "duration": 2549,
    "start_time": "2024-07-07T22:11:43.942Z"
   },
   {
    "duration": 21,
    "start_time": "2024-07-07T22:11:46.493Z"
   },
   {
    "duration": 152,
    "start_time": "2024-07-07T22:11:46.515Z"
   },
   {
    "duration": 241,
    "start_time": "2024-07-07T22:14:34.570Z"
   },
   {
    "duration": 4,
    "start_time": "2024-07-07T22:14:48.103Z"
   },
   {
    "duration": 2875,
    "start_time": "2024-07-07T22:14:48.126Z"
   },
   {
    "duration": 2756,
    "start_time": "2024-07-07T22:14:51.004Z"
   },
   {
    "duration": 3,
    "start_time": "2024-07-07T22:14:53.762Z"
   },
   {
    "duration": 1679,
    "start_time": "2024-07-07T22:14:53.767Z"
   },
   {
    "duration": 127,
    "start_time": "2024-07-07T22:14:55.448Z"
   },
   {
    "duration": 46,
    "start_time": "2024-07-07T22:14:55.576Z"
   },
   {
    "duration": 12,
    "start_time": "2024-07-07T22:14:55.624Z"
   },
   {
    "duration": 46,
    "start_time": "2024-07-07T22:14:55.637Z"
   },
   {
    "duration": 38,
    "start_time": "2024-07-07T22:14:55.684Z"
   },
   {
    "duration": 314,
    "start_time": "2024-07-07T22:14:55.723Z"
   },
   {
    "duration": 829,
    "start_time": "2024-07-07T22:14:56.038Z"
   },
   {
    "duration": 22,
    "start_time": "2024-07-07T22:14:56.868Z"
   },
   {
    "duration": 60,
    "start_time": "2024-07-07T22:14:56.891Z"
   },
   {
    "duration": 1373,
    "start_time": "2024-07-07T22:14:56.953Z"
   },
   {
    "duration": 54,
    "start_time": "2024-07-07T22:14:58.328Z"
   },
   {
    "duration": 6026,
    "start_time": "2024-07-07T22:14:58.384Z"
   },
   {
    "duration": 2560,
    "start_time": "2024-07-07T22:15:04.412Z"
   },
   {
    "duration": 22,
    "start_time": "2024-07-07T22:15:06.974Z"
   },
   {
    "duration": 342,
    "start_time": "2024-07-07T22:15:06.998Z"
   },
   {
    "duration": 42,
    "start_time": "2024-07-07T22:15:19.452Z"
   },
   {
    "duration": 117,
    "start_time": "2024-07-07T22:15:42.274Z"
   },
   {
    "duration": 165,
    "start_time": "2024-07-07T22:16:01.539Z"
   },
   {
    "duration": 148,
    "start_time": "2024-07-07T22:18:40.543Z"
   },
   {
    "duration": 52,
    "start_time": "2024-07-07T22:24:50.108Z"
   },
   {
    "duration": 909,
    "start_time": "2024-07-07T22:30:29.166Z"
   },
   {
    "duration": 112,
    "start_time": "2024-07-07T22:36:41.606Z"
   },
   {
    "duration": 129,
    "start_time": "2024-07-07T22:37:56.481Z"
   },
   {
    "duration": 246,
    "start_time": "2024-07-07T22:38:33.089Z"
   },
   {
    "duration": 199,
    "start_time": "2024-07-07T22:39:11.601Z"
   },
   {
    "duration": 798,
    "start_time": "2024-07-07T22:39:15.414Z"
   },
   {
    "duration": 311,
    "start_time": "2024-07-07T22:39:16.214Z"
   },
   {
    "duration": 203,
    "start_time": "2024-07-07T22:39:53.599Z"
   },
   {
    "duration": 973,
    "start_time": "2024-07-07T22:39:54.370Z"
   },
   {
    "duration": 260,
    "start_time": "2024-07-07T22:39:55.345Z"
   },
   {
    "duration": 890,
    "start_time": "2024-07-07T22:42:38.276Z"
   },
   {
    "duration": 839,
    "start_time": "2024-07-07T22:47:40.115Z"
   },
   {
    "duration": 989,
    "start_time": "2024-07-07T22:47:47.864Z"
   },
   {
    "duration": 9,
    "start_time": "2024-07-07T22:52:10.883Z"
   },
   {
    "duration": 17,
    "start_time": "2024-07-07T22:53:26.240Z"
   },
   {
    "duration": 839,
    "start_time": "2024-07-07T22:54:06.513Z"
   },
   {
    "duration": 242,
    "start_time": "2024-07-07T22:55:01.089Z"
   },
   {
    "duration": 150,
    "start_time": "2024-07-07T23:13:40.236Z"
   },
   {
    "duration": 738,
    "start_time": "2024-07-07T23:16:02.904Z"
   },
   {
    "duration": 12,
    "start_time": "2024-07-07T23:43:46.750Z"
   },
   {
    "duration": 635,
    "start_time": "2024-07-07T23:43:48.330Z"
   },
   {
    "duration": 2255200,
    "start_time": "2024-07-07T23:58:03.183Z"
   },
   {
    "duration": 2283274,
    "start_time": "2024-07-08T00:38:02.093Z"
   },
   {
    "duration": 4255,
    "start_time": "2024-07-08T19:04:50.546Z"
   },
   {
    "duration": 4,
    "start_time": "2024-07-08T22:30:10.848Z"
   },
   {
    "duration": 2517,
    "start_time": "2024-07-08T22:30:10.854Z"
   },
   {
    "duration": 6684,
    "start_time": "2024-07-08T22:30:13.373Z"
   },
   {
    "duration": 3,
    "start_time": "2024-07-08T22:30:20.059Z"
   },
   {
    "duration": 1952,
    "start_time": "2024-07-08T22:30:20.064Z"
   },
   {
    "duration": 328,
    "start_time": "2024-07-08T22:30:22.017Z"
   },
   {
    "duration": 53,
    "start_time": "2024-07-08T22:30:22.347Z"
   },
   {
    "duration": 6,
    "start_time": "2024-07-08T22:30:22.402Z"
   },
   {
    "duration": 30,
    "start_time": "2024-07-08T22:30:22.409Z"
   },
   {
    "duration": 44,
    "start_time": "2024-07-08T22:30:22.441Z"
   },
   {
    "duration": 346,
    "start_time": "2024-07-08T22:30:22.487Z"
   },
   {
    "duration": 941,
    "start_time": "2024-07-08T22:30:22.835Z"
   },
   {
    "duration": 22,
    "start_time": "2024-07-08T22:30:23.778Z"
   },
   {
    "duration": 82,
    "start_time": "2024-07-08T22:30:23.803Z"
   },
   {
    "duration": 1529,
    "start_time": "2024-07-08T22:30:23.887Z"
   },
   {
    "duration": 54,
    "start_time": "2024-07-08T22:30:25.417Z"
   },
   {
    "duration": 7195,
    "start_time": "2024-07-08T22:30:25.473Z"
   },
   {
    "duration": 2771,
    "start_time": "2024-07-08T22:30:32.670Z"
   },
   {
    "duration": 29,
    "start_time": "2024-07-08T22:30:35.443Z"
   },
   {
    "duration": 4,
    "start_time": "2024-07-09T07:32:41.441Z"
   },
   {
    "duration": 4302,
    "start_time": "2024-07-09T07:32:41.447Z"
   },
   {
    "duration": 6658,
    "start_time": "2024-07-09T07:32:45.751Z"
   },
   {
    "duration": 3,
    "start_time": "2024-07-09T07:32:52.411Z"
   },
   {
    "duration": 1943,
    "start_time": "2024-07-09T07:32:52.416Z"
   },
   {
    "duration": 212,
    "start_time": "2024-07-09T07:32:54.360Z"
   },
   {
    "duration": 0,
    "start_time": "2024-07-09T07:32:54.574Z"
   },
   {
    "duration": 0,
    "start_time": "2024-07-09T07:32:54.576Z"
   },
   {
    "duration": 0,
    "start_time": "2024-07-09T07:32:54.577Z"
   },
   {
    "duration": 0,
    "start_time": "2024-07-09T07:32:54.578Z"
   },
   {
    "duration": 0,
    "start_time": "2024-07-09T07:32:54.580Z"
   },
   {
    "duration": 0,
    "start_time": "2024-07-09T07:32:54.581Z"
   },
   {
    "duration": 0,
    "start_time": "2024-07-09T07:32:54.582Z"
   },
   {
    "duration": 0,
    "start_time": "2024-07-09T07:32:54.584Z"
   },
   {
    "duration": 0,
    "start_time": "2024-07-09T07:32:54.585Z"
   },
   {
    "duration": 0,
    "start_time": "2024-07-09T07:32:54.586Z"
   },
   {
    "duration": 0,
    "start_time": "2024-07-09T07:32:54.588Z"
   },
   {
    "duration": 0,
    "start_time": "2024-07-09T07:32:54.589Z"
   },
   {
    "duration": 0,
    "start_time": "2024-07-09T07:32:54.590Z"
   },
   {
    "duration": 0,
    "start_time": "2024-07-09T07:32:54.591Z"
   },
   {
    "duration": 1,
    "start_time": "2024-07-09T07:32:54.592Z"
   },
   {
    "duration": 0,
    "start_time": "2024-07-09T07:32:54.594Z"
   },
   {
    "duration": 0,
    "start_time": "2024-07-09T07:32:54.595Z"
   },
   {
    "duration": 3,
    "start_time": "2024-07-09T07:34:28.615Z"
   },
   {
    "duration": 2565,
    "start_time": "2024-07-09T07:34:28.620Z"
   },
   {
    "duration": 2496,
    "start_time": "2024-07-09T07:34:31.188Z"
   },
   {
    "duration": 3,
    "start_time": "2024-07-09T07:34:33.686Z"
   },
   {
    "duration": 1884,
    "start_time": "2024-07-09T07:34:33.691Z"
   },
   {
    "duration": 273,
    "start_time": "2024-07-09T07:34:35.577Z"
   },
   {
    "duration": 47,
    "start_time": "2024-07-09T07:34:35.852Z"
   },
   {
    "duration": 7,
    "start_time": "2024-07-09T07:34:35.900Z"
   },
   {
    "duration": 5,
    "start_time": "2024-07-09T07:34:35.908Z"
   },
   {
    "duration": 6,
    "start_time": "2024-07-09T07:34:35.915Z"
   },
   {
    "duration": 411,
    "start_time": "2024-07-09T07:34:35.923Z"
   },
   {
    "duration": 912,
    "start_time": "2024-07-09T07:34:36.336Z"
   },
   {
    "duration": 30,
    "start_time": "2024-07-09T07:34:37.249Z"
   },
   {
    "duration": 19,
    "start_time": "2024-07-09T07:34:37.281Z"
   },
   {
    "duration": 1571,
    "start_time": "2024-07-09T07:34:37.301Z"
   },
   {
    "duration": 64,
    "start_time": "2024-07-09T07:34:38.873Z"
   },
   {
    "duration": 6961,
    "start_time": "2024-07-09T07:34:38.939Z"
   },
   {
    "duration": 2801,
    "start_time": "2024-07-09T07:34:45.902Z"
   },
   {
    "duration": 22,
    "start_time": "2024-07-09T07:34:48.704Z"
   },
   {
    "duration": 3,
    "start_time": "2024-07-09T07:40:05.591Z"
   },
   {
    "duration": 2561,
    "start_time": "2024-07-09T07:40:05.596Z"
   },
   {
    "duration": 2565,
    "start_time": "2024-07-09T07:40:08.158Z"
   },
   {
    "duration": 3,
    "start_time": "2024-07-09T07:40:10.725Z"
   },
   {
    "duration": 2190,
    "start_time": "2024-07-09T07:40:10.729Z"
   },
   {
    "duration": 150,
    "start_time": "2024-07-09T07:40:12.921Z"
   },
   {
    "duration": 97,
    "start_time": "2024-07-09T07:40:13.073Z"
   },
   {
    "duration": 9,
    "start_time": "2024-07-09T07:40:13.171Z"
   },
   {
    "duration": 25,
    "start_time": "2024-07-09T07:40:13.183Z"
   },
   {
    "duration": 6,
    "start_time": "2024-07-09T07:40:13.210Z"
   },
   {
    "duration": 385,
    "start_time": "2024-07-09T07:40:13.218Z"
   },
   {
    "duration": 940,
    "start_time": "2024-07-09T07:40:13.604Z"
   },
   {
    "duration": 32,
    "start_time": "2024-07-09T07:40:14.546Z"
   },
   {
    "duration": 18,
    "start_time": "2024-07-09T07:40:14.580Z"
   },
   {
    "duration": 1392,
    "start_time": "2024-07-09T07:40:14.600Z"
   },
   {
    "duration": 57,
    "start_time": "2024-07-09T07:40:15.994Z"
   },
   {
    "duration": 7408,
    "start_time": "2024-07-09T07:40:16.053Z"
   },
   {
    "duration": 2766,
    "start_time": "2024-07-09T07:40:23.465Z"
   },
   {
    "duration": 21,
    "start_time": "2024-07-09T07:40:26.233Z"
   },
   {
    "duration": 4,
    "start_time": "2024-07-09T07:41:58.438Z"
   },
   {
    "duration": 2575,
    "start_time": "2024-07-09T07:41:58.445Z"
   },
   {
    "duration": 3328,
    "start_time": "2024-07-09T07:42:01.022Z"
   },
   {
    "duration": 2,
    "start_time": "2024-07-09T07:42:04.352Z"
   },
   {
    "duration": 1824,
    "start_time": "2024-07-09T07:42:04.356Z"
   },
   {
    "duration": 141,
    "start_time": "2024-07-09T07:42:06.181Z"
   },
   {
    "duration": 79,
    "start_time": "2024-07-09T07:42:06.324Z"
   },
   {
    "duration": 6,
    "start_time": "2024-07-09T07:42:06.405Z"
   },
   {
    "duration": 27,
    "start_time": "2024-07-09T07:42:06.412Z"
   },
   {
    "duration": 14,
    "start_time": "2024-07-09T07:42:06.441Z"
   },
   {
    "duration": 384,
    "start_time": "2024-07-09T07:42:06.466Z"
   },
   {
    "duration": 1034,
    "start_time": "2024-07-09T07:42:06.851Z"
   },
   {
    "duration": 21,
    "start_time": "2024-07-09T07:42:07.888Z"
   },
   {
    "duration": 70,
    "start_time": "2024-07-09T07:42:07.911Z"
   },
   {
    "duration": 1441,
    "start_time": "2024-07-09T07:42:07.983Z"
   },
   {
    "duration": 63,
    "start_time": "2024-07-09T07:42:09.427Z"
   },
   {
    "duration": 7655,
    "start_time": "2024-07-09T07:42:09.492Z"
   },
   {
    "duration": 2941,
    "start_time": "2024-07-09T07:42:17.149Z"
   },
   {
    "duration": 23,
    "start_time": "2024-07-09T07:42:20.092Z"
   },
   {
    "duration": 4,
    "start_time": "2024-07-09T07:52:58.358Z"
   },
   {
    "duration": 2501,
    "start_time": "2024-07-09T07:52:58.364Z"
   },
   {
    "duration": 2513,
    "start_time": "2024-07-09T07:53:00.868Z"
   },
   {
    "duration": 3,
    "start_time": "2024-07-09T07:53:03.383Z"
   },
   {
    "duration": 1813,
    "start_time": "2024-07-09T07:53:03.388Z"
   },
   {
    "duration": 141,
    "start_time": "2024-07-09T07:53:05.203Z"
   },
   {
    "duration": 52,
    "start_time": "2024-07-09T07:53:05.345Z"
   },
   {
    "duration": 6,
    "start_time": "2024-07-09T07:53:05.399Z"
   },
   {
    "duration": 7,
    "start_time": "2024-07-09T07:53:05.406Z"
   },
   {
    "duration": 7,
    "start_time": "2024-07-09T07:53:05.415Z"
   },
   {
    "duration": 401,
    "start_time": "2024-07-09T07:53:05.424Z"
   },
   {
    "duration": 947,
    "start_time": "2024-07-09T07:53:05.828Z"
   },
   {
    "duration": 20,
    "start_time": "2024-07-09T07:53:06.777Z"
   },
   {
    "duration": 18,
    "start_time": "2024-07-09T07:53:06.799Z"
   },
   {
    "duration": 1466,
    "start_time": "2024-07-09T07:53:06.818Z"
   },
   {
    "duration": 69,
    "start_time": "2024-07-09T07:53:08.286Z"
   },
   {
    "duration": 6878,
    "start_time": "2024-07-09T07:53:08.357Z"
   },
   {
    "duration": 2785,
    "start_time": "2024-07-09T07:53:15.238Z"
   },
   {
    "duration": 22,
    "start_time": "2024-07-09T07:53:18.025Z"
   },
   {
    "duration": 3,
    "start_time": "2024-07-09T08:03:09.757Z"
   },
   {
    "duration": 2634,
    "start_time": "2024-07-09T08:03:09.762Z"
   },
   {
    "duration": 3235,
    "start_time": "2024-07-09T08:03:12.400Z"
   },
   {
    "duration": 3,
    "start_time": "2024-07-09T08:03:15.637Z"
   },
   {
    "duration": 1806,
    "start_time": "2024-07-09T08:03:15.643Z"
   },
   {
    "duration": 141,
    "start_time": "2024-07-09T08:03:17.451Z"
   },
   {
    "duration": 41,
    "start_time": "2024-07-09T08:03:17.593Z"
   },
   {
    "duration": 36,
    "start_time": "2024-07-09T08:03:17.635Z"
   },
   {
    "duration": 6,
    "start_time": "2024-07-09T08:03:17.673Z"
   },
   {
    "duration": 5,
    "start_time": "2024-07-09T08:03:17.681Z"
   },
   {
    "duration": 422,
    "start_time": "2024-07-09T08:03:17.689Z"
   },
   {
    "duration": 968,
    "start_time": "2024-07-09T08:03:18.113Z"
   },
   {
    "duration": 22,
    "start_time": "2024-07-09T08:03:19.082Z"
   },
   {
    "duration": 28,
    "start_time": "2024-07-09T08:03:19.106Z"
   },
   {
    "duration": 1481,
    "start_time": "2024-07-09T08:03:19.135Z"
   },
   {
    "duration": 58,
    "start_time": "2024-07-09T08:03:20.618Z"
   },
   {
    "duration": 7197,
    "start_time": "2024-07-09T08:03:20.678Z"
   },
   {
    "duration": 2885,
    "start_time": "2024-07-09T08:03:27.877Z"
   },
   {
    "duration": 23,
    "start_time": "2024-07-09T08:03:30.765Z"
   },
   {
    "duration": 3,
    "start_time": "2024-07-09T08:06:31.050Z"
   },
   {
    "duration": 2721,
    "start_time": "2024-07-09T08:06:31.059Z"
   },
   {
    "duration": 3502,
    "start_time": "2024-07-09T08:06:33.783Z"
   },
   {
    "duration": 4,
    "start_time": "2024-07-09T08:06:37.287Z"
   },
   {
    "duration": 1834,
    "start_time": "2024-07-09T08:06:37.293Z"
   },
   {
    "duration": 145,
    "start_time": "2024-07-09T08:06:39.129Z"
   },
   {
    "duration": 50,
    "start_time": "2024-07-09T08:06:39.276Z"
   },
   {
    "duration": 44,
    "start_time": "2024-07-09T08:06:39.328Z"
   },
   {
    "duration": 10,
    "start_time": "2024-07-09T08:06:39.374Z"
   },
   {
    "duration": 6,
    "start_time": "2024-07-09T08:06:39.386Z"
   },
   {
    "duration": 473,
    "start_time": "2024-07-09T08:06:39.393Z"
   },
   {
    "duration": 1019,
    "start_time": "2024-07-09T08:06:39.869Z"
   },
   {
    "duration": 24,
    "start_time": "2024-07-09T08:06:40.890Z"
   },
   {
    "duration": 18,
    "start_time": "2024-07-09T08:06:40.915Z"
   },
   {
    "duration": 1493,
    "start_time": "2024-07-09T08:06:40.935Z"
   },
   {
    "duration": 62,
    "start_time": "2024-07-09T08:06:42.430Z"
   },
   {
    "duration": 7868,
    "start_time": "2024-07-09T08:06:42.494Z"
   },
   {
    "duration": 2823,
    "start_time": "2024-07-09T08:06:50.365Z"
   },
   {
    "duration": 22,
    "start_time": "2024-07-09T08:06:53.190Z"
   },
   {
    "duration": 3,
    "start_time": "2024-07-09T08:12:44.529Z"
   },
   {
    "duration": 2953,
    "start_time": "2024-07-09T08:12:44.534Z"
   },
   {
    "duration": 2746,
    "start_time": "2024-07-09T08:12:47.489Z"
   },
   {
    "duration": 3,
    "start_time": "2024-07-09T08:12:50.237Z"
   },
   {
    "duration": 1838,
    "start_time": "2024-07-09T08:12:50.242Z"
   },
   {
    "duration": 142,
    "start_time": "2024-07-09T08:12:52.082Z"
   },
   {
    "duration": 58,
    "start_time": "2024-07-09T08:12:52.226Z"
   },
   {
    "duration": 17,
    "start_time": "2024-07-09T08:12:52.286Z"
   },
   {
    "duration": 6,
    "start_time": "2024-07-09T08:12:52.305Z"
   },
   {
    "duration": 9,
    "start_time": "2024-07-09T08:12:52.312Z"
   },
   {
    "duration": 386,
    "start_time": "2024-07-09T08:12:52.323Z"
   },
   {
    "duration": 940,
    "start_time": "2024-07-09T08:12:52.711Z"
   },
   {
    "duration": 27,
    "start_time": "2024-07-09T08:12:53.655Z"
   },
   {
    "duration": 24,
    "start_time": "2024-07-09T08:12:53.684Z"
   },
   {
    "duration": 1371,
    "start_time": "2024-07-09T08:12:53.709Z"
   },
   {
    "duration": 67,
    "start_time": "2024-07-09T08:12:55.082Z"
   },
   {
    "duration": 7259,
    "start_time": "2024-07-09T08:12:55.150Z"
   },
   {
    "duration": 2872,
    "start_time": "2024-07-09T08:13:02.411Z"
   },
   {
    "duration": 33,
    "start_time": "2024-07-09T08:13:05.286Z"
   },
   {
    "duration": 4,
    "start_time": "2024-07-09T08:17:22.012Z"
   },
   {
    "duration": 2544,
    "start_time": "2024-07-09T08:17:22.077Z"
   },
   {
    "duration": 2471,
    "start_time": "2024-07-09T08:17:24.624Z"
   },
   {
    "duration": 3,
    "start_time": "2024-07-09T08:17:27.096Z"
   },
   {
    "duration": 1853,
    "start_time": "2024-07-09T08:17:27.101Z"
   },
   {
    "duration": 143,
    "start_time": "2024-07-09T08:17:28.956Z"
   },
   {
    "duration": 68,
    "start_time": "2024-07-09T08:17:29.100Z"
   },
   {
    "duration": 7,
    "start_time": "2024-07-09T08:17:29.170Z"
   },
   {
    "duration": 6,
    "start_time": "2024-07-09T08:17:29.178Z"
   },
   {
    "duration": 12,
    "start_time": "2024-07-09T08:17:29.185Z"
   },
   {
    "duration": 390,
    "start_time": "2024-07-09T08:17:29.199Z"
   },
   {
    "duration": 980,
    "start_time": "2024-07-09T08:17:29.591Z"
   },
   {
    "duration": 21,
    "start_time": "2024-07-09T08:17:30.572Z"
   },
   {
    "duration": 34,
    "start_time": "2024-07-09T08:17:30.594Z"
   },
   {
    "duration": 1610,
    "start_time": "2024-07-09T08:17:30.630Z"
   },
   {
    "duration": 63,
    "start_time": "2024-07-09T08:17:32.242Z"
   },
   {
    "duration": 7103,
    "start_time": "2024-07-09T08:17:32.306Z"
   },
   {
    "duration": 2855,
    "start_time": "2024-07-09T08:17:39.411Z"
   },
   {
    "duration": 23,
    "start_time": "2024-07-09T08:17:42.267Z"
   },
   {
    "duration": 4,
    "start_time": "2024-07-09T08:19:16.767Z"
   },
   {
    "duration": 2842,
    "start_time": "2024-07-09T08:19:16.772Z"
   },
   {
    "duration": 2901,
    "start_time": "2024-07-09T08:19:19.616Z"
   },
   {
    "duration": 3,
    "start_time": "2024-07-09T08:19:22.519Z"
   },
   {
    "duration": 1707,
    "start_time": "2024-07-09T08:19:22.523Z"
   },
   {
    "duration": 138,
    "start_time": "2024-07-09T08:19:24.232Z"
   },
   {
    "duration": 32,
    "start_time": "2024-07-09T08:19:24.372Z"
   },
   {
    "duration": 6,
    "start_time": "2024-07-09T08:19:24.406Z"
   },
   {
    "duration": 6,
    "start_time": "2024-07-09T08:19:24.415Z"
   },
   {
    "duration": 9,
    "start_time": "2024-07-09T08:19:24.422Z"
   },
   {
    "duration": 420,
    "start_time": "2024-07-09T08:19:24.432Z"
   },
   {
    "duration": 1003,
    "start_time": "2024-07-09T08:19:24.854Z"
   },
   {
    "duration": 22,
    "start_time": "2024-07-09T08:19:25.864Z"
   },
   {
    "duration": 21,
    "start_time": "2024-07-09T08:19:25.887Z"
   },
   {
    "duration": 1522,
    "start_time": "2024-07-09T08:19:25.910Z"
   },
   {
    "duration": 55,
    "start_time": "2024-07-09T08:19:27.433Z"
   },
   {
    "duration": 7470,
    "start_time": "2024-07-09T08:19:27.489Z"
   },
   {
    "duration": 2847,
    "start_time": "2024-07-09T08:19:34.961Z"
   },
   {
    "duration": 25,
    "start_time": "2024-07-09T08:19:37.810Z"
   },
   {
    "duration": 3,
    "start_time": "2024-07-09T08:39:47.445Z"
   },
   {
    "duration": 2643,
    "start_time": "2024-07-09T08:39:47.450Z"
   },
   {
    "duration": 3075,
    "start_time": "2024-07-09T08:39:50.095Z"
   },
   {
    "duration": 3,
    "start_time": "2024-07-09T08:39:53.172Z"
   },
   {
    "duration": 1725,
    "start_time": "2024-07-09T08:39:53.178Z"
   },
   {
    "duration": 147,
    "start_time": "2024-07-09T08:39:54.904Z"
   },
   {
    "duration": 38,
    "start_time": "2024-07-09T08:39:55.052Z"
   },
   {
    "duration": 7,
    "start_time": "2024-07-09T08:39:55.091Z"
   },
   {
    "duration": 18,
    "start_time": "2024-07-09T08:39:55.099Z"
   },
   {
    "duration": 15,
    "start_time": "2024-07-09T08:39:55.119Z"
   },
   {
    "duration": 19,
    "start_time": "2024-07-09T08:39:55.135Z"
   },
   {
    "duration": 1260,
    "start_time": "2024-07-09T08:39:55.156Z"
   },
   {
    "duration": 0,
    "start_time": "2024-07-09T08:39:56.418Z"
   },
   {
    "duration": 0,
    "start_time": "2024-07-09T08:39:56.419Z"
   },
   {
    "duration": 0,
    "start_time": "2024-07-09T08:39:56.420Z"
   },
   {
    "duration": 0,
    "start_time": "2024-07-09T08:39:56.421Z"
   },
   {
    "duration": 0,
    "start_time": "2024-07-09T08:39:56.423Z"
   },
   {
    "duration": 0,
    "start_time": "2024-07-09T08:39:56.424Z"
   },
   {
    "duration": 0,
    "start_time": "2024-07-09T08:39:56.425Z"
   },
   {
    "duration": 0,
    "start_time": "2024-07-09T08:39:56.428Z"
   },
   {
    "duration": 0,
    "start_time": "2024-07-09T08:39:56.429Z"
   },
   {
    "duration": 0,
    "start_time": "2024-07-09T08:39:56.430Z"
   },
   {
    "duration": 0,
    "start_time": "2024-07-09T08:39:56.431Z"
   },
   {
    "duration": 0,
    "start_time": "2024-07-09T08:39:56.432Z"
   },
   {
    "duration": 4,
    "start_time": "2024-07-09T08:45:51.091Z"
   },
   {
    "duration": 2501,
    "start_time": "2024-07-09T08:45:51.097Z"
   },
   {
    "duration": 2492,
    "start_time": "2024-07-09T08:45:53.601Z"
   },
   {
    "duration": 3,
    "start_time": "2024-07-09T08:45:56.095Z"
   },
   {
    "duration": 1760,
    "start_time": "2024-07-09T08:45:56.100Z"
   },
   {
    "duration": 143,
    "start_time": "2024-07-09T08:45:57.861Z"
   },
   {
    "duration": 87,
    "start_time": "2024-07-09T08:45:58.006Z"
   },
   {
    "duration": 9,
    "start_time": "2024-07-09T08:45:58.095Z"
   },
   {
    "duration": 74,
    "start_time": "2024-07-09T08:45:58.106Z"
   },
   {
    "duration": 6,
    "start_time": "2024-07-09T08:45:58.182Z"
   },
   {
    "duration": 15,
    "start_time": "2024-07-09T08:45:58.192Z"
   },
   {
    "duration": 865,
    "start_time": "2024-07-09T08:45:58.209Z"
   },
   {
    "duration": 310,
    "start_time": "2024-07-09T08:45:59.076Z"
   },
   {
    "duration": 0,
    "start_time": "2024-07-09T08:45:59.387Z"
   },
   {
    "duration": 0,
    "start_time": "2024-07-09T08:45:59.389Z"
   },
   {
    "duration": 0,
    "start_time": "2024-07-09T08:45:59.390Z"
   },
   {
    "duration": 0,
    "start_time": "2024-07-09T08:45:59.391Z"
   },
   {
    "duration": 0,
    "start_time": "2024-07-09T08:45:59.392Z"
   },
   {
    "duration": 0,
    "start_time": "2024-07-09T08:45:59.393Z"
   },
   {
    "duration": 0,
    "start_time": "2024-07-09T08:45:59.394Z"
   },
   {
    "duration": 0,
    "start_time": "2024-07-09T08:45:59.395Z"
   },
   {
    "duration": 0,
    "start_time": "2024-07-09T08:45:59.396Z"
   },
   {
    "duration": 0,
    "start_time": "2024-07-09T08:45:59.397Z"
   },
   {
    "duration": 0,
    "start_time": "2024-07-09T08:45:59.398Z"
   },
   {
    "duration": 4,
    "start_time": "2024-07-09T08:55:51.816Z"
   },
   {
    "duration": 2528,
    "start_time": "2024-07-09T08:55:51.823Z"
   },
   {
    "duration": 2451,
    "start_time": "2024-07-09T08:55:54.352Z"
   },
   {
    "duration": 3,
    "start_time": "2024-07-09T08:55:56.805Z"
   },
   {
    "duration": 1761,
    "start_time": "2024-07-09T08:55:56.810Z"
   },
   {
    "duration": 140,
    "start_time": "2024-07-09T08:55:58.573Z"
   },
   {
    "duration": 58,
    "start_time": "2024-07-09T08:55:58.715Z"
   },
   {
    "duration": 7,
    "start_time": "2024-07-09T08:55:58.774Z"
   },
   {
    "duration": 5,
    "start_time": "2024-07-09T08:55:58.783Z"
   },
   {
    "duration": 15,
    "start_time": "2024-07-09T08:55:58.790Z"
   },
   {
    "duration": 8,
    "start_time": "2024-07-09T08:55:58.806Z"
   },
   {
    "duration": 424,
    "start_time": "2024-07-09T08:55:58.815Z"
   },
   {
    "duration": 1011,
    "start_time": "2024-07-09T08:55:59.242Z"
   },
   {
    "duration": 28,
    "start_time": "2024-07-09T08:56:00.254Z"
   },
   {
    "duration": 67,
    "start_time": "2024-07-09T08:56:00.284Z"
   },
   {
    "duration": 1771,
    "start_time": "2024-07-09T08:56:00.353Z"
   },
   {
    "duration": 340,
    "start_time": "2024-07-09T08:56:02.126Z"
   },
   {
    "duration": 0,
    "start_time": "2024-07-09T08:56:02.468Z"
   },
   {
    "duration": 0,
    "start_time": "2024-07-09T08:56:02.469Z"
   },
   {
    "duration": 0,
    "start_time": "2024-07-09T08:56:02.471Z"
   },
   {
    "duration": 0,
    "start_time": "2024-07-09T08:56:02.471Z"
   },
   {
    "duration": 1,
    "start_time": "2024-07-09T08:56:02.472Z"
   },
   {
    "duration": 0,
    "start_time": "2024-07-09T08:56:02.473Z"
   },
   {
    "duration": 0,
    "start_time": "2024-07-09T08:56:02.475Z"
   },
   {
    "duration": 4,
    "start_time": "2024-07-09T09:18:56.913Z"
   },
   {
    "duration": 2622,
    "start_time": "2024-07-09T09:18:56.918Z"
   },
   {
    "duration": 2552,
    "start_time": "2024-07-09T09:18:59.542Z"
   },
   {
    "duration": 2,
    "start_time": "2024-07-09T09:19:02.096Z"
   },
   {
    "duration": 1874,
    "start_time": "2024-07-09T09:19:02.100Z"
   },
   {
    "duration": 137,
    "start_time": "2024-07-09T09:19:03.976Z"
   },
   {
    "duration": 32,
    "start_time": "2024-07-09T09:19:04.115Z"
   },
   {
    "duration": 7,
    "start_time": "2024-07-09T09:19:04.148Z"
   },
   {
    "duration": 6,
    "start_time": "2024-07-09T09:19:04.165Z"
   },
   {
    "duration": 4,
    "start_time": "2024-07-09T09:19:04.173Z"
   },
   {
    "duration": 8,
    "start_time": "2024-07-09T09:19:04.178Z"
   },
   {
    "duration": 1259,
    "start_time": "2024-07-09T09:19:04.188Z"
   },
   {
    "duration": 483,
    "start_time": "2024-07-09T09:19:05.449Z"
   },
   {
    "duration": 951,
    "start_time": "2024-07-09T09:19:05.935Z"
   },
   {
    "duration": 22,
    "start_time": "2024-07-09T09:19:06.887Z"
   },
   {
    "duration": 24,
    "start_time": "2024-07-09T09:19:06.911Z"
   },
   {
    "duration": 1587,
    "start_time": "2024-07-09T09:19:06.937Z"
   },
   {
    "duration": 152,
    "start_time": "2024-07-09T09:19:08.526Z"
   },
   {
    "duration": 0,
    "start_time": "2024-07-09T09:19:08.680Z"
   },
   {
    "duration": 0,
    "start_time": "2024-07-09T09:19:08.681Z"
   },
   {
    "duration": 0,
    "start_time": "2024-07-09T09:19:08.682Z"
   },
   {
    "duration": 0,
    "start_time": "2024-07-09T09:19:08.683Z"
   },
   {
    "duration": 0,
    "start_time": "2024-07-09T09:19:08.684Z"
   },
   {
    "duration": 0,
    "start_time": "2024-07-09T09:19:08.685Z"
   },
   {
    "duration": 0,
    "start_time": "2024-07-09T09:19:08.686Z"
   },
   {
    "duration": 3,
    "start_time": "2024-07-09T09:21:17.071Z"
   },
   {
    "duration": 2588,
    "start_time": "2024-07-09T09:21:17.076Z"
   },
   {
    "duration": 2492,
    "start_time": "2024-07-09T09:21:19.666Z"
   },
   {
    "duration": 2,
    "start_time": "2024-07-09T09:21:22.160Z"
   },
   {
    "duration": 1799,
    "start_time": "2024-07-09T09:21:22.164Z"
   },
   {
    "duration": 135,
    "start_time": "2024-07-09T09:21:23.965Z"
   },
   {
    "duration": 63,
    "start_time": "2024-07-09T09:21:24.102Z"
   },
   {
    "duration": 7,
    "start_time": "2024-07-09T09:21:24.167Z"
   },
   {
    "duration": 8,
    "start_time": "2024-07-09T09:21:24.175Z"
   },
   {
    "duration": 7,
    "start_time": "2024-07-09T09:21:24.184Z"
   },
   {
    "duration": 11,
    "start_time": "2024-07-09T09:21:24.193Z"
   },
   {
    "duration": 1211,
    "start_time": "2024-07-09T09:21:24.206Z"
   },
   {
    "duration": 539,
    "start_time": "2024-07-09T09:21:25.419Z"
   },
   {
    "duration": 953,
    "start_time": "2024-07-09T09:21:25.959Z"
   },
   {
    "duration": 22,
    "start_time": "2024-07-09T09:21:26.913Z"
   },
   {
    "duration": 37,
    "start_time": "2024-07-09T09:21:26.937Z"
   },
   {
    "duration": 1572,
    "start_time": "2024-07-09T09:21:26.976Z"
   },
   {
    "duration": 154,
    "start_time": "2024-07-09T09:21:28.550Z"
   },
   {
    "duration": 0,
    "start_time": "2024-07-09T09:21:28.705Z"
   },
   {
    "duration": 0,
    "start_time": "2024-07-09T09:21:28.707Z"
   },
   {
    "duration": 0,
    "start_time": "2024-07-09T09:21:28.707Z"
   },
   {
    "duration": 0,
    "start_time": "2024-07-09T09:21:28.708Z"
   },
   {
    "duration": 0,
    "start_time": "2024-07-09T09:21:28.710Z"
   },
   {
    "duration": 0,
    "start_time": "2024-07-09T09:21:28.710Z"
   },
   {
    "duration": 0,
    "start_time": "2024-07-09T09:21:28.711Z"
   },
   {
    "duration": 3,
    "start_time": "2024-07-09T09:53:36.165Z"
   },
   {
    "duration": 3191,
    "start_time": "2024-07-09T09:53:36.170Z"
   },
   {
    "duration": 2489,
    "start_time": "2024-07-09T09:53:39.363Z"
   },
   {
    "duration": 3,
    "start_time": "2024-07-09T09:53:41.853Z"
   },
   {
    "duration": 1825,
    "start_time": "2024-07-09T09:53:41.858Z"
   },
   {
    "duration": 144,
    "start_time": "2024-07-09T09:53:43.685Z"
   },
   {
    "duration": 35,
    "start_time": "2024-07-09T09:53:44.539Z"
   },
   {
    "duration": 7,
    "start_time": "2024-07-09T09:53:44.576Z"
   },
   {
    "duration": 6,
    "start_time": "2024-07-09T09:53:44.584Z"
   },
   {
    "duration": 8,
    "start_time": "2024-07-09T09:53:44.592Z"
   },
   {
    "duration": 12,
    "start_time": "2024-07-09T09:53:44.603Z"
   },
   {
    "duration": 1134,
    "start_time": "2024-07-09T09:53:44.617Z"
   },
   {
    "duration": 488,
    "start_time": "2024-07-09T09:53:45.752Z"
   },
   {
    "duration": 934,
    "start_time": "2024-07-09T09:53:46.242Z"
   },
   {
    "duration": 20,
    "start_time": "2024-07-09T09:53:47.177Z"
   },
   {
    "duration": 21,
    "start_time": "2024-07-09T09:53:47.198Z"
   },
   {
    "duration": 1591,
    "start_time": "2024-07-09T09:53:47.221Z"
   },
   {
    "duration": 165,
    "start_time": "2024-07-09T09:53:48.814Z"
   },
   {
    "duration": 0,
    "start_time": "2024-07-09T09:53:48.981Z"
   },
   {
    "duration": 0,
    "start_time": "2024-07-09T09:53:48.983Z"
   },
   {
    "duration": 0,
    "start_time": "2024-07-09T09:53:48.984Z"
   },
   {
    "duration": 0,
    "start_time": "2024-07-09T09:53:48.985Z"
   },
   {
    "duration": 0,
    "start_time": "2024-07-09T09:53:48.986Z"
   },
   {
    "duration": 0,
    "start_time": "2024-07-09T09:53:48.988Z"
   },
   {
    "duration": 0,
    "start_time": "2024-07-09T09:53:48.989Z"
   },
   {
    "duration": 1147,
    "start_time": "2024-07-09T09:55:47.807Z"
   },
   {
    "duration": 3,
    "start_time": "2024-07-09T09:55:55.775Z"
   },
   {
    "duration": 2564,
    "start_time": "2024-07-09T09:55:55.780Z"
   },
   {
    "duration": 2589,
    "start_time": "2024-07-09T09:55:58.346Z"
   },
   {
    "duration": 2,
    "start_time": "2024-07-09T09:56:00.937Z"
   },
   {
    "duration": 1919,
    "start_time": "2024-07-09T09:56:00.941Z"
   },
   {
    "duration": 144,
    "start_time": "2024-07-09T09:56:02.861Z"
   },
   {
    "duration": 68,
    "start_time": "2024-07-09T09:56:03.007Z"
   },
   {
    "duration": 6,
    "start_time": "2024-07-09T09:56:03.077Z"
   },
   {
    "duration": 32,
    "start_time": "2024-07-09T09:56:03.085Z"
   },
   {
    "duration": 44,
    "start_time": "2024-07-09T09:56:03.119Z"
   },
   {
    "duration": 27,
    "start_time": "2024-07-09T09:56:03.164Z"
   },
   {
    "duration": 1164,
    "start_time": "2024-07-09T09:56:03.193Z"
   },
   {
    "duration": 492,
    "start_time": "2024-07-09T09:56:04.366Z"
   },
   {
    "duration": 937,
    "start_time": "2024-07-09T09:56:04.860Z"
   },
   {
    "duration": 33,
    "start_time": "2024-07-09T09:56:05.799Z"
   },
   {
    "duration": 42,
    "start_time": "2024-07-09T09:56:05.835Z"
   },
   {
    "duration": 1526,
    "start_time": "2024-07-09T09:56:05.879Z"
   },
   {
    "duration": 160,
    "start_time": "2024-07-09T09:56:07.406Z"
   },
   {
    "duration": 0,
    "start_time": "2024-07-09T09:56:07.568Z"
   },
   {
    "duration": 0,
    "start_time": "2024-07-09T09:56:07.569Z"
   },
   {
    "duration": 0,
    "start_time": "2024-07-09T09:56:07.571Z"
   },
   {
    "duration": 0,
    "start_time": "2024-07-09T09:56:07.572Z"
   },
   {
    "duration": 0,
    "start_time": "2024-07-09T09:56:07.573Z"
   },
   {
    "duration": 0,
    "start_time": "2024-07-09T09:56:07.574Z"
   },
   {
    "duration": 0,
    "start_time": "2024-07-09T09:56:07.575Z"
   },
   {
    "duration": 4,
    "start_time": "2024-07-09T09:56:51.335Z"
   },
   {
    "duration": 2502,
    "start_time": "2024-07-09T09:56:51.340Z"
   },
   {
    "duration": 2477,
    "start_time": "2024-07-09T09:56:53.844Z"
   },
   {
    "duration": 3,
    "start_time": "2024-07-09T09:56:56.323Z"
   },
   {
    "duration": 1828,
    "start_time": "2024-07-09T09:56:56.328Z"
   },
   {
    "duration": 144,
    "start_time": "2024-07-09T09:56:58.158Z"
   },
   {
    "duration": 34,
    "start_time": "2024-07-09T09:56:58.304Z"
   },
   {
    "duration": 7,
    "start_time": "2024-07-09T09:56:58.365Z"
   },
   {
    "duration": 9,
    "start_time": "2024-07-09T09:56:58.373Z"
   },
   {
    "duration": 4,
    "start_time": "2024-07-09T09:56:58.384Z"
   },
   {
    "duration": 12,
    "start_time": "2024-07-09T09:56:58.390Z"
   },
   {
    "duration": 1136,
    "start_time": "2024-07-09T09:56:58.404Z"
   },
   {
    "duration": 419,
    "start_time": "2024-07-09T09:56:59.543Z"
   },
   {
    "duration": 983,
    "start_time": "2024-07-09T09:56:59.965Z"
   },
   {
    "duration": 31,
    "start_time": "2024-07-09T09:57:00.950Z"
   },
   {
    "duration": 87,
    "start_time": "2024-07-09T09:57:00.982Z"
   },
   {
    "duration": 1685,
    "start_time": "2024-07-09T09:57:01.071Z"
   },
   {
    "duration": 173,
    "start_time": "2024-07-09T09:57:02.759Z"
   },
   {
    "duration": 0,
    "start_time": "2024-07-09T09:57:02.934Z"
   },
   {
    "duration": 0,
    "start_time": "2024-07-09T09:57:02.935Z"
   },
   {
    "duration": 0,
    "start_time": "2024-07-09T09:57:02.937Z"
   },
   {
    "duration": 0,
    "start_time": "2024-07-09T09:57:02.938Z"
   },
   {
    "duration": 0,
    "start_time": "2024-07-09T09:57:02.939Z"
   },
   {
    "duration": 0,
    "start_time": "2024-07-09T09:57:02.940Z"
   },
   {
    "duration": 0,
    "start_time": "2024-07-09T09:57:02.941Z"
   },
   {
    "duration": 3,
    "start_time": "2024-07-09T09:58:47.618Z"
   },
   {
    "duration": 2632,
    "start_time": "2024-07-09T09:58:47.623Z"
   },
   {
    "duration": 2499,
    "start_time": "2024-07-09T09:58:50.257Z"
   },
   {
    "duration": 2,
    "start_time": "2024-07-09T09:58:52.759Z"
   },
   {
    "duration": 1819,
    "start_time": "2024-07-09T09:58:52.763Z"
   },
   {
    "duration": 141,
    "start_time": "2024-07-09T09:58:54.583Z"
   },
   {
    "duration": 59,
    "start_time": "2024-07-09T09:58:54.725Z"
   },
   {
    "duration": 34,
    "start_time": "2024-07-09T09:58:54.786Z"
   },
   {
    "duration": 6,
    "start_time": "2024-07-09T09:58:54.821Z"
   },
   {
    "duration": 4,
    "start_time": "2024-07-09T09:58:54.829Z"
   },
   {
    "duration": 11,
    "start_time": "2024-07-09T09:58:54.835Z"
   },
   {
    "duration": 2088,
    "start_time": "2024-07-09T09:58:54.847Z"
   },
   {
    "duration": 375,
    "start_time": "2024-07-09T09:58:56.937Z"
   },
   {
    "duration": 934,
    "start_time": "2024-07-09T09:58:57.314Z"
   },
   {
    "duration": 26,
    "start_time": "2024-07-09T09:58:58.250Z"
   },
   {
    "duration": 20,
    "start_time": "2024-07-09T09:58:58.278Z"
   },
   {
    "duration": 1673,
    "start_time": "2024-07-09T09:58:58.299Z"
   },
   {
    "duration": 181,
    "start_time": "2024-07-09T09:58:59.974Z"
   },
   {
    "duration": 0,
    "start_time": "2024-07-09T09:59:00.157Z"
   },
   {
    "duration": 0,
    "start_time": "2024-07-09T09:59:00.158Z"
   },
   {
    "duration": 0,
    "start_time": "2024-07-09T09:59:00.165Z"
   },
   {
    "duration": 0,
    "start_time": "2024-07-09T09:59:00.165Z"
   },
   {
    "duration": 0,
    "start_time": "2024-07-09T09:59:00.167Z"
   },
   {
    "duration": 0,
    "start_time": "2024-07-09T09:59:00.168Z"
   },
   {
    "duration": 0,
    "start_time": "2024-07-09T09:59:00.169Z"
   },
   {
    "duration": 3,
    "start_time": "2024-07-09T10:04:45.041Z"
   },
   {
    "duration": 2724,
    "start_time": "2024-07-09T10:04:45.046Z"
   },
   {
    "duration": 2569,
    "start_time": "2024-07-09T10:04:47.772Z"
   },
   {
    "duration": 3,
    "start_time": "2024-07-09T10:04:50.343Z"
   },
   {
    "duration": 1802,
    "start_time": "2024-07-09T10:04:50.348Z"
   },
   {
    "duration": 142,
    "start_time": "2024-07-09T10:04:52.152Z"
   },
   {
    "duration": 70,
    "start_time": "2024-07-09T10:04:52.295Z"
   },
   {
    "duration": 8,
    "start_time": "2024-07-09T10:04:52.367Z"
   },
   {
    "duration": 24,
    "start_time": "2024-07-09T10:04:52.377Z"
   },
   {
    "duration": 13,
    "start_time": "2024-07-09T10:04:52.403Z"
   },
   {
    "duration": 12,
    "start_time": "2024-07-09T10:04:52.418Z"
   },
   {
    "duration": 1998,
    "start_time": "2024-07-09T10:04:52.432Z"
   },
   {
    "duration": 1126,
    "start_time": "2024-07-09T10:04:54.431Z"
   },
   {
    "duration": 390,
    "start_time": "2024-07-09T10:04:55.564Z"
   },
   {
    "duration": 913,
    "start_time": "2024-07-09T10:04:55.956Z"
   },
   {
    "duration": 23,
    "start_time": "2024-07-09T10:04:56.871Z"
   },
   {
    "duration": 20,
    "start_time": "2024-07-09T10:04:56.896Z"
   },
   {
    "duration": 1718,
    "start_time": "2024-07-09T10:04:56.918Z"
   },
   {
    "duration": 155,
    "start_time": "2024-07-09T10:04:58.637Z"
   },
   {
    "duration": 0,
    "start_time": "2024-07-09T10:04:58.793Z"
   },
   {
    "duration": 0,
    "start_time": "2024-07-09T10:04:58.795Z"
   },
   {
    "duration": 0,
    "start_time": "2024-07-09T10:04:58.795Z"
   },
   {
    "duration": 0,
    "start_time": "2024-07-09T10:04:58.796Z"
   },
   {
    "duration": 0,
    "start_time": "2024-07-09T10:04:58.797Z"
   },
   {
    "duration": 0,
    "start_time": "2024-07-09T10:04:58.798Z"
   },
   {
    "duration": 0,
    "start_time": "2024-07-09T10:04:58.799Z"
   },
   {
    "duration": 4,
    "start_time": "2024-07-09T10:12:05.369Z"
   },
   {
    "duration": 2571,
    "start_time": "2024-07-09T10:12:05.374Z"
   },
   {
    "duration": 2528,
    "start_time": "2024-07-09T10:12:07.948Z"
   },
   {
    "duration": 3,
    "start_time": "2024-07-09T10:12:10.478Z"
   },
   {
    "duration": 1803,
    "start_time": "2024-07-09T10:12:10.484Z"
   },
   {
    "duration": 145,
    "start_time": "2024-07-09T10:12:12.289Z"
   },
   {
    "duration": 49,
    "start_time": "2024-07-09T10:12:12.436Z"
   },
   {
    "duration": 7,
    "start_time": "2024-07-09T10:12:12.487Z"
   },
   {
    "duration": 11,
    "start_time": "2024-07-09T10:12:12.496Z"
   },
   {
    "duration": 5,
    "start_time": "2024-07-09T10:12:12.508Z"
   },
   {
    "duration": 8,
    "start_time": "2024-07-09T10:12:12.515Z"
   },
   {
    "duration": 2130,
    "start_time": "2024-07-09T10:12:12.525Z"
   },
   {
    "duration": 1346,
    "start_time": "2024-07-09T10:12:14.665Z"
   },
   {
    "duration": 375,
    "start_time": "2024-07-09T10:12:16.014Z"
   },
   {
    "duration": 967,
    "start_time": "2024-07-09T10:12:16.391Z"
   },
   {
    "duration": 21,
    "start_time": "2024-07-09T10:12:17.365Z"
   },
   {
    "duration": 21,
    "start_time": "2024-07-09T10:12:17.388Z"
   },
   {
    "duration": 1729,
    "start_time": "2024-07-09T10:12:17.411Z"
   },
   {
    "duration": 152,
    "start_time": "2024-07-09T10:12:19.142Z"
   },
   {
    "duration": 0,
    "start_time": "2024-07-09T10:12:19.296Z"
   },
   {
    "duration": 0,
    "start_time": "2024-07-09T10:12:19.297Z"
   },
   {
    "duration": 0,
    "start_time": "2024-07-09T10:12:19.298Z"
   },
   {
    "duration": 0,
    "start_time": "2024-07-09T10:12:19.299Z"
   },
   {
    "duration": 0,
    "start_time": "2024-07-09T10:12:19.300Z"
   },
   {
    "duration": 0,
    "start_time": "2024-07-09T10:12:19.302Z"
   },
   {
    "duration": 0,
    "start_time": "2024-07-09T10:12:19.303Z"
   },
   {
    "duration": 3,
    "start_time": "2024-07-09T10:29:03.782Z"
   },
   {
    "duration": 2509,
    "start_time": "2024-07-09T10:29:03.787Z"
   },
   {
    "duration": 2494,
    "start_time": "2024-07-09T10:29:06.298Z"
   },
   {
    "duration": 2,
    "start_time": "2024-07-09T10:29:08.794Z"
   },
   {
    "duration": 1762,
    "start_time": "2024-07-09T10:29:08.798Z"
   },
   {
    "duration": 137,
    "start_time": "2024-07-09T10:29:10.561Z"
   },
   {
    "duration": 35,
    "start_time": "2024-07-09T10:29:10.699Z"
   },
   {
    "duration": 7,
    "start_time": "2024-07-09T10:29:10.764Z"
   },
   {
    "duration": 11,
    "start_time": "2024-07-09T10:29:10.773Z"
   },
   {
    "duration": 12,
    "start_time": "2024-07-09T10:29:10.785Z"
   },
   {
    "duration": 27,
    "start_time": "2024-07-09T10:29:10.798Z"
   },
   {
    "duration": 2098,
    "start_time": "2024-07-09T10:29:10.827Z"
   },
   {
    "duration": 1219,
    "start_time": "2024-07-09T10:29:12.927Z"
   },
   {
    "duration": 605,
    "start_time": "2024-07-09T10:29:14.149Z"
   },
   {
    "duration": 411,
    "start_time": "2024-07-09T10:29:14.756Z"
   },
   {
    "duration": 976,
    "start_time": "2024-07-09T10:29:15.169Z"
   },
   {
    "duration": 33,
    "start_time": "2024-07-09T10:29:16.147Z"
   },
   {
    "duration": 20,
    "start_time": "2024-07-09T10:29:16.182Z"
   },
   {
    "duration": 1617,
    "start_time": "2024-07-09T10:29:16.203Z"
   },
   {
    "duration": 154,
    "start_time": "2024-07-09T10:29:17.822Z"
   },
   {
    "duration": 0,
    "start_time": "2024-07-09T10:29:17.977Z"
   },
   {
    "duration": 0,
    "start_time": "2024-07-09T10:29:17.979Z"
   },
   {
    "duration": 0,
    "start_time": "2024-07-09T10:29:17.980Z"
   },
   {
    "duration": 0,
    "start_time": "2024-07-09T10:29:17.981Z"
   },
   {
    "duration": 0,
    "start_time": "2024-07-09T10:29:17.982Z"
   },
   {
    "duration": 0,
    "start_time": "2024-07-09T10:29:17.984Z"
   },
   {
    "duration": 0,
    "start_time": "2024-07-09T10:29:17.985Z"
   },
   {
    "duration": 82,
    "start_time": "2024-07-09T10:40:01.407Z"
   },
   {
    "duration": 4,
    "start_time": "2024-07-09T10:44:58.756Z"
   },
   {
    "duration": 2557,
    "start_time": "2024-07-09T10:44:58.761Z"
   },
   {
    "duration": 2517,
    "start_time": "2024-07-09T10:45:01.319Z"
   },
   {
    "duration": 2,
    "start_time": "2024-07-09T10:45:03.838Z"
   },
   {
    "duration": 1811,
    "start_time": "2024-07-09T10:45:03.842Z"
   },
   {
    "duration": 146,
    "start_time": "2024-07-09T10:45:05.655Z"
   },
   {
    "duration": 66,
    "start_time": "2024-07-09T10:45:05.803Z"
   },
   {
    "duration": 8,
    "start_time": "2024-07-09T10:45:05.871Z"
   },
   {
    "duration": 7,
    "start_time": "2024-07-09T10:45:05.881Z"
   },
   {
    "duration": 5,
    "start_time": "2024-07-09T10:45:05.890Z"
   },
   {
    "duration": 22,
    "start_time": "2024-07-09T10:45:05.896Z"
   },
   {
    "duration": 2037,
    "start_time": "2024-07-09T10:45:05.919Z"
   },
   {
    "duration": 1221,
    "start_time": "2024-07-09T10:45:07.965Z"
   },
   {
    "duration": 564,
    "start_time": "2024-07-09T10:45:09.188Z"
   },
   {
    "duration": 435,
    "start_time": "2024-07-09T10:45:09.754Z"
   },
   {
    "duration": 946,
    "start_time": "2024-07-09T10:45:10.191Z"
   },
   {
    "duration": 145,
    "start_time": "2024-07-09T10:45:11.139Z"
   },
   {
    "duration": 0,
    "start_time": "2024-07-09T10:45:11.286Z"
   },
   {
    "duration": 0,
    "start_time": "2024-07-09T10:45:11.287Z"
   },
   {
    "duration": 0,
    "start_time": "2024-07-09T10:45:11.288Z"
   },
   {
    "duration": 0,
    "start_time": "2024-07-09T10:45:11.289Z"
   },
   {
    "duration": 0,
    "start_time": "2024-07-09T10:45:11.291Z"
   },
   {
    "duration": 0,
    "start_time": "2024-07-09T10:45:11.292Z"
   },
   {
    "duration": 0,
    "start_time": "2024-07-09T10:45:11.293Z"
   },
   {
    "duration": 0,
    "start_time": "2024-07-09T10:45:11.294Z"
   },
   {
    "duration": 0,
    "start_time": "2024-07-09T10:45:11.295Z"
   },
   {
    "duration": 0,
    "start_time": "2024-07-09T10:45:11.296Z"
   },
   {
    "duration": 0,
    "start_time": "2024-07-09T10:45:11.297Z"
   },
   {
    "duration": 4,
    "start_time": "2024-07-09T10:46:49.140Z"
   },
   {
    "duration": 2494,
    "start_time": "2024-07-09T10:46:49.145Z"
   },
   {
    "duration": 2495,
    "start_time": "2024-07-09T10:46:51.641Z"
   },
   {
    "duration": 3,
    "start_time": "2024-07-09T10:46:54.138Z"
   },
   {
    "duration": 1810,
    "start_time": "2024-07-09T10:46:54.143Z"
   },
   {
    "duration": 142,
    "start_time": "2024-07-09T10:46:55.955Z"
   },
   {
    "duration": 36,
    "start_time": "2024-07-09T10:46:56.098Z"
   },
   {
    "duration": 33,
    "start_time": "2024-07-09T10:46:56.136Z"
   },
   {
    "duration": 6,
    "start_time": "2024-07-09T10:46:56.171Z"
   },
   {
    "duration": 4,
    "start_time": "2024-07-09T10:46:56.179Z"
   },
   {
    "duration": 18,
    "start_time": "2024-07-09T10:46:56.185Z"
   },
   {
    "duration": 2041,
    "start_time": "2024-07-09T10:46:56.204Z"
   },
   {
    "duration": 1218,
    "start_time": "2024-07-09T10:46:58.247Z"
   },
   {
    "duration": 582,
    "start_time": "2024-07-09T10:46:59.467Z"
   },
   {
    "duration": 412,
    "start_time": "2024-07-09T10:47:00.050Z"
   },
   {
    "duration": 925,
    "start_time": "2024-07-09T10:47:00.464Z"
   },
   {
    "duration": 4,
    "start_time": "2024-07-09T10:47:01.391Z"
   },
   {
    "duration": 47,
    "start_time": "2024-07-09T10:47:01.396Z"
   },
   {
    "duration": 51,
    "start_time": "2024-07-09T10:47:01.445Z"
   },
   {
    "duration": 1646,
    "start_time": "2024-07-09T10:47:01.498Z"
   },
   {
    "duration": 151,
    "start_time": "2024-07-09T10:47:03.146Z"
   },
   {
    "duration": 0,
    "start_time": "2024-07-09T10:47:03.298Z"
   },
   {
    "duration": 0,
    "start_time": "2024-07-09T10:47:03.300Z"
   },
   {
    "duration": 0,
    "start_time": "2024-07-09T10:47:03.301Z"
   },
   {
    "duration": 0,
    "start_time": "2024-07-09T10:47:03.302Z"
   },
   {
    "duration": 0,
    "start_time": "2024-07-09T10:47:03.303Z"
   },
   {
    "duration": 0,
    "start_time": "2024-07-09T10:47:03.304Z"
   },
   {
    "duration": 0,
    "start_time": "2024-07-09T10:47:03.305Z"
   },
   {
    "duration": 4,
    "start_time": "2024-07-09T11:14:05.323Z"
   },
   {
    "duration": 2536,
    "start_time": "2024-07-09T11:14:05.330Z"
   },
   {
    "duration": 2525,
    "start_time": "2024-07-09T11:14:07.867Z"
   },
   {
    "duration": 3240,
    "start_time": "2024-07-09T11:14:10.395Z"
   },
   {
    "duration": 3,
    "start_time": "2024-07-09T11:14:13.637Z"
   },
   {
    "duration": 1912,
    "start_time": "2024-07-09T11:14:13.642Z"
   },
   {
    "duration": 157,
    "start_time": "2024-07-09T11:14:15.556Z"
   },
   {
    "duration": 77,
    "start_time": "2024-07-09T11:14:15.715Z"
   },
   {
    "duration": 10,
    "start_time": "2024-07-09T11:14:15.795Z"
   },
   {
    "duration": 13,
    "start_time": "2024-07-09T11:14:15.808Z"
   },
   {
    "duration": 43,
    "start_time": "2024-07-09T11:14:15.823Z"
   },
   {
    "duration": 25,
    "start_time": "2024-07-09T11:14:15.868Z"
   },
   {
    "duration": 2153,
    "start_time": "2024-07-09T11:14:15.895Z"
   },
   {
    "duration": 1243,
    "start_time": "2024-07-09T11:14:18.050Z"
   },
   {
    "duration": 624,
    "start_time": "2024-07-09T11:14:19.295Z"
   },
   {
    "duration": 420,
    "start_time": "2024-07-09T11:14:19.921Z"
   },
   {
    "duration": 1001,
    "start_time": "2024-07-09T11:14:20.343Z"
   },
   {
    "duration": 18,
    "start_time": "2024-07-09T11:14:21.347Z"
   },
   {
    "duration": 4105,
    "start_time": "2024-07-09T11:14:21.367Z"
   },
   {
    "duration": 26,
    "start_time": "2024-07-09T11:14:25.474Z"
   },
   {
    "duration": 28,
    "start_time": "2024-07-09T11:14:25.501Z"
   },
   {
    "duration": 1615,
    "start_time": "2024-07-09T11:14:25.531Z"
   },
   {
    "duration": 165,
    "start_time": "2024-07-09T11:14:27.148Z"
   },
   {
    "duration": 0,
    "start_time": "2024-07-09T11:14:27.315Z"
   },
   {
    "duration": 0,
    "start_time": "2024-07-09T11:14:27.316Z"
   },
   {
    "duration": 0,
    "start_time": "2024-07-09T11:14:27.317Z"
   },
   {
    "duration": 0,
    "start_time": "2024-07-09T11:14:27.318Z"
   },
   {
    "duration": 0,
    "start_time": "2024-07-09T11:14:27.320Z"
   },
   {
    "duration": 0,
    "start_time": "2024-07-09T11:14:27.321Z"
   },
   {
    "duration": 0,
    "start_time": "2024-07-09T11:14:27.322Z"
   },
   {
    "duration": 4,
    "start_time": "2024-07-09T11:16:03.236Z"
   },
   {
    "duration": 2478,
    "start_time": "2024-07-09T11:16:03.246Z"
   },
   {
    "duration": 2478,
    "start_time": "2024-07-09T11:16:05.726Z"
   },
   {
    "duration": 2548,
    "start_time": "2024-07-09T11:16:08.206Z"
   },
   {
    "duration": 3,
    "start_time": "2024-07-09T11:16:10.756Z"
   },
   {
    "duration": 1776,
    "start_time": "2024-07-09T11:16:10.760Z"
   },
   {
    "duration": 138,
    "start_time": "2024-07-09T11:16:12.537Z"
   },
   {
    "duration": 44,
    "start_time": "2024-07-09T11:16:12.677Z"
   },
   {
    "duration": 7,
    "start_time": "2024-07-09T11:16:12.723Z"
   },
   {
    "duration": 38,
    "start_time": "2024-07-09T11:16:12.732Z"
   },
   {
    "duration": 24,
    "start_time": "2024-07-09T11:16:12.772Z"
   },
   {
    "duration": 28,
    "start_time": "2024-07-09T11:16:12.798Z"
   },
   {
    "duration": 2052,
    "start_time": "2024-07-09T11:16:12.828Z"
   },
   {
    "duration": 1230,
    "start_time": "2024-07-09T11:16:14.882Z"
   },
   {
    "duration": 624,
    "start_time": "2024-07-09T11:16:16.114Z"
   },
   {
    "duration": 377,
    "start_time": "2024-07-09T11:16:16.740Z"
   },
   {
    "duration": 1030,
    "start_time": "2024-07-09T11:16:17.118Z"
   },
   {
    "duration": 3,
    "start_time": "2024-07-09T11:16:18.150Z"
   },
   {
    "duration": 4035,
    "start_time": "2024-07-09T11:16:18.165Z"
   },
   {
    "duration": 23,
    "start_time": "2024-07-09T11:16:22.202Z"
   },
   {
    "duration": 28,
    "start_time": "2024-07-09T11:16:22.227Z"
   },
   {
    "duration": 1535,
    "start_time": "2024-07-09T11:16:22.257Z"
   },
   {
    "duration": 168,
    "start_time": "2024-07-09T11:16:23.794Z"
   },
   {
    "duration": 0,
    "start_time": "2024-07-09T11:16:23.965Z"
   },
   {
    "duration": 0,
    "start_time": "2024-07-09T11:16:23.966Z"
   },
   {
    "duration": 0,
    "start_time": "2024-07-09T11:16:23.967Z"
   },
   {
    "duration": 0,
    "start_time": "2024-07-09T11:16:23.968Z"
   },
   {
    "duration": 0,
    "start_time": "2024-07-09T11:16:23.969Z"
   },
   {
    "duration": 0,
    "start_time": "2024-07-09T11:16:23.971Z"
   },
   {
    "duration": 0,
    "start_time": "2024-07-09T11:16:23.972Z"
   },
   {
    "duration": 3,
    "start_time": "2024-07-09T11:25:22.079Z"
   },
   {
    "duration": 4823,
    "start_time": "2024-07-09T11:25:22.084Z"
   },
   {
    "duration": 2584,
    "start_time": "2024-07-09T11:25:26.909Z"
   },
   {
    "duration": 2544,
    "start_time": "2024-07-09T11:25:29.496Z"
   },
   {
    "duration": 3,
    "start_time": "2024-07-09T11:25:32.043Z"
   },
   {
    "duration": 1814,
    "start_time": "2024-07-09T11:25:32.047Z"
   },
   {
    "duration": 143,
    "start_time": "2024-07-09T11:25:33.862Z"
   },
   {
    "duration": 64,
    "start_time": "2024-07-09T11:25:34.006Z"
   },
   {
    "duration": 7,
    "start_time": "2024-07-09T11:25:34.072Z"
   },
   {
    "duration": 7,
    "start_time": "2024-07-09T11:25:34.080Z"
   },
   {
    "duration": 7,
    "start_time": "2024-07-09T11:25:34.089Z"
   },
   {
    "duration": 23,
    "start_time": "2024-07-09T11:25:34.098Z"
   },
   {
    "duration": 2108,
    "start_time": "2024-07-09T11:25:34.123Z"
   },
   {
    "duration": 1137,
    "start_time": "2024-07-09T11:25:36.235Z"
   },
   {
    "duration": 613,
    "start_time": "2024-07-09T11:25:37.374Z"
   },
   {
    "duration": 405,
    "start_time": "2024-07-09T11:25:37.989Z"
   },
   {
    "duration": 989,
    "start_time": "2024-07-09T11:25:38.396Z"
   },
   {
    "duration": 4,
    "start_time": "2024-07-09T11:25:39.387Z"
   },
   {
    "duration": 165,
    "start_time": "2024-07-09T11:25:39.393Z"
   },
   {
    "duration": 0,
    "start_time": "2024-07-09T11:25:39.559Z"
   },
   {
    "duration": 0,
    "start_time": "2024-07-09T11:25:39.565Z"
   },
   {
    "duration": 0,
    "start_time": "2024-07-09T11:25:39.566Z"
   },
   {
    "duration": 0,
    "start_time": "2024-07-09T11:25:39.567Z"
   },
   {
    "duration": 0,
    "start_time": "2024-07-09T11:25:39.569Z"
   },
   {
    "duration": 0,
    "start_time": "2024-07-09T11:25:39.569Z"
   },
   {
    "duration": 0,
    "start_time": "2024-07-09T11:25:39.571Z"
   },
   {
    "duration": 0,
    "start_time": "2024-07-09T11:25:39.572Z"
   },
   {
    "duration": 0,
    "start_time": "2024-07-09T11:25:39.573Z"
   },
   {
    "duration": 0,
    "start_time": "2024-07-09T11:25:39.574Z"
   },
   {
    "duration": 0,
    "start_time": "2024-07-09T11:25:39.575Z"
   },
   {
    "duration": 3,
    "start_time": "2024-07-09T11:27:06.308Z"
   },
   {
    "duration": 2512,
    "start_time": "2024-07-09T11:27:06.313Z"
   },
   {
    "duration": 2535,
    "start_time": "2024-07-09T11:27:08.827Z"
   },
   {
    "duration": 2548,
    "start_time": "2024-07-09T11:27:11.364Z"
   },
   {
    "duration": 3,
    "start_time": "2024-07-09T11:27:13.914Z"
   },
   {
    "duration": 1766,
    "start_time": "2024-07-09T11:27:13.918Z"
   },
   {
    "duration": 145,
    "start_time": "2024-07-09T11:27:15.686Z"
   },
   {
    "duration": 57,
    "start_time": "2024-07-09T11:27:15.832Z"
   },
   {
    "duration": 9,
    "start_time": "2024-07-09T11:27:15.890Z"
   },
   {
    "duration": 7,
    "start_time": "2024-07-09T11:27:15.901Z"
   },
   {
    "duration": 5,
    "start_time": "2024-07-09T11:27:15.910Z"
   },
   {
    "duration": 9,
    "start_time": "2024-07-09T11:27:15.916Z"
   },
   {
    "duration": 2099,
    "start_time": "2024-07-09T11:27:15.927Z"
   },
   {
    "duration": 1264,
    "start_time": "2024-07-09T11:27:18.029Z"
   },
   {
    "duration": 574,
    "start_time": "2024-07-09T11:27:19.294Z"
   },
   {
    "duration": 394,
    "start_time": "2024-07-09T11:27:19.871Z"
   },
   {
    "duration": 930,
    "start_time": "2024-07-09T11:27:20.267Z"
   },
   {
    "duration": 4,
    "start_time": "2024-07-09T11:27:21.199Z"
   },
   {
    "duration": 357,
    "start_time": "2024-07-09T11:27:21.205Z"
   },
   {
    "duration": 0,
    "start_time": "2024-07-09T11:27:21.564Z"
   },
   {
    "duration": 1,
    "start_time": "2024-07-09T11:27:21.565Z"
   },
   {
    "duration": 0,
    "start_time": "2024-07-09T11:27:21.567Z"
   },
   {
    "duration": 0,
    "start_time": "2024-07-09T11:27:21.568Z"
   },
   {
    "duration": 0,
    "start_time": "2024-07-09T11:27:21.569Z"
   },
   {
    "duration": 0,
    "start_time": "2024-07-09T11:27:21.571Z"
   },
   {
    "duration": 0,
    "start_time": "2024-07-09T11:27:21.572Z"
   },
   {
    "duration": 0,
    "start_time": "2024-07-09T11:27:21.573Z"
   },
   {
    "duration": 0,
    "start_time": "2024-07-09T11:27:21.574Z"
   },
   {
    "duration": 0,
    "start_time": "2024-07-09T11:27:21.575Z"
   },
   {
    "duration": 0,
    "start_time": "2024-07-09T11:27:21.577Z"
   },
   {
    "duration": 2,
    "start_time": "2024-07-09T11:30:44.767Z"
   },
   {
    "duration": 2649,
    "start_time": "2024-07-09T11:30:44.779Z"
   },
   {
    "duration": 2523,
    "start_time": "2024-07-09T11:30:47.431Z"
   },
   {
    "duration": 2706,
    "start_time": "2024-07-09T11:30:49.956Z"
   },
   {
    "duration": 3,
    "start_time": "2024-07-09T11:30:52.664Z"
   },
   {
    "duration": 9,
    "start_time": "2024-07-09T11:30:52.669Z"
   },
   {
    "duration": 138,
    "start_time": "2024-07-09T11:30:52.680Z"
   },
   {
    "duration": 64,
    "start_time": "2024-07-09T11:30:52.819Z"
   },
   {
    "duration": 7,
    "start_time": "2024-07-09T11:30:52.885Z"
   },
   {
    "duration": 40,
    "start_time": "2024-07-09T11:30:52.894Z"
   },
   {
    "duration": 13,
    "start_time": "2024-07-09T11:30:52.936Z"
   },
   {
    "duration": 9,
    "start_time": "2024-07-09T11:30:52.950Z"
   },
   {
    "duration": 2065,
    "start_time": "2024-07-09T11:30:52.961Z"
   },
   {
    "duration": 1282,
    "start_time": "2024-07-09T11:30:55.028Z"
   },
   {
    "duration": 599,
    "start_time": "2024-07-09T11:30:56.313Z"
   },
   {
    "duration": 364,
    "start_time": "2024-07-09T11:30:56.914Z"
   },
   {
    "duration": 946,
    "start_time": "2024-07-09T11:30:57.279Z"
   },
   {
    "duration": 6,
    "start_time": "2024-07-09T11:30:58.227Z"
   },
   {
    "duration": 164,
    "start_time": "2024-07-09T11:30:58.234Z"
   },
   {
    "duration": 0,
    "start_time": "2024-07-09T11:30:58.400Z"
   },
   {
    "duration": 0,
    "start_time": "2024-07-09T11:30:58.401Z"
   },
   {
    "duration": 0,
    "start_time": "2024-07-09T11:30:58.403Z"
   },
   {
    "duration": 0,
    "start_time": "2024-07-09T11:30:58.404Z"
   },
   {
    "duration": 0,
    "start_time": "2024-07-09T11:30:58.405Z"
   },
   {
    "duration": 0,
    "start_time": "2024-07-09T11:30:58.406Z"
   },
   {
    "duration": 0,
    "start_time": "2024-07-09T11:30:58.407Z"
   },
   {
    "duration": 0,
    "start_time": "2024-07-09T11:30:58.408Z"
   },
   {
    "duration": 0,
    "start_time": "2024-07-09T11:30:58.410Z"
   },
   {
    "duration": 0,
    "start_time": "2024-07-09T11:30:58.411Z"
   },
   {
    "duration": 0,
    "start_time": "2024-07-09T11:30:58.412Z"
   },
   {
    "duration": 3,
    "start_time": "2024-07-09T11:32:09.377Z"
   },
   {
    "duration": 2540,
    "start_time": "2024-07-09T11:32:09.382Z"
   },
   {
    "duration": 2561,
    "start_time": "2024-07-09T11:32:11.925Z"
   },
   {
    "duration": 2525,
    "start_time": "2024-07-09T11:32:14.488Z"
   },
   {
    "duration": 2,
    "start_time": "2024-07-09T11:32:17.016Z"
   },
   {
    "duration": 1857,
    "start_time": "2024-07-09T11:32:17.019Z"
   },
   {
    "duration": 150,
    "start_time": "2024-07-09T11:32:18.879Z"
   },
   {
    "duration": 56,
    "start_time": "2024-07-09T11:32:19.030Z"
   },
   {
    "duration": 7,
    "start_time": "2024-07-09T11:32:19.087Z"
   },
   {
    "duration": 13,
    "start_time": "2024-07-09T11:32:19.096Z"
   },
   {
    "duration": 4,
    "start_time": "2024-07-09T11:32:19.111Z"
   },
   {
    "duration": 7,
    "start_time": "2024-07-09T11:32:19.116Z"
   },
   {
    "duration": 2105,
    "start_time": "2024-07-09T11:32:19.124Z"
   },
   {
    "duration": 1191,
    "start_time": "2024-07-09T11:32:21.231Z"
   },
   {
    "duration": 595,
    "start_time": "2024-07-09T11:32:22.423Z"
   },
   {
    "duration": 376,
    "start_time": "2024-07-09T11:32:23.020Z"
   },
   {
    "duration": 955,
    "start_time": "2024-07-09T11:32:23.398Z"
   },
   {
    "duration": 11,
    "start_time": "2024-07-09T11:32:24.355Z"
   },
   {
    "duration": 274,
    "start_time": "2024-07-09T11:32:24.367Z"
   },
   {
    "duration": 0,
    "start_time": "2024-07-09T11:32:24.642Z"
   },
   {
    "duration": 0,
    "start_time": "2024-07-09T11:32:24.644Z"
   },
   {
    "duration": 0,
    "start_time": "2024-07-09T11:32:24.645Z"
   },
   {
    "duration": 0,
    "start_time": "2024-07-09T11:32:24.647Z"
   },
   {
    "duration": 0,
    "start_time": "2024-07-09T11:32:24.648Z"
   },
   {
    "duration": 0,
    "start_time": "2024-07-09T11:32:24.649Z"
   },
   {
    "duration": 0,
    "start_time": "2024-07-09T11:32:24.650Z"
   },
   {
    "duration": 0,
    "start_time": "2024-07-09T11:32:24.651Z"
   },
   {
    "duration": 0,
    "start_time": "2024-07-09T11:32:24.652Z"
   },
   {
    "duration": 0,
    "start_time": "2024-07-09T11:32:24.653Z"
   },
   {
    "duration": 0,
    "start_time": "2024-07-09T11:32:24.654Z"
   },
   {
    "duration": 2,
    "start_time": "2024-07-09T11:34:51.882Z"
   },
   {
    "duration": 2554,
    "start_time": "2024-07-09T11:34:51.886Z"
   },
   {
    "duration": 2442,
    "start_time": "2024-07-09T11:34:54.442Z"
   },
   {
    "duration": 2657,
    "start_time": "2024-07-09T11:34:56.887Z"
   },
   {
    "duration": 3,
    "start_time": "2024-07-09T11:34:59.547Z"
   },
   {
    "duration": 11,
    "start_time": "2024-07-09T11:34:59.552Z"
   },
   {
    "duration": 150,
    "start_time": "2024-07-09T11:34:59.565Z"
   },
   {
    "duration": 69,
    "start_time": "2024-07-09T11:34:59.717Z"
   },
   {
    "duration": 9,
    "start_time": "2024-07-09T11:34:59.788Z"
   },
   {
    "duration": 14,
    "start_time": "2024-07-09T11:34:59.799Z"
   },
   {
    "duration": 19,
    "start_time": "2024-07-09T11:34:59.815Z"
   },
   {
    "duration": 22,
    "start_time": "2024-07-09T11:34:59.836Z"
   },
   {
    "duration": 2176,
    "start_time": "2024-07-09T11:34:59.865Z"
   },
   {
    "duration": 1355,
    "start_time": "2024-07-09T11:35:02.044Z"
   },
   {
    "duration": 580,
    "start_time": "2024-07-09T11:35:03.400Z"
   },
   {
    "duration": 360,
    "start_time": "2024-07-09T11:35:03.982Z"
   },
   {
    "duration": 941,
    "start_time": "2024-07-09T11:35:04.343Z"
   },
   {
    "duration": 4,
    "start_time": "2024-07-09T11:35:05.286Z"
   },
   {
    "duration": 1636,
    "start_time": "2024-07-09T11:35:05.292Z"
   },
   {
    "duration": 0,
    "start_time": "2024-07-09T11:35:06.929Z"
   },
   {
    "duration": 0,
    "start_time": "2024-07-09T11:35:06.931Z"
   },
   {
    "duration": 0,
    "start_time": "2024-07-09T11:35:06.932Z"
   },
   {
    "duration": 0,
    "start_time": "2024-07-09T11:35:06.934Z"
   },
   {
    "duration": 0,
    "start_time": "2024-07-09T11:35:06.935Z"
   },
   {
    "duration": 0,
    "start_time": "2024-07-09T11:35:06.936Z"
   },
   {
    "duration": 0,
    "start_time": "2024-07-09T11:35:06.937Z"
   },
   {
    "duration": 0,
    "start_time": "2024-07-09T11:35:06.939Z"
   },
   {
    "duration": 0,
    "start_time": "2024-07-09T11:35:06.940Z"
   },
   {
    "duration": 0,
    "start_time": "2024-07-09T11:35:06.941Z"
   },
   {
    "duration": 0,
    "start_time": "2024-07-09T11:35:06.942Z"
   },
   {
    "duration": 3,
    "start_time": "2024-07-09T11:38:49.194Z"
   },
   {
    "duration": 2604,
    "start_time": "2024-07-09T11:38:49.198Z"
   },
   {
    "duration": 2510,
    "start_time": "2024-07-09T11:38:51.804Z"
   },
   {
    "duration": 2494,
    "start_time": "2024-07-09T11:38:54.316Z"
   },
   {
    "duration": 3,
    "start_time": "2024-07-09T11:38:56.814Z"
   },
   {
    "duration": 11,
    "start_time": "2024-07-09T11:38:56.819Z"
   },
   {
    "duration": 150,
    "start_time": "2024-07-09T11:38:56.832Z"
   },
   {
    "duration": 44,
    "start_time": "2024-07-09T11:38:56.984Z"
   },
   {
    "duration": 38,
    "start_time": "2024-07-09T11:38:57.030Z"
   },
   {
    "duration": 8,
    "start_time": "2024-07-09T11:38:57.069Z"
   },
   {
    "duration": 5,
    "start_time": "2024-07-09T11:38:57.079Z"
   },
   {
    "duration": 9,
    "start_time": "2024-07-09T11:38:57.085Z"
   },
   {
    "duration": 2048,
    "start_time": "2024-07-09T11:38:57.095Z"
   },
   {
    "duration": 1360,
    "start_time": "2024-07-09T11:38:59.146Z"
   },
   {
    "duration": 570,
    "start_time": "2024-07-09T11:39:00.508Z"
   },
   {
    "duration": 366,
    "start_time": "2024-07-09T11:39:01.080Z"
   },
   {
    "duration": 968,
    "start_time": "2024-07-09T11:39:01.448Z"
   },
   {
    "duration": 7,
    "start_time": "2024-07-09T11:39:02.419Z"
   },
   {
    "duration": 38,
    "start_time": "2024-07-09T11:39:02.428Z"
   },
   {
    "duration": 0,
    "start_time": "2024-07-09T11:39:02.468Z"
   },
   {
    "duration": 0,
    "start_time": "2024-07-09T11:39:02.469Z"
   },
   {
    "duration": 0,
    "start_time": "2024-07-09T11:39:02.471Z"
   },
   {
    "duration": 0,
    "start_time": "2024-07-09T11:39:02.472Z"
   },
   {
    "duration": 0,
    "start_time": "2024-07-09T11:39:02.473Z"
   },
   {
    "duration": 0,
    "start_time": "2024-07-09T11:39:02.475Z"
   },
   {
    "duration": 0,
    "start_time": "2024-07-09T11:39:02.476Z"
   },
   {
    "duration": 0,
    "start_time": "2024-07-09T11:39:02.477Z"
   },
   {
    "duration": 0,
    "start_time": "2024-07-09T11:39:02.478Z"
   },
   {
    "duration": 0,
    "start_time": "2024-07-09T11:39:02.479Z"
   },
   {
    "duration": 0,
    "start_time": "2024-07-09T11:39:02.480Z"
   },
   {
    "duration": 2,
    "start_time": "2024-07-09T11:42:07.634Z"
   },
   {
    "duration": 2610,
    "start_time": "2024-07-09T11:42:07.647Z"
   },
   {
    "duration": 2557,
    "start_time": "2024-07-09T11:42:10.259Z"
   },
   {
    "duration": 2546,
    "start_time": "2024-07-09T11:42:12.818Z"
   },
   {
    "duration": 3,
    "start_time": "2024-07-09T11:42:15.366Z"
   },
   {
    "duration": 17,
    "start_time": "2024-07-09T11:42:15.371Z"
   },
   {
    "duration": 139,
    "start_time": "2024-07-09T11:42:15.389Z"
   },
   {
    "duration": 53,
    "start_time": "2024-07-09T11:42:15.530Z"
   },
   {
    "duration": 6,
    "start_time": "2024-07-09T11:42:15.585Z"
   },
   {
    "duration": 19,
    "start_time": "2024-07-09T11:42:15.593Z"
   },
   {
    "duration": 18,
    "start_time": "2024-07-09T11:42:15.614Z"
   },
   {
    "duration": 15,
    "start_time": "2024-07-09T11:42:15.634Z"
   },
   {
    "duration": 2103,
    "start_time": "2024-07-09T11:42:15.650Z"
   },
   {
    "duration": 1261,
    "start_time": "2024-07-09T11:42:17.755Z"
   },
   {
    "duration": 608,
    "start_time": "2024-07-09T11:42:19.019Z"
   },
   {
    "duration": 506,
    "start_time": "2024-07-09T11:42:19.629Z"
   },
   {
    "duration": 934,
    "start_time": "2024-07-09T11:42:20.137Z"
   },
   {
    "duration": 5,
    "start_time": "2024-07-09T11:42:21.073Z"
   },
   {
    "duration": 1600,
    "start_time": "2024-07-09T11:42:21.079Z"
   },
   {
    "duration": 0,
    "start_time": "2024-07-09T11:42:22.681Z"
   },
   {
    "duration": 0,
    "start_time": "2024-07-09T11:42:22.681Z"
   },
   {
    "duration": 0,
    "start_time": "2024-07-09T11:42:22.683Z"
   },
   {
    "duration": 0,
    "start_time": "2024-07-09T11:42:22.684Z"
   },
   {
    "duration": 0,
    "start_time": "2024-07-09T11:42:22.685Z"
   },
   {
    "duration": 0,
    "start_time": "2024-07-09T11:42:22.686Z"
   },
   {
    "duration": 0,
    "start_time": "2024-07-09T11:42:22.687Z"
   },
   {
    "duration": 0,
    "start_time": "2024-07-09T11:42:22.689Z"
   },
   {
    "duration": 0,
    "start_time": "2024-07-09T11:42:22.690Z"
   },
   {
    "duration": 0,
    "start_time": "2024-07-09T11:42:22.691Z"
   },
   {
    "duration": 0,
    "start_time": "2024-07-09T11:42:22.692Z"
   },
   {
    "duration": 3,
    "start_time": "2024-07-09T11:43:10.973Z"
   },
   {
    "duration": 2566,
    "start_time": "2024-07-09T11:43:10.978Z"
   },
   {
    "duration": 2501,
    "start_time": "2024-07-09T11:43:13.546Z"
   },
   {
    "duration": 2488,
    "start_time": "2024-07-09T11:43:16.049Z"
   },
   {
    "duration": 3,
    "start_time": "2024-07-09T11:43:18.540Z"
   },
   {
    "duration": 7,
    "start_time": "2024-07-09T11:43:18.545Z"
   },
   {
    "duration": 144,
    "start_time": "2024-07-09T11:43:18.554Z"
   },
   {
    "duration": 66,
    "start_time": "2024-07-09T11:43:18.699Z"
   },
   {
    "duration": 7,
    "start_time": "2024-07-09T11:43:18.767Z"
   },
   {
    "duration": 14,
    "start_time": "2024-07-09T11:43:18.776Z"
   },
   {
    "duration": 16,
    "start_time": "2024-07-09T11:43:18.791Z"
   },
   {
    "duration": 12,
    "start_time": "2024-07-09T11:43:18.809Z"
   },
   {
    "duration": 2227,
    "start_time": "2024-07-09T11:43:18.823Z"
   },
   {
    "duration": 1106,
    "start_time": "2024-07-09T11:43:21.052Z"
   },
   {
    "duration": 802,
    "start_time": "2024-07-09T11:43:22.165Z"
   },
   {
    "duration": 366,
    "start_time": "2024-07-09T11:43:22.969Z"
   },
   {
    "duration": 1027,
    "start_time": "2024-07-09T11:43:23.337Z"
   },
   {
    "duration": 5,
    "start_time": "2024-07-09T11:43:24.365Z"
   },
   {
    "duration": 64,
    "start_time": "2024-07-09T11:43:24.371Z"
   },
   {
    "duration": 0,
    "start_time": "2024-07-09T11:43:24.437Z"
   },
   {
    "duration": 0,
    "start_time": "2024-07-09T11:43:24.439Z"
   },
   {
    "duration": 0,
    "start_time": "2024-07-09T11:43:24.440Z"
   },
   {
    "duration": 0,
    "start_time": "2024-07-09T11:43:24.442Z"
   },
   {
    "duration": 0,
    "start_time": "2024-07-09T11:43:24.443Z"
   },
   {
    "duration": 0,
    "start_time": "2024-07-09T11:43:24.444Z"
   },
   {
    "duration": 0,
    "start_time": "2024-07-09T11:43:24.446Z"
   },
   {
    "duration": 0,
    "start_time": "2024-07-09T11:43:24.448Z"
   },
   {
    "duration": 0,
    "start_time": "2024-07-09T11:43:24.449Z"
   },
   {
    "duration": 0,
    "start_time": "2024-07-09T11:43:24.450Z"
   },
   {
    "duration": 0,
    "start_time": "2024-07-09T11:43:24.451Z"
   },
   {
    "duration": 3,
    "start_time": "2024-07-09T11:45:25.493Z"
   },
   {
    "duration": 2584,
    "start_time": "2024-07-09T11:45:25.498Z"
   },
   {
    "duration": 2553,
    "start_time": "2024-07-09T11:45:28.085Z"
   },
   {
    "duration": 2574,
    "start_time": "2024-07-09T11:45:30.640Z"
   },
   {
    "duration": 3,
    "start_time": "2024-07-09T11:45:33.217Z"
   },
   {
    "duration": 25,
    "start_time": "2024-07-09T11:45:33.221Z"
   },
   {
    "duration": 153,
    "start_time": "2024-07-09T11:45:33.248Z"
   },
   {
    "duration": 70,
    "start_time": "2024-07-09T11:45:33.403Z"
   },
   {
    "duration": 7,
    "start_time": "2024-07-09T11:45:33.475Z"
   },
   {
    "duration": 6,
    "start_time": "2024-07-09T11:45:33.484Z"
   },
   {
    "duration": 5,
    "start_time": "2024-07-09T11:45:33.492Z"
   },
   {
    "duration": 13,
    "start_time": "2024-07-09T11:45:33.499Z"
   },
   {
    "duration": 2039,
    "start_time": "2024-07-09T11:45:33.513Z"
   },
   {
    "duration": 1358,
    "start_time": "2024-07-09T11:45:35.555Z"
   },
   {
    "duration": 605,
    "start_time": "2024-07-09T11:45:36.915Z"
   },
   {
    "duration": 385,
    "start_time": "2024-07-09T11:45:37.521Z"
   },
   {
    "duration": 1080,
    "start_time": "2024-07-09T11:45:37.908Z"
   },
   {
    "duration": 5,
    "start_time": "2024-07-09T11:45:38.995Z"
   },
   {
    "duration": 1714,
    "start_time": "2024-07-09T11:45:39.003Z"
   },
   {
    "duration": 0,
    "start_time": "2024-07-09T11:45:40.719Z"
   },
   {
    "duration": 0,
    "start_time": "2024-07-09T11:45:40.720Z"
   },
   {
    "duration": 0,
    "start_time": "2024-07-09T11:45:40.722Z"
   },
   {
    "duration": 0,
    "start_time": "2024-07-09T11:45:40.723Z"
   },
   {
    "duration": 0,
    "start_time": "2024-07-09T11:45:40.725Z"
   },
   {
    "duration": 0,
    "start_time": "2024-07-09T11:45:40.726Z"
   },
   {
    "duration": 1,
    "start_time": "2024-07-09T11:45:40.727Z"
   },
   {
    "duration": 0,
    "start_time": "2024-07-09T11:45:40.728Z"
   },
   {
    "duration": 0,
    "start_time": "2024-07-09T11:45:40.730Z"
   },
   {
    "duration": 0,
    "start_time": "2024-07-09T11:45:40.732Z"
   },
   {
    "duration": 0,
    "start_time": "2024-07-09T11:45:40.733Z"
   },
   {
    "duration": 2,
    "start_time": "2024-07-09T11:48:35.524Z"
   },
   {
    "duration": 2570,
    "start_time": "2024-07-09T11:48:35.528Z"
   },
   {
    "duration": 2628,
    "start_time": "2024-07-09T11:48:38.100Z"
   },
   {
    "duration": 2468,
    "start_time": "2024-07-09T11:48:40.730Z"
   },
   {
    "duration": 2,
    "start_time": "2024-07-09T11:48:43.201Z"
   },
   {
    "duration": 18,
    "start_time": "2024-07-09T11:48:43.205Z"
   },
   {
    "duration": 143,
    "start_time": "2024-07-09T11:48:43.225Z"
   },
   {
    "duration": 34,
    "start_time": "2024-07-09T11:48:43.370Z"
   },
   {
    "duration": 7,
    "start_time": "2024-07-09T11:48:43.405Z"
   },
   {
    "duration": 14,
    "start_time": "2024-07-09T11:48:43.413Z"
   },
   {
    "duration": 37,
    "start_time": "2024-07-09T11:48:43.429Z"
   },
   {
    "duration": 11,
    "start_time": "2024-07-09T11:48:43.468Z"
   },
   {
    "duration": 2161,
    "start_time": "2024-07-09T11:48:43.481Z"
   },
   {
    "duration": 1401,
    "start_time": "2024-07-09T11:48:45.646Z"
   },
   {
    "duration": 589,
    "start_time": "2024-07-09T11:48:47.048Z"
   },
   {
    "duration": 379,
    "start_time": "2024-07-09T11:48:47.639Z"
   },
   {
    "duration": 985,
    "start_time": "2024-07-09T11:48:48.020Z"
   },
   {
    "duration": 4,
    "start_time": "2024-07-09T11:48:49.007Z"
   },
   {
    "duration": 1611,
    "start_time": "2024-07-09T11:48:49.013Z"
   },
   {
    "duration": 0,
    "start_time": "2024-07-09T11:48:50.625Z"
   },
   {
    "duration": 0,
    "start_time": "2024-07-09T11:48:50.627Z"
   },
   {
    "duration": 0,
    "start_time": "2024-07-09T11:48:50.628Z"
   },
   {
    "duration": 0,
    "start_time": "2024-07-09T11:48:50.629Z"
   },
   {
    "duration": 0,
    "start_time": "2024-07-09T11:48:50.630Z"
   },
   {
    "duration": 0,
    "start_time": "2024-07-09T11:48:50.631Z"
   },
   {
    "duration": 0,
    "start_time": "2024-07-09T11:48:50.632Z"
   },
   {
    "duration": 0,
    "start_time": "2024-07-09T11:48:50.633Z"
   },
   {
    "duration": 0,
    "start_time": "2024-07-09T11:48:50.634Z"
   },
   {
    "duration": 0,
    "start_time": "2024-07-09T11:48:50.636Z"
   },
   {
    "duration": 0,
    "start_time": "2024-07-09T11:48:50.637Z"
   },
   {
    "duration": 3,
    "start_time": "2024-07-09T11:50:54.960Z"
   },
   {
    "duration": 2565,
    "start_time": "2024-07-09T11:50:54.965Z"
   },
   {
    "duration": 2530,
    "start_time": "2024-07-09T11:50:57.532Z"
   },
   {
    "duration": 2560,
    "start_time": "2024-07-09T11:51:00.064Z"
   },
   {
    "duration": 3,
    "start_time": "2024-07-09T11:51:02.627Z"
   },
   {
    "duration": 15,
    "start_time": "2024-07-09T11:51:02.631Z"
   },
   {
    "duration": 160,
    "start_time": "2024-07-09T11:51:02.648Z"
   },
   {
    "duration": 72,
    "start_time": "2024-07-09T11:51:02.809Z"
   },
   {
    "duration": 7,
    "start_time": "2024-07-09T11:51:02.883Z"
   },
   {
    "duration": 29,
    "start_time": "2024-07-09T11:51:02.892Z"
   },
   {
    "duration": 17,
    "start_time": "2024-07-09T11:51:02.923Z"
   },
   {
    "duration": 17,
    "start_time": "2024-07-09T11:51:02.942Z"
   },
   {
    "duration": 2265,
    "start_time": "2024-07-09T11:51:02.963Z"
   },
   {
    "duration": 1195,
    "start_time": "2024-07-09T11:51:05.230Z"
   },
   {
    "duration": 624,
    "start_time": "2024-07-09T11:51:06.427Z"
   },
   {
    "duration": 370,
    "start_time": "2024-07-09T11:51:07.052Z"
   },
   {
    "duration": 1010,
    "start_time": "2024-07-09T11:51:07.424Z"
   },
   {
    "duration": 5,
    "start_time": "2024-07-09T11:51:08.435Z"
   },
   {
    "duration": 27,
    "start_time": "2024-07-09T11:51:08.441Z"
   },
   {
    "duration": 0,
    "start_time": "2024-07-09T11:51:08.470Z"
   },
   {
    "duration": 0,
    "start_time": "2024-07-09T11:51:08.471Z"
   },
   {
    "duration": 0,
    "start_time": "2024-07-09T11:51:08.472Z"
   },
   {
    "duration": 1,
    "start_time": "2024-07-09T11:51:08.473Z"
   },
   {
    "duration": 0,
    "start_time": "2024-07-09T11:51:08.475Z"
   },
   {
    "duration": 0,
    "start_time": "2024-07-09T11:51:08.476Z"
   },
   {
    "duration": 0,
    "start_time": "2024-07-09T11:51:08.477Z"
   },
   {
    "duration": 0,
    "start_time": "2024-07-09T11:51:08.478Z"
   },
   {
    "duration": 0,
    "start_time": "2024-07-09T11:51:08.480Z"
   },
   {
    "duration": 0,
    "start_time": "2024-07-09T11:51:08.481Z"
   },
   {
    "duration": 0,
    "start_time": "2024-07-09T11:51:08.482Z"
   },
   {
    "duration": 3,
    "start_time": "2024-07-09T11:52:21.073Z"
   },
   {
    "duration": 2565,
    "start_time": "2024-07-09T11:52:21.078Z"
   },
   {
    "duration": 2439,
    "start_time": "2024-07-09T11:52:23.645Z"
   },
   {
    "duration": 2525,
    "start_time": "2024-07-09T11:52:26.087Z"
   },
   {
    "duration": 2,
    "start_time": "2024-07-09T11:52:28.615Z"
   },
   {
    "duration": 10,
    "start_time": "2024-07-09T11:52:28.619Z"
   },
   {
    "duration": 140,
    "start_time": "2024-07-09T11:52:28.631Z"
   },
   {
    "duration": 34,
    "start_time": "2024-07-09T11:52:28.772Z"
   },
   {
    "duration": 7,
    "start_time": "2024-07-09T11:52:28.808Z"
   },
   {
    "duration": 8,
    "start_time": "2024-07-09T11:52:28.817Z"
   },
   {
    "duration": 42,
    "start_time": "2024-07-09T11:52:28.827Z"
   },
   {
    "duration": 7,
    "start_time": "2024-07-09T11:52:28.872Z"
   },
   {
    "duration": 2153,
    "start_time": "2024-07-09T11:52:28.883Z"
   },
   {
    "duration": 1339,
    "start_time": "2024-07-09T11:52:31.038Z"
   },
   {
    "duration": 555,
    "start_time": "2024-07-09T11:52:32.380Z"
   },
   {
    "duration": 389,
    "start_time": "2024-07-09T11:52:32.936Z"
   },
   {
    "duration": 935,
    "start_time": "2024-07-09T11:52:33.326Z"
   },
   {
    "duration": 4,
    "start_time": "2024-07-09T11:52:34.265Z"
   },
   {
    "duration": 29,
    "start_time": "2024-07-09T11:52:34.271Z"
   },
   {
    "duration": 0,
    "start_time": "2024-07-09T11:52:34.301Z"
   },
   {
    "duration": 0,
    "start_time": "2024-07-09T11:52:34.302Z"
   },
   {
    "duration": 0,
    "start_time": "2024-07-09T11:52:34.304Z"
   },
   {
    "duration": 0,
    "start_time": "2024-07-09T11:52:34.305Z"
   },
   {
    "duration": 0,
    "start_time": "2024-07-09T11:52:34.306Z"
   },
   {
    "duration": 0,
    "start_time": "2024-07-09T11:52:34.307Z"
   },
   {
    "duration": 0,
    "start_time": "2024-07-09T11:52:34.308Z"
   },
   {
    "duration": 0,
    "start_time": "2024-07-09T11:52:34.309Z"
   },
   {
    "duration": 0,
    "start_time": "2024-07-09T11:52:34.311Z"
   },
   {
    "duration": 0,
    "start_time": "2024-07-09T11:52:34.312Z"
   },
   {
    "duration": 0,
    "start_time": "2024-07-09T11:52:34.313Z"
   },
   {
    "duration": 2,
    "start_time": "2024-07-09T11:54:02.211Z"
   },
   {
    "duration": 2687,
    "start_time": "2024-07-09T11:54:02.215Z"
   },
   {
    "duration": 2818,
    "start_time": "2024-07-09T11:54:04.905Z"
   },
   {
    "duration": 2903,
    "start_time": "2024-07-09T11:54:07.725Z"
   },
   {
    "duration": 3,
    "start_time": "2024-07-09T11:54:10.631Z"
   },
   {
    "duration": 29,
    "start_time": "2024-07-09T11:54:10.635Z"
   },
   {
    "duration": 162,
    "start_time": "2024-07-09T11:54:10.666Z"
   },
   {
    "duration": 63,
    "start_time": "2024-07-09T11:54:10.830Z"
   },
   {
    "duration": 9,
    "start_time": "2024-07-09T11:54:10.895Z"
   },
   {
    "duration": 7,
    "start_time": "2024-07-09T11:54:10.906Z"
   },
   {
    "duration": 4,
    "start_time": "2024-07-09T11:54:10.916Z"
   },
   {
    "duration": 45,
    "start_time": "2024-07-09T11:54:10.922Z"
   },
   {
    "duration": 2396,
    "start_time": "2024-07-09T11:54:10.969Z"
   },
   {
    "duration": 1253,
    "start_time": "2024-07-09T11:54:13.367Z"
   },
   {
    "duration": 615,
    "start_time": "2024-07-09T11:54:14.622Z"
   },
   {
    "duration": 373,
    "start_time": "2024-07-09T11:54:15.239Z"
   },
   {
    "duration": 1029,
    "start_time": "2024-07-09T11:54:15.613Z"
   },
   {
    "duration": 7,
    "start_time": "2024-07-09T11:54:16.644Z"
   },
   {
    "duration": 1624,
    "start_time": "2024-07-09T11:54:16.666Z"
   },
   {
    "duration": 0,
    "start_time": "2024-07-09T11:54:18.292Z"
   },
   {
    "duration": 0,
    "start_time": "2024-07-09T11:54:18.293Z"
   },
   {
    "duration": 0,
    "start_time": "2024-07-09T11:54:18.294Z"
   },
   {
    "duration": 0,
    "start_time": "2024-07-09T11:54:18.295Z"
   },
   {
    "duration": 0,
    "start_time": "2024-07-09T11:54:18.296Z"
   },
   {
    "duration": 0,
    "start_time": "2024-07-09T11:54:18.297Z"
   },
   {
    "duration": 0,
    "start_time": "2024-07-09T11:54:18.298Z"
   },
   {
    "duration": 0,
    "start_time": "2024-07-09T11:54:18.300Z"
   },
   {
    "duration": 0,
    "start_time": "2024-07-09T11:54:18.301Z"
   },
   {
    "duration": 0,
    "start_time": "2024-07-09T11:54:18.302Z"
   },
   {
    "duration": 0,
    "start_time": "2024-07-09T11:54:18.302Z"
   },
   {
    "duration": 2,
    "start_time": "2024-07-09T11:56:49.153Z"
   },
   {
    "duration": 2551,
    "start_time": "2024-07-09T11:56:49.157Z"
   },
   {
    "duration": 2521,
    "start_time": "2024-07-09T11:56:51.710Z"
   },
   {
    "duration": 2484,
    "start_time": "2024-07-09T11:56:54.233Z"
   },
   {
    "duration": 3,
    "start_time": "2024-07-09T11:56:56.721Z"
   },
   {
    "duration": 56,
    "start_time": "2024-07-09T11:56:56.726Z"
   },
   {
    "duration": 164,
    "start_time": "2024-07-09T11:56:56.784Z"
   },
   {
    "duration": 39,
    "start_time": "2024-07-09T11:56:56.950Z"
   },
   {
    "duration": 7,
    "start_time": "2024-07-09T11:56:56.990Z"
   },
   {
    "duration": 8,
    "start_time": "2024-07-09T11:56:56.998Z"
   },
   {
    "duration": 5,
    "start_time": "2024-07-09T11:56:57.008Z"
   },
   {
    "duration": 12,
    "start_time": "2024-07-09T11:56:57.014Z"
   },
   {
    "duration": 2245,
    "start_time": "2024-07-09T11:56:57.028Z"
   },
   {
    "duration": 1164,
    "start_time": "2024-07-09T11:56:59.275Z"
   },
   {
    "duration": 601,
    "start_time": "2024-07-09T11:57:00.441Z"
   },
   {
    "duration": 386,
    "start_time": "2024-07-09T11:57:01.044Z"
   },
   {
    "duration": 985,
    "start_time": "2024-07-09T11:57:01.431Z"
   },
   {
    "duration": 6,
    "start_time": "2024-07-09T11:57:02.418Z"
   },
   {
    "duration": 4670,
    "start_time": "2024-07-09T11:57:02.426Z"
   },
   {
    "duration": 22,
    "start_time": "2024-07-09T11:57:07.097Z"
   },
   {
    "duration": 40,
    "start_time": "2024-07-09T11:57:07.120Z"
   },
   {
    "duration": 1528,
    "start_time": "2024-07-09T11:57:07.162Z"
   },
   {
    "duration": 20,
    "start_time": "2024-07-09T11:57:08.692Z"
   },
   {
    "duration": 0,
    "start_time": "2024-07-09T11:57:08.714Z"
   },
   {
    "duration": 0,
    "start_time": "2024-07-09T11:57:08.715Z"
   },
   {
    "duration": 0,
    "start_time": "2024-07-09T11:57:08.716Z"
   },
   {
    "duration": 0,
    "start_time": "2024-07-09T11:57:08.717Z"
   },
   {
    "duration": 0,
    "start_time": "2024-07-09T11:57:08.718Z"
   },
   {
    "duration": 0,
    "start_time": "2024-07-09T11:57:08.719Z"
   },
   {
    "duration": 0,
    "start_time": "2024-07-09T11:57:08.720Z"
   },
   {
    "duration": 3,
    "start_time": "2024-07-09T11:58:28.697Z"
   },
   {
    "duration": 2609,
    "start_time": "2024-07-09T11:58:28.702Z"
   },
   {
    "duration": 2490,
    "start_time": "2024-07-09T11:58:31.314Z"
   },
   {
    "duration": 2492,
    "start_time": "2024-07-09T11:58:33.807Z"
   },
   {
    "duration": 3,
    "start_time": "2024-07-09T11:58:36.301Z"
   },
   {
    "duration": 12,
    "start_time": "2024-07-09T11:58:36.305Z"
   },
   {
    "duration": 138,
    "start_time": "2024-07-09T11:58:36.318Z"
   },
   {
    "duration": 34,
    "start_time": "2024-07-09T11:58:36.458Z"
   },
   {
    "duration": 7,
    "start_time": "2024-07-09T11:58:36.494Z"
   },
   {
    "duration": 18,
    "start_time": "2024-07-09T11:58:36.502Z"
   },
   {
    "duration": 5,
    "start_time": "2024-07-09T11:58:36.521Z"
   },
   {
    "duration": 8,
    "start_time": "2024-07-09T11:58:36.527Z"
   },
   {
    "duration": 2191,
    "start_time": "2024-07-09T11:58:36.565Z"
   },
   {
    "duration": 1363,
    "start_time": "2024-07-09T11:58:38.757Z"
   },
   {
    "duration": 675,
    "start_time": "2024-07-09T11:58:40.122Z"
   },
   {
    "duration": 384,
    "start_time": "2024-07-09T11:58:40.798Z"
   },
   {
    "duration": 961,
    "start_time": "2024-07-09T11:58:41.185Z"
   },
   {
    "duration": 5,
    "start_time": "2024-07-09T11:58:42.147Z"
   },
   {
    "duration": 1683,
    "start_time": "2024-07-09T11:58:42.165Z"
   },
   {
    "duration": 0,
    "start_time": "2024-07-09T11:58:43.850Z"
   },
   {
    "duration": 0,
    "start_time": "2024-07-09T11:58:43.851Z"
   },
   {
    "duration": 0,
    "start_time": "2024-07-09T11:58:43.852Z"
   },
   {
    "duration": 0,
    "start_time": "2024-07-09T11:58:43.854Z"
   },
   {
    "duration": 0,
    "start_time": "2024-07-09T11:58:43.865Z"
   },
   {
    "duration": 0,
    "start_time": "2024-07-09T11:58:43.866Z"
   },
   {
    "duration": 0,
    "start_time": "2024-07-09T11:58:43.867Z"
   },
   {
    "duration": 1,
    "start_time": "2024-07-09T11:58:43.868Z"
   },
   {
    "duration": 0,
    "start_time": "2024-07-09T11:58:43.869Z"
   },
   {
    "duration": 0,
    "start_time": "2024-07-09T11:58:43.871Z"
   },
   {
    "duration": 0,
    "start_time": "2024-07-09T11:58:43.873Z"
   },
   {
    "duration": 3,
    "start_time": "2024-07-09T11:59:25.276Z"
   },
   {
    "duration": 2668,
    "start_time": "2024-07-09T11:59:25.281Z"
   },
   {
    "duration": 2645,
    "start_time": "2024-07-09T11:59:27.952Z"
   },
   {
    "duration": 2606,
    "start_time": "2024-07-09T11:59:30.600Z"
   },
   {
    "duration": 2,
    "start_time": "2024-07-09T11:59:33.210Z"
   },
   {
    "duration": 10,
    "start_time": "2024-07-09T11:59:33.214Z"
   },
   {
    "duration": 149,
    "start_time": "2024-07-09T11:59:33.228Z"
   },
   {
    "duration": 44,
    "start_time": "2024-07-09T11:59:33.379Z"
   },
   {
    "duration": 42,
    "start_time": "2024-07-09T11:59:33.425Z"
   },
   {
    "duration": 7,
    "start_time": "2024-07-09T11:59:33.469Z"
   },
   {
    "duration": 6,
    "start_time": "2024-07-09T11:59:33.478Z"
   },
   {
    "duration": 9,
    "start_time": "2024-07-09T11:59:33.485Z"
   },
   {
    "duration": 2325,
    "start_time": "2024-07-09T11:59:33.498Z"
   },
   {
    "duration": 1196,
    "start_time": "2024-07-09T11:59:35.825Z"
   },
   {
    "duration": 619,
    "start_time": "2024-07-09T11:59:37.023Z"
   },
   {
    "duration": 387,
    "start_time": "2024-07-09T11:59:37.644Z"
   },
   {
    "duration": 1067,
    "start_time": "2024-07-09T11:59:38.033Z"
   },
   {
    "duration": 5,
    "start_time": "2024-07-09T11:59:39.102Z"
   },
   {
    "duration": 5032,
    "start_time": "2024-07-09T11:59:39.109Z"
   },
   {
    "duration": 37,
    "start_time": "2024-07-09T11:59:44.143Z"
   },
   {
    "duration": 20,
    "start_time": "2024-07-09T11:59:44.182Z"
   },
   {
    "duration": 1575,
    "start_time": "2024-07-09T11:59:44.203Z"
   },
   {
    "duration": 23,
    "start_time": "2024-07-09T11:59:45.780Z"
   },
   {
    "duration": 0,
    "start_time": "2024-07-09T11:59:45.805Z"
   },
   {
    "duration": 0,
    "start_time": "2024-07-09T11:59:45.807Z"
   },
   {
    "duration": 0,
    "start_time": "2024-07-09T11:59:45.808Z"
   },
   {
    "duration": 0,
    "start_time": "2024-07-09T11:59:45.810Z"
   },
   {
    "duration": 0,
    "start_time": "2024-07-09T11:59:45.811Z"
   },
   {
    "duration": 0,
    "start_time": "2024-07-09T11:59:45.812Z"
   },
   {
    "duration": 0,
    "start_time": "2024-07-09T11:59:45.814Z"
   },
   {
    "duration": 2,
    "start_time": "2024-07-09T12:00:44.514Z"
   },
   {
    "duration": 2497,
    "start_time": "2024-07-09T12:00:44.535Z"
   },
   {
    "duration": 2589,
    "start_time": "2024-07-09T12:00:47.034Z"
   },
   {
    "duration": 2504,
    "start_time": "2024-07-09T12:00:49.625Z"
   },
   {
    "duration": 4,
    "start_time": "2024-07-09T12:00:52.131Z"
   },
   {
    "duration": 9,
    "start_time": "2024-07-09T12:00:52.138Z"
   },
   {
    "duration": 184,
    "start_time": "2024-07-09T12:00:52.149Z"
   },
   {
    "duration": 68,
    "start_time": "2024-07-09T12:00:52.335Z"
   },
   {
    "duration": 9,
    "start_time": "2024-07-09T12:00:52.405Z"
   },
   {
    "duration": 7,
    "start_time": "2024-07-09T12:00:52.416Z"
   },
   {
    "duration": 5,
    "start_time": "2024-07-09T12:00:52.466Z"
   },
   {
    "duration": 19,
    "start_time": "2024-07-09T12:00:52.472Z"
   },
   {
    "duration": 2031,
    "start_time": "2024-07-09T12:00:52.493Z"
   },
   {
    "duration": 1317,
    "start_time": "2024-07-09T12:00:54.526Z"
   },
   {
    "duration": 585,
    "start_time": "2024-07-09T12:00:55.846Z"
   },
   {
    "duration": 370,
    "start_time": "2024-07-09T12:00:56.432Z"
   },
   {
    "duration": 935,
    "start_time": "2024-07-09T12:00:56.803Z"
   },
   {
    "duration": 5,
    "start_time": "2024-07-09T12:00:57.739Z"
   },
   {
    "duration": 4777,
    "start_time": "2024-07-09T12:00:57.746Z"
   },
   {
    "duration": 41,
    "start_time": "2024-07-09T12:01:02.525Z"
   },
   {
    "duration": 23,
    "start_time": "2024-07-09T12:01:02.568Z"
   },
   {
    "duration": 1668,
    "start_time": "2024-07-09T12:01:02.594Z"
   },
   {
    "duration": 22,
    "start_time": "2024-07-09T12:01:04.265Z"
   },
   {
    "duration": 0,
    "start_time": "2024-07-09T12:01:04.289Z"
   },
   {
    "duration": 0,
    "start_time": "2024-07-09T12:01:04.290Z"
   },
   {
    "duration": 0,
    "start_time": "2024-07-09T12:01:04.291Z"
   },
   {
    "duration": 0,
    "start_time": "2024-07-09T12:01:04.292Z"
   },
   {
    "duration": 0,
    "start_time": "2024-07-09T12:01:04.294Z"
   },
   {
    "duration": 0,
    "start_time": "2024-07-09T12:01:04.295Z"
   },
   {
    "duration": 0,
    "start_time": "2024-07-09T12:01:04.296Z"
   },
   {
    "duration": 3,
    "start_time": "2024-07-09T12:45:24.843Z"
   },
   {
    "duration": 3306,
    "start_time": "2024-07-09T12:45:24.848Z"
   },
   {
    "duration": 2634,
    "start_time": "2024-07-09T12:45:28.157Z"
   },
   {
    "duration": 2537,
    "start_time": "2024-07-09T12:45:30.793Z"
   },
   {
    "duration": 3,
    "start_time": "2024-07-09T12:45:33.333Z"
   },
   {
    "duration": 17,
    "start_time": "2024-07-09T12:45:33.337Z"
   },
   {
    "duration": 146,
    "start_time": "2024-07-09T12:45:33.356Z"
   },
   {
    "duration": 76,
    "start_time": "2024-07-09T12:45:33.504Z"
   },
   {
    "duration": 8,
    "start_time": "2024-07-09T12:45:33.582Z"
   },
   {
    "duration": 39,
    "start_time": "2024-07-09T12:45:33.592Z"
   },
   {
    "duration": 7,
    "start_time": "2024-07-09T12:45:33.632Z"
   },
   {
    "duration": 32,
    "start_time": "2024-07-09T12:45:33.641Z"
   },
   {
    "duration": 2058,
    "start_time": "2024-07-09T12:45:33.675Z"
   },
   {
    "duration": 1376,
    "start_time": "2024-07-09T12:45:35.737Z"
   },
   {
    "duration": 595,
    "start_time": "2024-07-09T12:45:37.115Z"
   },
   {
    "duration": 381,
    "start_time": "2024-07-09T12:45:37.711Z"
   },
   {
    "duration": 1003,
    "start_time": "2024-07-09T12:45:38.093Z"
   },
   {
    "duration": 4,
    "start_time": "2024-07-09T12:45:39.098Z"
   },
   {
    "duration": 4604,
    "start_time": "2024-07-09T12:45:39.103Z"
   },
   {
    "duration": 23,
    "start_time": "2024-07-09T12:45:43.709Z"
   },
   {
    "duration": 48,
    "start_time": "2024-07-09T12:45:43.734Z"
   },
   {
    "duration": 1622,
    "start_time": "2024-07-09T12:45:43.784Z"
   },
   {
    "duration": 69,
    "start_time": "2024-07-09T12:45:45.408Z"
   },
   {
    "duration": 7548,
    "start_time": "2024-07-09T12:45:45.479Z"
   },
   {
    "duration": 2917,
    "start_time": "2024-07-09T12:45:53.029Z"
   },
   {
    "duration": 33,
    "start_time": "2024-07-09T12:45:55.948Z"
   },
   {
    "duration": 4,
    "start_time": "2024-07-09T13:14:10.768Z"
   },
   {
    "duration": 2565,
    "start_time": "2024-07-09T13:14:10.775Z"
   },
   {
    "duration": 3752,
    "start_time": "2024-07-09T13:14:13.342Z"
   },
   {
    "duration": 2581,
    "start_time": "2024-07-09T13:14:17.095Z"
   },
   {
    "duration": 3,
    "start_time": "2024-07-09T13:14:19.679Z"
   },
   {
    "duration": 1880,
    "start_time": "2024-07-09T13:14:19.683Z"
   },
   {
    "duration": 147,
    "start_time": "2024-07-09T13:14:21.564Z"
   },
   {
    "duration": 68,
    "start_time": "2024-07-09T13:14:21.713Z"
   },
   {
    "duration": 8,
    "start_time": "2024-07-09T13:14:21.783Z"
   },
   {
    "duration": 8,
    "start_time": "2024-07-09T13:14:21.792Z"
   },
   {
    "duration": 35,
    "start_time": "2024-07-09T13:14:21.802Z"
   },
   {
    "duration": 16,
    "start_time": "2024-07-09T13:14:21.839Z"
   },
   {
    "duration": 2074,
    "start_time": "2024-07-09T13:14:21.857Z"
   },
   {
    "duration": 1188,
    "start_time": "2024-07-09T13:14:23.933Z"
   },
   {
    "duration": 593,
    "start_time": "2024-07-09T13:14:25.122Z"
   },
   {
    "duration": 514,
    "start_time": "2024-07-09T13:14:25.716Z"
   },
   {
    "duration": 974,
    "start_time": "2024-07-09T13:14:26.233Z"
   },
   {
    "duration": 5,
    "start_time": "2024-07-09T13:14:27.208Z"
   },
   {
    "duration": 4370,
    "start_time": "2024-07-09T13:14:27.214Z"
   },
   {
    "duration": 23,
    "start_time": "2024-07-09T13:14:31.586Z"
   },
   {
    "duration": 78,
    "start_time": "2024-07-09T13:14:31.611Z"
   },
   {
    "duration": 1503,
    "start_time": "2024-07-09T13:14:31.691Z"
   },
   {
    "duration": 54,
    "start_time": "2024-07-09T13:14:33.196Z"
   },
   {
    "duration": 7053,
    "start_time": "2024-07-09T13:14:33.251Z"
   },
   {
    "duration": 2824,
    "start_time": "2024-07-09T13:14:40.306Z"
   },
   {
    "duration": 22,
    "start_time": "2024-07-09T13:14:43.132Z"
   },
   {
    "duration": 3,
    "start_time": "2024-07-09T13:17:17.488Z"
   },
   {
    "duration": 2553,
    "start_time": "2024-07-09T13:17:17.492Z"
   },
   {
    "duration": 2527,
    "start_time": "2024-07-09T13:17:20.047Z"
   },
   {
    "duration": 2433,
    "start_time": "2024-07-09T13:17:22.576Z"
   },
   {
    "duration": 2,
    "start_time": "2024-07-09T13:17:25.012Z"
   },
   {
    "duration": 1842,
    "start_time": "2024-07-09T13:17:25.016Z"
   },
   {
    "duration": 151,
    "start_time": "2024-07-09T13:17:26.860Z"
   },
   {
    "duration": 71,
    "start_time": "2024-07-09T13:17:27.013Z"
   },
   {
    "duration": 7,
    "start_time": "2024-07-09T13:17:27.086Z"
   },
   {
    "duration": 19,
    "start_time": "2024-07-09T13:17:27.095Z"
   },
   {
    "duration": 4,
    "start_time": "2024-07-09T13:17:27.116Z"
   },
   {
    "duration": 10,
    "start_time": "2024-07-09T13:17:27.122Z"
   },
   {
    "duration": 2100,
    "start_time": "2024-07-09T13:17:27.133Z"
   },
   {
    "duration": 1192,
    "start_time": "2024-07-09T13:17:29.236Z"
   },
   {
    "duration": 604,
    "start_time": "2024-07-09T13:17:30.432Z"
   },
   {
    "duration": 397,
    "start_time": "2024-07-09T13:17:31.038Z"
   },
   {
    "duration": 1021,
    "start_time": "2024-07-09T13:17:31.437Z"
   },
   {
    "duration": 4,
    "start_time": "2024-07-09T13:17:32.465Z"
   },
   {
    "duration": 4302,
    "start_time": "2024-07-09T13:17:32.470Z"
   },
   {
    "duration": 21,
    "start_time": "2024-07-09T13:17:36.774Z"
   },
   {
    "duration": 46,
    "start_time": "2024-07-09T13:17:36.797Z"
   },
   {
    "duration": 1472,
    "start_time": "2024-07-09T13:17:36.845Z"
   },
   {
    "duration": 67,
    "start_time": "2024-07-09T13:17:38.318Z"
   },
   {
    "duration": 7324,
    "start_time": "2024-07-09T13:17:38.386Z"
   },
   {
    "duration": 2872,
    "start_time": "2024-07-09T13:17:45.712Z"
   },
   {
    "duration": 23,
    "start_time": "2024-07-09T13:17:48.585Z"
   },
   {
    "duration": 2072994,
    "start_time": "2024-07-09T13:17:48.610Z"
   },
   {
    "duration": 183,
    "start_time": "2024-07-09T13:52:21.606Z"
   },
   {
    "duration": 1268,
    "start_time": "2024-07-09T13:52:21.790Z"
   },
   {
    "duration": 0,
    "start_time": "2024-07-09T13:52:23.061Z"
   },
   {
    "duration": 62,
    "start_time": "2024-07-09T15:09:28.125Z"
   },
   {
    "duration": 3,
    "start_time": "2024-07-09T15:13:54.119Z"
   },
   {
    "duration": 2625,
    "start_time": "2024-07-09T15:13:54.124Z"
   },
   {
    "duration": 2561,
    "start_time": "2024-07-09T15:13:56.751Z"
   },
   {
    "duration": 2603,
    "start_time": "2024-07-09T15:13:59.314Z"
   },
   {
    "duration": 3,
    "start_time": "2024-07-09T15:14:01.920Z"
   },
   {
    "duration": 27,
    "start_time": "2024-07-09T15:14:01.925Z"
   },
   {
    "duration": 166,
    "start_time": "2024-07-09T15:14:01.954Z"
   },
   {
    "duration": 63,
    "start_time": "2024-07-09T15:14:02.122Z"
   },
   {
    "duration": 8,
    "start_time": "2024-07-09T15:14:02.187Z"
   },
   {
    "duration": 37,
    "start_time": "2024-07-09T15:14:02.196Z"
   },
   {
    "duration": 33,
    "start_time": "2024-07-09T15:14:02.235Z"
   },
   {
    "duration": 92,
    "start_time": "2024-07-09T15:14:02.269Z"
   },
   {
    "duration": 2182,
    "start_time": "2024-07-09T15:14:02.364Z"
   },
   {
    "duration": 1183,
    "start_time": "2024-07-09T15:14:04.548Z"
   },
   {
    "duration": 596,
    "start_time": "2024-07-09T15:14:05.733Z"
   },
   {
    "duration": 397,
    "start_time": "2024-07-09T15:14:06.330Z"
   },
   {
    "duration": 944,
    "start_time": "2024-07-09T15:14:06.729Z"
   },
   {
    "duration": 5,
    "start_time": "2024-07-09T15:14:07.674Z"
   },
   {
    "duration": 4293,
    "start_time": "2024-07-09T15:14:07.680Z"
   },
   {
    "duration": 22,
    "start_time": "2024-07-09T15:14:11.975Z"
   },
   {
    "duration": 20,
    "start_time": "2024-07-09T15:14:11.999Z"
   },
   {
    "duration": 1509,
    "start_time": "2024-07-09T15:14:12.020Z"
   },
   {
    "duration": 13,
    "start_time": "2024-07-09T15:14:13.531Z"
   },
   {
    "duration": 0,
    "start_time": "2024-07-09T15:14:13.546Z"
   },
   {
    "duration": 0,
    "start_time": "2024-07-09T15:14:13.547Z"
   },
   {
    "duration": 0,
    "start_time": "2024-07-09T15:14:13.548Z"
   },
   {
    "duration": 0,
    "start_time": "2024-07-09T15:14:13.549Z"
   },
   {
    "duration": 1,
    "start_time": "2024-07-09T15:14:13.550Z"
   },
   {
    "duration": 0,
    "start_time": "2024-07-09T15:14:13.551Z"
   },
   {
    "duration": 0,
    "start_time": "2024-07-09T15:14:13.565Z"
   },
   {
    "duration": 0,
    "start_time": "2024-07-09T15:14:13.566Z"
   },
   {
    "duration": 2,
    "start_time": "2024-07-09T15:17:39.757Z"
   },
   {
    "duration": 2553,
    "start_time": "2024-07-09T15:17:39.764Z"
   },
   {
    "duration": 2495,
    "start_time": "2024-07-09T15:17:42.319Z"
   },
   {
    "duration": 2523,
    "start_time": "2024-07-09T15:17:44.817Z"
   },
   {
    "duration": 3,
    "start_time": "2024-07-09T15:17:47.344Z"
   },
   {
    "duration": 29,
    "start_time": "2024-07-09T15:17:47.349Z"
   },
   {
    "duration": 153,
    "start_time": "2024-07-09T15:17:47.380Z"
   },
   {
    "duration": 49,
    "start_time": "2024-07-09T15:17:47.535Z"
   },
   {
    "duration": 9,
    "start_time": "2024-07-09T15:17:47.585Z"
   },
   {
    "duration": 10,
    "start_time": "2024-07-09T15:17:47.596Z"
   },
   {
    "duration": 27,
    "start_time": "2024-07-09T15:17:47.609Z"
   },
   {
    "duration": 8,
    "start_time": "2024-07-09T15:17:47.638Z"
   },
   {
    "duration": 1976,
    "start_time": "2024-07-09T15:17:47.648Z"
   },
   {
    "duration": 1300,
    "start_time": "2024-07-09T15:17:49.626Z"
   },
   {
    "duration": 607,
    "start_time": "2024-07-09T15:17:50.928Z"
   },
   {
    "duration": 414,
    "start_time": "2024-07-09T15:17:51.536Z"
   },
   {
    "duration": 939,
    "start_time": "2024-07-09T15:17:51.952Z"
   },
   {
    "duration": 5,
    "start_time": "2024-07-09T15:17:52.893Z"
   },
   {
    "duration": 4225,
    "start_time": "2024-07-09T15:17:52.899Z"
   },
   {
    "duration": 22,
    "start_time": "2024-07-09T15:17:57.126Z"
   },
   {
    "duration": 34,
    "start_time": "2024-07-09T15:17:57.150Z"
   },
   {
    "duration": 1510,
    "start_time": "2024-07-09T15:17:57.186Z"
   },
   {
    "duration": 19,
    "start_time": "2024-07-09T15:17:58.698Z"
   },
   {
    "duration": 0,
    "start_time": "2024-07-09T15:17:58.719Z"
   },
   {
    "duration": 0,
    "start_time": "2024-07-09T15:17:58.719Z"
   },
   {
    "duration": 1,
    "start_time": "2024-07-09T15:17:58.720Z"
   },
   {
    "duration": 0,
    "start_time": "2024-07-09T15:17:58.721Z"
   },
   {
    "duration": 0,
    "start_time": "2024-07-09T15:17:58.723Z"
   },
   {
    "duration": 0,
    "start_time": "2024-07-09T15:17:58.723Z"
   },
   {
    "duration": 0,
    "start_time": "2024-07-09T15:17:58.725Z"
   },
   {
    "duration": 0,
    "start_time": "2024-07-09T15:17:58.725Z"
   },
   {
    "duration": 3,
    "start_time": "2024-07-09T15:18:40.864Z"
   },
   {
    "duration": 2559,
    "start_time": "2024-07-09T15:18:40.869Z"
   },
   {
    "duration": 2471,
    "start_time": "2024-07-09T15:18:43.430Z"
   },
   {
    "duration": 2565,
    "start_time": "2024-07-09T15:18:45.903Z"
   },
   {
    "duration": 3,
    "start_time": "2024-07-09T15:18:48.471Z"
   },
   {
    "duration": 17,
    "start_time": "2024-07-09T15:18:48.475Z"
   },
   {
    "duration": 150,
    "start_time": "2024-07-09T15:18:48.494Z"
   },
   {
    "duration": 39,
    "start_time": "2024-07-09T15:18:48.645Z"
   },
   {
    "duration": 7,
    "start_time": "2024-07-09T15:18:48.685Z"
   },
   {
    "duration": 7,
    "start_time": "2024-07-09T15:18:48.693Z"
   },
   {
    "duration": 5,
    "start_time": "2024-07-09T15:18:48.702Z"
   },
   {
    "duration": 8,
    "start_time": "2024-07-09T15:18:48.708Z"
   },
   {
    "duration": 2023,
    "start_time": "2024-07-09T15:18:48.718Z"
   },
   {
    "duration": 1331,
    "start_time": "2024-07-09T15:18:50.743Z"
   },
   {
    "duration": 607,
    "start_time": "2024-07-09T15:18:52.075Z"
   },
   {
    "duration": 352,
    "start_time": "2024-07-09T15:18:52.683Z"
   },
   {
    "duration": 941,
    "start_time": "2024-07-09T15:18:53.038Z"
   },
   {
    "duration": 5,
    "start_time": "2024-07-09T15:18:53.981Z"
   },
   {
    "duration": 4348,
    "start_time": "2024-07-09T15:18:53.987Z"
   },
   {
    "duration": 34,
    "start_time": "2024-07-09T15:18:58.337Z"
   },
   {
    "duration": 20,
    "start_time": "2024-07-09T15:18:58.373Z"
   },
   {
    "duration": 1458,
    "start_time": "2024-07-09T15:18:58.395Z"
   },
   {
    "duration": 32,
    "start_time": "2024-07-09T15:18:59.855Z"
   },
   {
    "duration": 0,
    "start_time": "2024-07-09T15:18:59.889Z"
   },
   {
    "duration": 0,
    "start_time": "2024-07-09T15:18:59.891Z"
   },
   {
    "duration": 0,
    "start_time": "2024-07-09T15:18:59.893Z"
   },
   {
    "duration": 0,
    "start_time": "2024-07-09T15:18:59.894Z"
   },
   {
    "duration": 0,
    "start_time": "2024-07-09T15:18:59.896Z"
   },
   {
    "duration": 0,
    "start_time": "2024-07-09T15:18:59.897Z"
   },
   {
    "duration": 0,
    "start_time": "2024-07-09T15:18:59.898Z"
   },
   {
    "duration": 0,
    "start_time": "2024-07-09T15:18:59.899Z"
   },
   {
    "duration": 2,
    "start_time": "2024-07-09T15:23:35.075Z"
   },
   {
    "duration": 2484,
    "start_time": "2024-07-09T15:23:35.079Z"
   },
   {
    "duration": 2672,
    "start_time": "2024-07-09T15:23:37.565Z"
   },
   {
    "duration": 2525,
    "start_time": "2024-07-09T15:23:40.239Z"
   },
   {
    "duration": 3,
    "start_time": "2024-07-09T15:23:42.766Z"
   },
   {
    "duration": 12,
    "start_time": "2024-07-09T15:23:42.771Z"
   },
   {
    "duration": 157,
    "start_time": "2024-07-09T15:23:42.785Z"
   },
   {
    "duration": 49,
    "start_time": "2024-07-09T15:23:42.943Z"
   },
   {
    "duration": 11,
    "start_time": "2024-07-09T15:23:42.995Z"
   },
   {
    "duration": 8,
    "start_time": "2024-07-09T15:23:43.008Z"
   },
   {
    "duration": 4,
    "start_time": "2024-07-09T15:23:43.018Z"
   },
   {
    "duration": 10,
    "start_time": "2024-07-09T15:23:43.024Z"
   },
   {
    "duration": 2186,
    "start_time": "2024-07-09T15:23:43.066Z"
   },
   {
    "duration": 1300,
    "start_time": "2024-07-09T15:23:45.254Z"
   },
   {
    "duration": 578,
    "start_time": "2024-07-09T15:23:46.556Z"
   },
   {
    "duration": 366,
    "start_time": "2024-07-09T15:23:47.136Z"
   },
   {
    "duration": 977,
    "start_time": "2024-07-09T15:23:47.504Z"
   },
   {
    "duration": 5,
    "start_time": "2024-07-09T15:23:48.483Z"
   },
   {
    "duration": 4271,
    "start_time": "2024-07-09T15:23:48.491Z"
   },
   {
    "duration": 22,
    "start_time": "2024-07-09T15:23:52.764Z"
   },
   {
    "duration": 23,
    "start_time": "2024-07-09T15:23:52.788Z"
   },
   {
    "duration": 1403,
    "start_time": "2024-07-09T15:23:52.813Z"
   },
   {
    "duration": 23,
    "start_time": "2024-07-09T15:23:54.218Z"
   },
   {
    "duration": 0,
    "start_time": "2024-07-09T15:23:54.243Z"
   },
   {
    "duration": 0,
    "start_time": "2024-07-09T15:23:54.244Z"
   },
   {
    "duration": 0,
    "start_time": "2024-07-09T15:23:54.245Z"
   },
   {
    "duration": 0,
    "start_time": "2024-07-09T15:23:54.264Z"
   },
   {
    "duration": 0,
    "start_time": "2024-07-09T15:23:54.266Z"
   },
   {
    "duration": 0,
    "start_time": "2024-07-09T15:23:54.267Z"
   },
   {
    "duration": 0,
    "start_time": "2024-07-09T15:23:54.268Z"
   },
   {
    "duration": 0,
    "start_time": "2024-07-09T15:23:54.269Z"
   },
   {
    "duration": 2,
    "start_time": "2024-07-09T15:26:13.309Z"
   },
   {
    "duration": 2606,
    "start_time": "2024-07-09T15:26:13.326Z"
   },
   {
    "duration": 2523,
    "start_time": "2024-07-09T15:26:15.935Z"
   },
   {
    "duration": 2628,
    "start_time": "2024-07-09T15:26:18.461Z"
   },
   {
    "duration": 3,
    "start_time": "2024-07-09T15:26:21.091Z"
   },
   {
    "duration": 6,
    "start_time": "2024-07-09T15:26:21.096Z"
   },
   {
    "duration": 155,
    "start_time": "2024-07-09T15:26:21.104Z"
   },
   {
    "duration": 35,
    "start_time": "2024-07-09T15:26:21.261Z"
   },
   {
    "duration": 7,
    "start_time": "2024-07-09T15:26:21.297Z"
   },
   {
    "duration": 6,
    "start_time": "2024-07-09T15:26:21.305Z"
   },
   {
    "duration": 5,
    "start_time": "2024-07-09T15:26:21.313Z"
   },
   {
    "duration": 9,
    "start_time": "2024-07-09T15:26:21.319Z"
   },
   {
    "duration": 2216,
    "start_time": "2024-07-09T15:26:21.330Z"
   },
   {
    "duration": 1169,
    "start_time": "2024-07-09T15:26:23.547Z"
   },
   {
    "duration": 596,
    "start_time": "2024-07-09T15:26:24.719Z"
   },
   {
    "duration": 529,
    "start_time": "2024-07-09T15:26:25.317Z"
   },
   {
    "duration": 937,
    "start_time": "2024-07-09T15:26:25.848Z"
   },
   {
    "duration": 5,
    "start_time": "2024-07-09T15:26:26.786Z"
   },
   {
    "duration": 4512,
    "start_time": "2024-07-09T15:26:26.793Z"
   },
   {
    "duration": 22,
    "start_time": "2024-07-09T15:26:31.307Z"
   },
   {
    "duration": 62,
    "start_time": "2024-07-09T15:26:31.331Z"
   },
   {
    "duration": 1416,
    "start_time": "2024-07-09T15:26:31.395Z"
   },
   {
    "duration": 25,
    "start_time": "2024-07-09T15:26:32.813Z"
   },
   {
    "duration": 0,
    "start_time": "2024-07-09T15:26:32.840Z"
   },
   {
    "duration": 1,
    "start_time": "2024-07-09T15:26:32.841Z"
   },
   {
    "duration": 0,
    "start_time": "2024-07-09T15:26:32.843Z"
   },
   {
    "duration": 0,
    "start_time": "2024-07-09T15:26:32.865Z"
   },
   {
    "duration": 0,
    "start_time": "2024-07-09T15:26:32.866Z"
   },
   {
    "duration": 0,
    "start_time": "2024-07-09T15:26:32.867Z"
   },
   {
    "duration": 0,
    "start_time": "2024-07-09T15:26:32.868Z"
   },
   {
    "duration": 0,
    "start_time": "2024-07-09T15:26:32.869Z"
   },
   {
    "duration": 2,
    "start_time": "2024-07-09T15:26:53.402Z"
   },
   {
    "duration": 2500,
    "start_time": "2024-07-09T15:26:53.407Z"
   },
   {
    "duration": 2480,
    "start_time": "2024-07-09T15:26:55.909Z"
   },
   {
    "duration": 2569,
    "start_time": "2024-07-09T15:26:58.391Z"
   },
   {
    "duration": 3,
    "start_time": "2024-07-09T15:27:00.964Z"
   },
   {
    "duration": 33,
    "start_time": "2024-07-09T15:27:00.970Z"
   },
   {
    "duration": 179,
    "start_time": "2024-07-09T15:27:01.005Z"
   },
   {
    "duration": 38,
    "start_time": "2024-07-09T15:27:01.186Z"
   },
   {
    "duration": 7,
    "start_time": "2024-07-09T15:27:01.226Z"
   },
   {
    "duration": 7,
    "start_time": "2024-07-09T15:27:01.266Z"
   },
   {
    "duration": 38,
    "start_time": "2024-07-09T15:27:01.274Z"
   },
   {
    "duration": 67,
    "start_time": "2024-07-09T15:27:01.314Z"
   },
   {
    "duration": 2048,
    "start_time": "2024-07-09T15:27:01.382Z"
   },
   {
    "duration": 1327,
    "start_time": "2024-07-09T15:27:03.433Z"
   },
   {
    "duration": 559,
    "start_time": "2024-07-09T15:27:04.765Z"
   },
   {
    "duration": 397,
    "start_time": "2024-07-09T15:27:05.325Z"
   },
   {
    "duration": 1015,
    "start_time": "2024-07-09T15:27:05.723Z"
   },
   {
    "duration": 5,
    "start_time": "2024-07-09T15:27:06.740Z"
   },
   {
    "duration": 4514,
    "start_time": "2024-07-09T15:27:06.746Z"
   },
   {
    "duration": 23,
    "start_time": "2024-07-09T15:27:11.262Z"
   },
   {
    "duration": 22,
    "start_time": "2024-07-09T15:27:11.287Z"
   },
   {
    "duration": 1617,
    "start_time": "2024-07-09T15:27:11.311Z"
   },
   {
    "duration": 2808,
    "start_time": "2024-07-09T15:27:12.929Z"
   },
   {
    "duration": 67,
    "start_time": "2024-07-09T15:27:15.739Z"
   },
   {
    "duration": 7391,
    "start_time": "2024-07-09T15:27:15.808Z"
   },
   {
    "duration": 2831,
    "start_time": "2024-07-09T15:27:23.200Z"
   },
   {
    "duration": 21,
    "start_time": "2024-07-09T15:27:26.033Z"
   },
   {
    "duration": 2072041,
    "start_time": "2024-07-09T15:27:26.065Z"
   },
   {
    "duration": 180,
    "start_time": "2024-07-09T16:01:58.108Z"
   },
   {
    "duration": 1119,
    "start_time": "2024-07-09T16:01:58.289Z"
   },
   {
    "duration": 0,
    "start_time": "2024-07-09T16:01:59.410Z"
   },
   {
    "duration": 3,
    "start_time": "2024-07-09T16:24:52.401Z"
   },
   {
    "duration": 2584,
    "start_time": "2024-07-09T16:24:52.407Z"
   },
   {
    "duration": 2485,
    "start_time": "2024-07-09T16:24:54.993Z"
   },
   {
    "duration": 2533,
    "start_time": "2024-07-09T16:24:57.480Z"
   },
   {
    "duration": 3188,
    "start_time": "2024-07-09T16:25:00.016Z"
   },
   {
    "duration": 3,
    "start_time": "2024-07-09T16:25:03.206Z"
   },
   {
    "duration": 15,
    "start_time": "2024-07-09T16:25:03.211Z"
   },
   {
    "duration": 166,
    "start_time": "2024-07-09T16:25:03.228Z"
   },
   {
    "duration": 35,
    "start_time": "2024-07-09T16:25:03.395Z"
   },
   {
    "duration": 37,
    "start_time": "2024-07-09T16:25:03.432Z"
   },
   {
    "duration": 15,
    "start_time": "2024-07-09T16:25:03.471Z"
   },
   {
    "duration": 7,
    "start_time": "2024-07-09T16:25:03.487Z"
   },
   {
    "duration": 22,
    "start_time": "2024-07-09T16:25:03.496Z"
   },
   {
    "duration": 2219,
    "start_time": "2024-07-09T16:25:03.520Z"
   },
   {
    "duration": 1345,
    "start_time": "2024-07-09T16:25:05.741Z"
   },
   {
    "duration": 574,
    "start_time": "2024-07-09T16:25:07.088Z"
   },
   {
    "duration": 434,
    "start_time": "2024-07-09T16:25:07.665Z"
   },
   {
    "duration": 1173,
    "start_time": "2024-07-09T16:25:08.101Z"
   },
   {
    "duration": 4,
    "start_time": "2024-07-09T16:25:09.276Z"
   },
   {
    "duration": 4237,
    "start_time": "2024-07-09T16:25:09.281Z"
   },
   {
    "duration": 21,
    "start_time": "2024-07-09T16:25:13.520Z"
   },
   {
    "duration": 38,
    "start_time": "2024-07-09T16:25:13.543Z"
   },
   {
    "duration": 1381,
    "start_time": "2024-07-09T16:25:13.582Z"
   },
   {
    "duration": 2963,
    "start_time": "2024-07-09T16:25:14.964Z"
   },
   {
    "duration": 62,
    "start_time": "2024-07-09T16:25:17.929Z"
   },
   {
    "duration": 6897,
    "start_time": "2024-07-09T16:25:17.993Z"
   },
   {
    "duration": 2518,
    "start_time": "2024-07-09T16:25:24.892Z"
   },
   {
    "duration": 22,
    "start_time": "2024-07-09T16:25:27.412Z"
   },
   {
    "duration": 3,
    "start_time": "2024-07-09T16:28:24.230Z"
   },
   {
    "duration": 2462,
    "start_time": "2024-07-09T16:28:24.243Z"
   },
   {
    "duration": 2476,
    "start_time": "2024-07-09T16:28:26.707Z"
   },
   {
    "duration": 2519,
    "start_time": "2024-07-09T16:28:29.185Z"
   },
   {
    "duration": 2941,
    "start_time": "2024-07-09T16:28:31.706Z"
   },
   {
    "duration": 2,
    "start_time": "2024-07-09T16:28:34.651Z"
   },
   {
    "duration": 1870,
    "start_time": "2024-07-09T16:28:34.655Z"
   },
   {
    "duration": 154,
    "start_time": "2024-07-09T16:28:36.527Z"
   },
   {
    "duration": 34,
    "start_time": "2024-07-09T16:28:36.683Z"
   },
   {
    "duration": 21,
    "start_time": "2024-07-09T16:28:36.718Z"
   },
   {
    "duration": 29,
    "start_time": "2024-07-09T16:28:36.740Z"
   },
   {
    "duration": 5,
    "start_time": "2024-07-09T16:28:36.770Z"
   },
   {
    "duration": 8,
    "start_time": "2024-07-09T16:28:36.776Z"
   },
   {
    "duration": 2071,
    "start_time": "2024-07-09T16:28:36.786Z"
   },
   {
    "duration": 1203,
    "start_time": "2024-07-09T16:28:38.866Z"
   },
   {
    "duration": 576,
    "start_time": "2024-07-09T16:28:40.071Z"
   },
   {
    "duration": 470,
    "start_time": "2024-07-09T16:28:40.648Z"
   },
   {
    "duration": 953,
    "start_time": "2024-07-09T16:28:41.120Z"
   },
   {
    "duration": 4,
    "start_time": "2024-07-09T16:28:42.075Z"
   },
   {
    "duration": 4227,
    "start_time": "2024-07-09T16:28:42.081Z"
   },
   {
    "duration": 24,
    "start_time": "2024-07-09T16:28:46.310Z"
   },
   {
    "duration": 33,
    "start_time": "2024-07-09T16:28:46.335Z"
   },
   {
    "duration": 1346,
    "start_time": "2024-07-09T16:28:46.370Z"
   },
   {
    "duration": 2949,
    "start_time": "2024-07-09T16:28:47.718Z"
   },
   {
    "duration": 59,
    "start_time": "2024-07-09T16:28:50.669Z"
   },
   {
    "duration": 7154,
    "start_time": "2024-07-09T16:28:50.729Z"
   },
   {
    "duration": 2694,
    "start_time": "2024-07-09T16:28:57.885Z"
   },
   {
    "duration": 23,
    "start_time": "2024-07-09T16:29:00.580Z"
   },
   {
    "duration": 1706788,
    "start_time": "2024-07-09T16:29:00.605Z"
   },
   {
    "duration": 186,
    "start_time": "2024-07-09T16:57:27.395Z"
   },
   {
    "duration": 15,
    "start_time": "2024-07-09T16:57:27.583Z"
   },
   {
    "duration": 370,
    "start_time": "2024-07-09T16:57:27.600Z"
   },
   {
    "duration": 2,
    "start_time": "2024-07-09T17:03:57.394Z"
   },
   {
    "duration": 2669,
    "start_time": "2024-07-09T17:03:57.398Z"
   },
   {
    "duration": 2572,
    "start_time": "2024-07-09T17:04:00.070Z"
   },
   {
    "duration": 2504,
    "start_time": "2024-07-09T17:04:02.644Z"
   },
   {
    "duration": 3191,
    "start_time": "2024-07-09T17:04:05.151Z"
   },
   {
    "duration": 4,
    "start_time": "2024-07-09T17:04:08.344Z"
   },
   {
    "duration": 8,
    "start_time": "2024-07-09T17:04:08.349Z"
   },
   {
    "duration": 160,
    "start_time": "2024-07-09T17:04:08.359Z"
   },
   {
    "duration": 65,
    "start_time": "2024-07-09T17:04:08.521Z"
   },
   {
    "duration": 8,
    "start_time": "2024-07-09T17:04:08.588Z"
   },
   {
    "duration": 9,
    "start_time": "2024-07-09T17:04:08.598Z"
   },
   {
    "duration": 6,
    "start_time": "2024-07-09T17:04:08.609Z"
   },
   {
    "duration": 9,
    "start_time": "2024-07-09T17:04:08.617Z"
   },
   {
    "duration": 2092,
    "start_time": "2024-07-09T17:04:08.628Z"
   },
   {
    "duration": 1308,
    "start_time": "2024-07-09T17:04:10.722Z"
   },
   {
    "duration": 624,
    "start_time": "2024-07-09T17:04:12.031Z"
   },
   {
    "duration": 406,
    "start_time": "2024-07-09T17:04:12.656Z"
   },
   {
    "duration": 1011,
    "start_time": "2024-07-09T17:04:13.065Z"
   },
   {
    "duration": 5,
    "start_time": "2024-07-09T17:04:14.078Z"
   },
   {
    "duration": 4352,
    "start_time": "2024-07-09T17:04:14.084Z"
   },
   {
    "duration": 35,
    "start_time": "2024-07-09T17:04:18.438Z"
   },
   {
    "duration": 23,
    "start_time": "2024-07-09T17:04:18.475Z"
   },
   {
    "duration": 1429,
    "start_time": "2024-07-09T17:04:18.500Z"
   },
   {
    "duration": 2951,
    "start_time": "2024-07-09T17:04:19.931Z"
   },
   {
    "duration": 55,
    "start_time": "2024-07-09T17:04:22.884Z"
   },
   {
    "duration": 6925,
    "start_time": "2024-07-09T17:04:22.940Z"
   },
   {
    "duration": 2159,
    "start_time": "2024-07-09T17:04:29.866Z"
   },
   {
    "duration": 19,
    "start_time": "2024-07-09T17:04:32.027Z"
   },
   {
    "duration": 3,
    "start_time": "2024-07-09T17:09:38.797Z"
   },
   {
    "duration": 2594,
    "start_time": "2024-07-09T17:09:38.802Z"
   },
   {
    "duration": 2551,
    "start_time": "2024-07-09T17:09:41.398Z"
   },
   {
    "duration": 2499,
    "start_time": "2024-07-09T17:09:43.951Z"
   },
   {
    "duration": 3010,
    "start_time": "2024-07-09T17:09:46.453Z"
   },
   {
    "duration": 3,
    "start_time": "2024-07-09T17:09:49.465Z"
   },
   {
    "duration": 1776,
    "start_time": "2024-07-09T17:09:49.469Z"
   },
   {
    "duration": 142,
    "start_time": "2024-07-09T17:09:51.247Z"
   },
   {
    "duration": 40,
    "start_time": "2024-07-09T17:09:51.391Z"
   },
   {
    "duration": 33,
    "start_time": "2024-07-09T17:09:51.433Z"
   },
   {
    "duration": 40,
    "start_time": "2024-07-09T17:09:51.467Z"
   },
   {
    "duration": 11,
    "start_time": "2024-07-09T17:09:51.508Z"
   },
   {
    "duration": 11,
    "start_time": "2024-07-09T17:09:51.520Z"
   },
   {
    "duration": 2122,
    "start_time": "2024-07-09T17:09:51.533Z"
   },
   {
    "duration": 1129,
    "start_time": "2024-07-09T17:09:53.657Z"
   },
   {
    "duration": 582,
    "start_time": "2024-07-09T17:09:54.788Z"
   },
   {
    "duration": 395,
    "start_time": "2024-07-09T17:09:55.372Z"
   },
   {
    "duration": 972,
    "start_time": "2024-07-09T17:09:55.769Z"
   },
   {
    "duration": 5,
    "start_time": "2024-07-09T17:09:56.743Z"
   },
   {
    "duration": 4342,
    "start_time": "2024-07-09T17:09:56.750Z"
   },
   {
    "duration": 172,
    "start_time": "2024-07-09T17:10:01.094Z"
   },
   {
    "duration": 80,
    "start_time": "2024-07-09T17:10:01.268Z"
   },
   {
    "duration": 1424,
    "start_time": "2024-07-09T17:10:01.350Z"
   },
   {
    "duration": 2872,
    "start_time": "2024-07-09T17:10:02.776Z"
   },
   {
    "duration": 69,
    "start_time": "2024-07-09T17:10:05.650Z"
   },
   {
    "duration": 6705,
    "start_time": "2024-07-09T17:10:05.721Z"
   },
   {
    "duration": 2222,
    "start_time": "2024-07-09T17:10:12.428Z"
   },
   {
    "duration": 25,
    "start_time": "2024-07-09T17:10:14.651Z"
   },
   {
    "duration": 3,
    "start_time": "2024-07-09T17:17:21.696Z"
   },
   {
    "duration": 2569,
    "start_time": "2024-07-09T17:17:21.701Z"
   },
   {
    "duration": 2454,
    "start_time": "2024-07-09T17:17:24.272Z"
   },
   {
    "duration": 2443,
    "start_time": "2024-07-09T17:17:26.728Z"
   },
   {
    "duration": 3126,
    "start_time": "2024-07-09T17:17:29.173Z"
   },
   {
    "duration": 3,
    "start_time": "2024-07-09T17:17:32.301Z"
   },
   {
    "duration": 1827,
    "start_time": "2024-07-09T17:17:32.306Z"
   },
   {
    "duration": 144,
    "start_time": "2024-07-09T17:17:34.135Z"
   },
   {
    "duration": 43,
    "start_time": "2024-07-09T17:17:34.281Z"
   },
   {
    "duration": 40,
    "start_time": "2024-07-09T17:17:34.325Z"
   },
   {
    "duration": 7,
    "start_time": "2024-07-09T17:17:34.366Z"
   },
   {
    "duration": 26,
    "start_time": "2024-07-09T17:17:34.375Z"
   },
   {
    "duration": 17,
    "start_time": "2024-07-09T17:17:34.403Z"
   },
   {
    "duration": 2006,
    "start_time": "2024-07-09T17:17:34.423Z"
   },
   {
    "duration": 1173,
    "start_time": "2024-07-09T17:17:36.431Z"
   },
   {
    "duration": 598,
    "start_time": "2024-07-09T17:17:37.606Z"
   },
   {
    "duration": 384,
    "start_time": "2024-07-09T17:17:38.205Z"
   },
   {
    "duration": 981,
    "start_time": "2024-07-09T17:17:38.591Z"
   },
   {
    "duration": 4,
    "start_time": "2024-07-09T17:17:39.573Z"
   },
   {
    "duration": 4325,
    "start_time": "2024-07-09T17:17:39.579Z"
   },
   {
    "duration": 22,
    "start_time": "2024-07-09T17:17:43.905Z"
   },
   {
    "duration": 29,
    "start_time": "2024-07-09T17:17:43.928Z"
   },
   {
    "duration": 1443,
    "start_time": "2024-07-09T17:17:43.959Z"
   },
   {
    "duration": 2812,
    "start_time": "2024-07-09T17:17:45.404Z"
   },
   {
    "duration": 76,
    "start_time": "2024-07-09T17:17:48.218Z"
   },
   {
    "duration": 6676,
    "start_time": "2024-07-09T17:17:48.296Z"
   },
   {
    "duration": 2103,
    "start_time": "2024-07-09T17:17:54.973Z"
   },
   {
    "duration": 19,
    "start_time": "2024-07-09T17:17:57.078Z"
   },
   {
    "duration": 3,
    "start_time": "2024-07-09T17:21:22.886Z"
   },
   {
    "duration": 2505,
    "start_time": "2024-07-09T17:21:22.891Z"
   },
   {
    "duration": 2504,
    "start_time": "2024-07-09T17:21:25.398Z"
   },
   {
    "duration": 2477,
    "start_time": "2024-07-09T17:21:27.904Z"
   },
   {
    "duration": 3054,
    "start_time": "2024-07-09T17:21:30.384Z"
   },
   {
    "duration": 3,
    "start_time": "2024-07-09T17:21:33.440Z"
   },
   {
    "duration": 1758,
    "start_time": "2024-07-09T17:21:33.444Z"
   },
   {
    "duration": 159,
    "start_time": "2024-07-09T17:21:35.203Z"
   },
   {
    "duration": 50,
    "start_time": "2024-07-09T17:21:35.364Z"
   },
   {
    "duration": 9,
    "start_time": "2024-07-09T17:21:35.416Z"
   },
   {
    "duration": 10,
    "start_time": "2024-07-09T17:21:35.426Z"
   },
   {
    "duration": 31,
    "start_time": "2024-07-09T17:21:35.437Z"
   },
   {
    "duration": 15,
    "start_time": "2024-07-09T17:21:35.469Z"
   },
   {
    "duration": 2078,
    "start_time": "2024-07-09T17:21:35.487Z"
   },
   {
    "duration": 1167,
    "start_time": "2024-07-09T17:21:37.566Z"
   },
   {
    "duration": 627,
    "start_time": "2024-07-09T17:21:38.734Z"
   },
   {
    "duration": 396,
    "start_time": "2024-07-09T17:21:39.362Z"
   },
   {
    "duration": 1077,
    "start_time": "2024-07-09T17:21:39.760Z"
   },
   {
    "duration": 7,
    "start_time": "2024-07-09T17:21:40.839Z"
   },
   {
    "duration": 4299,
    "start_time": "2024-07-09T17:21:40.865Z"
   },
   {
    "duration": 22,
    "start_time": "2024-07-09T17:21:45.166Z"
   },
   {
    "duration": 41,
    "start_time": "2024-07-09T17:21:45.190Z"
   },
   {
    "duration": 1584,
    "start_time": "2024-07-09T17:21:45.233Z"
   },
   {
    "duration": 2944,
    "start_time": "2024-07-09T17:21:46.818Z"
   },
   {
    "duration": 61,
    "start_time": "2024-07-09T17:21:49.764Z"
   },
   {
    "duration": 6171,
    "start_time": "2024-07-09T17:21:49.827Z"
   },
   {
    "duration": 2204,
    "start_time": "2024-07-09T17:21:56.000Z"
   },
   {
    "duration": 23,
    "start_time": "2024-07-09T17:21:58.206Z"
   },
   {
    "duration": 3,
    "start_time": "2024-07-09T17:29:07.170Z"
   },
   {
    "duration": 2648,
    "start_time": "2024-07-09T17:29:07.184Z"
   },
   {
    "duration": 2489,
    "start_time": "2024-07-09T17:29:09.835Z"
   },
   {
    "duration": 2512,
    "start_time": "2024-07-09T17:29:12.325Z"
   },
   {
    "duration": 3019,
    "start_time": "2024-07-09T17:29:14.840Z"
   },
   {
    "duration": 3,
    "start_time": "2024-07-09T17:29:17.862Z"
   },
   {
    "duration": 1803,
    "start_time": "2024-07-09T17:29:17.867Z"
   },
   {
    "duration": 150,
    "start_time": "2024-07-09T17:29:19.672Z"
   },
   {
    "duration": 72,
    "start_time": "2024-07-09T17:29:19.824Z"
   },
   {
    "duration": 7,
    "start_time": "2024-07-09T17:29:19.898Z"
   },
   {
    "duration": 7,
    "start_time": "2024-07-09T17:29:19.907Z"
   },
   {
    "duration": 9,
    "start_time": "2024-07-09T17:29:19.916Z"
   },
   {
    "duration": 40,
    "start_time": "2024-07-09T17:29:19.927Z"
   },
   {
    "duration": 2087,
    "start_time": "2024-07-09T17:29:19.969Z"
   },
   {
    "duration": 1163,
    "start_time": "2024-07-09T17:29:22.065Z"
   },
   {
    "duration": 648,
    "start_time": "2024-07-09T17:29:23.230Z"
   },
   {
    "duration": 468,
    "start_time": "2024-07-09T17:29:23.880Z"
   },
   {
    "duration": 970,
    "start_time": "2024-07-09T17:29:24.350Z"
   },
   {
    "duration": 5,
    "start_time": "2024-07-09T17:29:25.322Z"
   },
   {
    "duration": 4268,
    "start_time": "2024-07-09T17:29:25.328Z"
   },
   {
    "duration": 24,
    "start_time": "2024-07-09T17:29:29.597Z"
   },
   {
    "duration": 37,
    "start_time": "2024-07-09T17:29:29.623Z"
   },
   {
    "duration": 1321,
    "start_time": "2024-07-09T17:29:29.662Z"
   },
   {
    "duration": 2781,
    "start_time": "2024-07-09T17:29:30.985Z"
   },
   {
    "duration": 58,
    "start_time": "2024-07-09T17:29:33.767Z"
   },
   {
    "duration": 6444,
    "start_time": "2024-07-09T17:29:33.827Z"
   },
   {
    "duration": 2108,
    "start_time": "2024-07-09T17:29:40.273Z"
   },
   {
    "duration": 22,
    "start_time": "2024-07-09T17:29:42.383Z"
   },
   {
    "duration": 1169098,
    "start_time": "2024-07-09T17:29:42.407Z"
   },
   {
    "duration": 196,
    "start_time": "2024-07-09T17:49:11.507Z"
   },
   {
    "duration": 89,
    "start_time": "2024-07-09T17:49:11.705Z"
   },
   {
    "duration": 0,
    "start_time": "2024-07-09T17:49:11.796Z"
   },
   {
    "duration": 27,
    "start_time": "2024-07-09T17:58:55.096Z"
   }
  ],
  "colab": {
   "provenance": []
  },
  "kernelspec": {
   "display_name": "Python 3 (ipykernel)",
   "language": "python",
   "name": "python3"
  },
  "language_info": {
   "codemirror_mode": {
    "name": "ipython",
    "version": 3
   },
   "file_extension": ".py",
   "mimetype": "text/x-python",
   "name": "python",
   "nbconvert_exporter": "python",
   "pygments_lexer": "ipython3",
   "version": "3.11.5"
  },
  "toc": {
   "base_numbering": 1,
   "nav_menu": {},
   "number_sections": true,
   "sideBar": true,
   "skip_h1_title": true,
   "title_cell": "Table of Contents",
   "title_sidebar": "Contents",
   "toc_cell": false,
   "toc_position": {},
   "toc_section_display": true,
   "toc_window_display": true
  }
 },
 "nbformat": 4,
 "nbformat_minor": 4
}
